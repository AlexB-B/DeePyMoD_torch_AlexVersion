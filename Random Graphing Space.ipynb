{
 "cells": [
  {
   "cell_type": "code",
   "execution_count": 1,
   "metadata": {},
   "outputs": [],
   "source": [
    "import matplotlib.pyplot as plt\n",
    "plt.style.use('ggplot')\n",
    "import sympy as sym\n",
    "import math\n",
    "import numpy as np\n",
    "from IPython import display\n",
    "import time\n",
    "from scipy import integrate as integ\n",
    "import sys\n",
    "import time\n",
    "\n",
    "sys.path.append('src')\n",
    "import deepymod_torch.VE_datagen as VE_datagen"
   ]
  },
  {
   "cell_type": "code",
   "execution_count": 2,
   "metadata": {},
   "outputs": [],
   "source": [
    "# This is a function I have stolen from Pietro Battiston's answer at\n",
    "# https://stackoverflow.com/questions/10481990/matplotlib-axis-with-two-scales-shared-origin\n",
    "def align_yaxis(ax1, ax2):\n",
    "    \"\"\"Align zeros of the two axes, zooming them out by same ratio\"\"\"\n",
    "    axes = (ax1, ax2)\n",
    "    extrema = [ax.get_ylim() for ax in axes]\n",
    "    tops = [extr[1] / (extr[1] - extr[0]) for extr in extrema]\n",
    "    # Ensure that plots (intervals) are ordered bottom to top:\n",
    "    if tops[0] > tops[1]:\n",
    "        axes, extrema, tops = [list(reversed(l)) for l in (axes, extrema, tops)]\n",
    "\n",
    "    # How much would the plot overflow if we kept current zoom levels?\n",
    "    tot_span = tops[1] + 1 - tops[0]\n",
    "\n",
    "    b_new_t = extrema[0][0] + tot_span * (extrema[0][1] - extrema[0][0])\n",
    "    t_new_b = extrema[1][1] - tot_span * (extrema[1][1] - extrema[1][0])\n",
    "    axes[0].set_ylim(extrema[0][0], b_new_t)\n",
    "    axes[1].set_ylim(t_new_b, extrema[1][1])"
   ]
  },
  {
   "cell_type": "code",
   "execution_count": 13,
   "metadata": {},
   "outputs": [
    {
     "data": {
      "text/latex": [
       "$\\displaystyle \\mathcal{F}_{t}\\left[1\\right]\\left(\\frac{\\omega}{2 \\pi}\\right)$"
      ],
      "text/plain": [
       "FourierTransform(1, t, omega/(2*pi))"
      ]
     },
     "execution_count": 13,
     "metadata": {},
     "output_type": "execute_result"
    }
   ],
   "source": [
    "t = sym.symbols('t')\n",
    "expr = 1# + sym.sinc(t)\n",
    "expr_lambda = sym.lambdify(t, expr)\n",
    "\n",
    "f = sym.symbols('f')\n",
    "FT = sym.fourier_transform(expr, t, f)\n",
    "omega = sym.symbols('omega')\n",
    "FT_omega = FT.subs(f, omega/(2*sym.pi))\n",
    "FT_lambda = sym.lambdify(omega, FT_omega)"
   ]
  },
  {
   "cell_type": "code",
   "execution_count": 4,
   "metadata": {},
   "outputs": [],
   "source": [
    "sin_creator = lambda k: lambda x: np.sin(k*x)\n",
    "\n",
    "sinc_creator = lambda k: lambda x: np.sin(k*x)/(k*x)\n",
    "d_sinc_creator = lambda k: lambda x: (1/x)*(np.cos(k*x) - np.sin(k*x)/(k*x))\n",
    "d_d_sinc_creator = lambda k: lambda x: (-1/x)*(2*np.cos(k*x) + np.sin(k*x)*(k - 2/(k*x)))\n",
    "\n",
    "pseudo_sinc_creator = lambda k: lambda x: np.sin(k*x)/x\n",
    "d_pseudo_sinc_creator = lambda k: lambda x: (1/x)*(k*np.cos(k*x) - np.sin(k*x)/x)\n",
    "d_d_pseudo_sinc_creator = lambda k: lambda x: (-1/x)*(2*k*np.cos(k*x)/x + np.sin(k*x)*(k**2 - 2/(x**2)))"
   ]
  },
  {
   "cell_type": "code",
   "execution_count": 5,
   "metadata": {},
   "outputs": [],
   "source": [
    "x_1 = np.linspace(-30, 30, 5000)\n",
    "\n",
    "y_1 = d_d_sinc_creator(1)\n",
    "y_2 = d_d_sinc_creator(5)\n",
    "y_3 = d_d_sinc_creator(10)\n",
    "y = lambda x: expr_lambda(x)\n",
    "z = lambda x: FT_lambda(x)\n",
    "a = lambda x: input_expr(x)"
   ]
  },
  {
   "cell_type": "code",
   "execution_count": 8,
   "metadata": {},
   "outputs": [
    {
     "data": {
      "image/png": "[encoded data removed]",
      "text/plain": [
       "<Figure size 432x288 with 2 Axes>"
      ]
     },
     "metadata": {
      "needs_background": "light"
     },
     "output_type": "display_data"
    }
   ],
   "source": [
    "fig, ax1 = plt.subplots()\n",
    "\n",
    "plt.title('title')\n",
    "ax1.set_xlabel('x')\n",
    "\n",
    "#Set up Strain on first axis\n",
    "colour = 'blue'\n",
    "ax1.set_ylabel('y_1', color=colour)\n",
    "ax1.plot(x_1, y(x_1), color=colour)\n",
    "ax1.tick_params(axis='y', labelcolor=colour)\n",
    "\n",
    "#Create Second axis. twinx means that the new axes share the same x axis. twiny also exists.\n",
    "ax2 = ax1.twinx()\n",
    "\n",
    "#Set up Stress on second axis\n",
    "colour = 'red'\n",
    "ax2.set_ylabel('y_2', color=colour)  # we already handled the x-label with ax1\n",
    "ax2.plot(x_1, z(x_1), color=colour)\n",
    "ax2.tick_params(axis='y', labelcolor=colour)\n",
    "#ax2.set_ylim(ax1.get_ylim())\n",
    "\n",
    "#align_yaxis(ax1, ax2) # Function not of my design.\n",
    "\n",
    "fig.tight_layout()  # otherwise the right y-label is slightly clipped"
   ]
  },
  {
   "cell_type": "markdown",
   "metadata": {},
   "source": [
    "if statically displaying a plot (sometimes not necessary.....?)"
   ]
  },
  {
   "cell_type": "code",
   "execution_count": null,
   "metadata": {},
   "outputs": [],
   "source": [
    "plt.show()"
   ]
  },
  {
   "cell_type": "markdown",
   "metadata": {},
   "source": [
    "if dynamically updating"
   ]
  },
  {
   "cell_type": "code",
   "execution_count": null,
   "metadata": {},
   "outputs": [],
   "source": [
    "display.display(plt.gcf())"
   ]
  },
  {
   "cell_type": "markdown",
   "metadata": {},
   "source": [
    "then, to update (would have to be in same code block)"
   ]
  },
  {
   "cell_type": "code",
   "execution_count": null,
   "metadata": {},
   "outputs": [],
   "source": [
    "display.clear_output(wait=True)\n",
    "ax2.clear()\n",
    "\n",
    "colour = 'tab:red'\n",
    "ax2.set_ylabel('y_2', color='tab:red')  # we already handled the x-label with ax1\n",
    "ax2.plot(x, a(x), color='tab:red')\n",
    "# next line seems to have issues but should work.....\n",
    "#align_yaxis(ax1, ax2) # Function not of my design.\n",
    "\n",
    "display.display(plt.gcf())"
   ]
  }
 ],
 "metadata": {
  "kernelspec": {
   "display_name": "Python 3",
   "language": "python",
   "name": "python3"
  },
  "language_info": {
   "codemirror_mode": {
    "name": "ipython",
    "version": 3
   },
   "file_extension": ".py",
   "mimetype": "text/x-python",
   "name": "python",
   "nbconvert_exporter": "python",
   "pygments_lexer": "ipython3",
   "version": "3.6.9"
  }
 },
 "nbformat": 4,
 "nbformat_minor": 4
}
