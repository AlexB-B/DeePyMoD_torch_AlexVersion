{
 "cells": [
  {
   "cell_type": "markdown",
   "metadata": {},
   "source": [
    "# Development notebook for rewriting data generation process fresh, without heavy reliance on sympy methods"
   ]
  },
  {
   "cell_type": "code",
   "execution_count": 1,
   "metadata": {},
   "outputs": [],
   "source": [
    "import numpy as np\n",
    "import scipy.integrate as integ\n",
    "import sympy as sym"
   ]
  },
  {
   "cell_type": "code",
   "execution_count": 2,
   "metadata": {},
   "outputs": [],
   "source": [
    "def relax_kelvin(E_mods, viscs):\n",
    "    \n",
    "    E_mods_1plus_array = np.array(E_mods[1:]).reshape(-1,1)\n",
    "    viscs_array = np.array(viscs).reshape(-1,1)\n",
    "    \n",
    "    taus = viscs/E_mods_1plus_array\n",
    "    \n",
    "    relax_kelvin_lambda = lambda t: E_mods[0] + np.sum(E_mods_1plus_array*np.exp(-t/taus))\n",
    "    \n",
    "    return relax_kelvin_lambda"
   ]
  },
  {
   "cell_type": "code",
   "execution_count": 3,
   "metadata": {},
   "outputs": [],
   "source": [
    "def creep_kelvin(E_mods, viscs):\n",
    "    \n",
    "    E_mods_1plus_array = np.array(E_mods[1:]).reshape(-1,1)\n",
    "    viscs_array = np.array(viscs).reshape(-1,1)\n",
    "    \n",
    "    taus = viscs/E_mods_1plus_array\n",
    "    \n",
    "    creep_kelvin_lambda = lambda t: 1/E_mods[0] + np.sum((1-np.exp(-t/taus))/E_mods_1plus_array)\n",
    "    \n",
    "    return creep_kelvin_lambda"
   ]
  },
  {
   "cell_type": "code",
   "execution_count": 4,
   "metadata": {},
   "outputs": [],
   "source": [
    "def relax_creep_kelvin(E_mods, viscs, input_type):\n",
    "    \n",
    "    E_mods_1plus_array = np.array(E_mods[1:]).reshape(-1,1)\n",
    "    viscs_array = np.array(viscs).reshape(-1,1)\n",
    "    \n",
    "    taus = viscs/E_mods_1plus_array\n",
    "    \n",
    "    if input_type == 'Strain':\n",
    "        relax_creep_lambda = lambda t: E_mods[0] + np.sum(E_mods_1plus_array*np.exp(-t/taus))\n",
    "    elif input_type == 'Stress':\n",
    "        relax_creep_lambda = lambda t: 1/E_mods[0] + np.sum((1-np.exp(-t/taus))/E_mods_1plus_array)\n",
    "    else:\n",
    "        print('Incorrect input_type')\n",
    "        relax_creep_lambda = False\n",
    "    \n",
    "    return relax_creep_lambda"
   ]
  },
  {
   "cell_type": "code",
   "execution_count": 9,
   "metadata": {},
   "outputs": [],
   "source": [
    "def calculate_strain_stress(input_type, time_array, input_expr, E_mods, viscs, D_input_lambda=None):\n",
    "    \n",
    "    if D_input_lambda:\n",
    "        input_lambda = input_expr\n",
    "    else:\n",
    "        t = sym.symbols('t', real=True)\n",
    "        D_input_expr = input_expr.diff(t)\n",
    "        \n",
    "        input_lambda = sym.lambdify(t, input_expr)\n",
    "        D_input_lambda = sym.lambdify(t, D_input_expr)\n",
    "    \n",
    "    relax_creep_lambda = relax_creep_kelvin(E_mods, viscs, input_type)\n",
    "    \n",
    "    integrand_lambda = lambda x, t: relax_creep_lambda(t-x)*D_input_lambda(x)\n",
    "    integral_lambda = lambda t: integ.quad(integrand_lambda, 0, t, args=(t))[0]\n",
    "    \n",
    "    output_array = np.array([])\n",
    "    input_array = np.array([])\n",
    "    for time_point in time_array:\n",
    "        first_term = input_lambda(0)*relax_creep_lambda(time_point)\n",
    "        second_term = integral_lambda(time_point)\n",
    "        output_array = np.append(output_array, first_term + second_term)\n",
    "        input_array = np.append(input_array, input_lambda(time_point))\n",
    "    \n",
    "    if input_type == 'Strain':\n",
    "        strain_array = input_array\n",
    "        stress_array = output_array\n",
    "    else:\n",
    "        strain_array = output_array\n",
    "        stress_array = input_array\n",
    "        \n",
    "    strain_array = strain_array.reshape(time_array.shape)\n",
    "    stress_array = stress_array.reshape(time_array.shape)\n",
    "    \n",
    "    return strain_array, stress_array"
   ]
  },
  {
   "cell_type": "code",
   "execution_count": 10,
   "metadata": {},
   "outputs": [
    {
     "data": {
      "text/plain": [
       "\"\\ndef calculate_strain_stress(input_type, time_array, input_lambda, D_input_lambda, E_mods, viscs):\\n    \\n    \\n    if input_type == 'Strain':\\n        relax_creep_lambda = relax_kelvin(E_mods, viscs)\\n    elif input_type = 'Stress':\\n        relax_creep_lambda = creep_kelvin(E_mods, viscs)\\n    else:\\n        print('Incorrect input_type')\\n    \\n    integrand_lambda = lambda x, t: relax_creep_lambda(t-x)*D_input_lambda(x)\\n    integral_lambda = lambda t: integ.quad(integrand_lambda, 0, t, args=(t))\\n    \\n    first_term = input_lambda(time_array)*relax_creep_lambda(time_array)\\n    second_term = integral_lambda(time_array)\\n    \\n    output = first_term + second_term\\n    \\n    return output\\n\""
      ]
     },
     "execution_count": 10,
     "metadata": {},
     "output_type": "execute_result"
    }
   ],
   "source": [
    "'''\n",
    "def calculate_strain_stress(input_type, time_array, input_lambda, D_input_lambda, E_mods, viscs):\n",
    "    \n",
    "    \n",
    "    if input_type == 'Strain':\n",
    "        relax_creep_lambda = relax_kelvin(E_mods, viscs)\n",
    "    elif input_type = 'Stress':\n",
    "        relax_creep_lambda = creep_kelvin(E_mods, viscs)\n",
    "    else:\n",
    "        print('Incorrect input_type')\n",
    "    \n",
    "    integrand_lambda = lambda x, t: relax_creep_lambda(t-x)*D_input_lambda(x)\n",
    "    integral_lambda = lambda t: integ.quad(integrand_lambda, 0, t, args=(t))\n",
    "    \n",
    "    first_term = input_lambda(time_array)*relax_creep_lambda(time_array)\n",
    "    second_term = integral_lambda(time_array)\n",
    "    \n",
    "    output = first_term + second_term\n",
    "    \n",
    "    return output\n",
    "'''"
   ]
  },
  {
   "cell_type": "code",
   "execution_count": 11,
   "metadata": {},
   "outputs": [],
   "source": [
    "E = [1,10,1]\n",
    "eta = [20,20]\n",
    "t = sym.symbols('t', real=True)\n",
    "strain_expr = sym.sin(t)\n",
    "input_type = 'Strain'\n",
    "time_array = np.linspace(0.001, 30, 5000)"
   ]
  },
  {
   "cell_type": "code",
   "execution_count": 12,
   "metadata": {},
   "outputs": [],
   "source": [
    "strain_array, stress_array = calculate_strain_stress(input_type, time_array, strain_expr, E, eta)"
   ]
  },
  {
   "cell_type": "code",
   "execution_count": 14,
   "metadata": {},
   "outputs": [],
   "source": [
    "import matplotlib.pyplot as plt\n",
    "plt.style.use('ggplot')"
   ]
  },
  {
   "cell_type": "code",
   "execution_count": 15,
   "metadata": {},
   "outputs": [
    {
     "data": {
      "text/plain": [
       "[<matplotlib.lines.Line2D at 0x7fc48ef3f2b0>]"
      ]
     },
     "execution_count": 15,
     "metadata": {},
     "output_type": "execute_result"
    },
    {
     "data": {
      "image/png": "[encoded data removed]",
      "text/plain": [
       "<Figure size 432x288 with 1 Axes>"
      ]
     },
     "metadata": {
      "needs_background": "light"
     },
     "output_type": "display_data"
    }
   ],
   "source": [
    "plt.plot(strain_array)\n",
    "plt.plot(stress_array)"
   ]
  },
  {
   "cell_type": "code",
   "execution_count": null,
   "metadata": {},
   "outputs": [],
   "source": []
  }
 ],
 "metadata": {
  "kernelspec": {
   "display_name": "Python 3",
   "language": "python",
   "name": "python3"
  },
  "language_info": {
   "codemirror_mode": {
    "name": "ipython",
    "version": 3
   },
   "file_extension": ".py",
   "mimetype": "text/x-python",
   "name": "python",
   "nbconvert_exporter": "python",
   "pygments_lexer": "ipython3",
   "version": "3.6.9"
  }
 },
 "nbformat": 4,
 "nbformat_minor": 4
}
