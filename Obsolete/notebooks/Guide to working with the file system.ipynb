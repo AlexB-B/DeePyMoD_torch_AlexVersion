{
 "cells": [
  {
   "cell_type": "markdown",
   "metadata": {},
   "source": [
    "# Guide by demonstration of some fetures for saving data and moving it around"
   ]
  },
  {
   "cell_type": "markdown",
   "metadata": {},
   "source": [
    "Need to run the numpy code a bit later to save the file used to demonstrated the first bit"
   ]
  },
  {
   "cell_type": "markdown",
   "metadata": {},
   "source": [
    "## Reading files in general"
   ]
  },
  {
   "cell_type": "markdown",
   "metadata": {},
   "source": [
    "Generally, files are just read into dumb strings. If we want to store this as anything fancy, like a list, we need to use better modules, like the 'csv' module or NumPy, or design our own loops."
   ]
  },
  {
   "cell_type": "markdown",
   "metadata": {},
   "source": [
    "Read the whole file and output as a string. The '\\n' characters for line endings do seem to have been understood. The 'r' means read only."
   ]
  },
  {
   "cell_type": "code",
   "execution_count": 43,
   "metadata": {},
   "outputs": [
    {
     "name": "stdout",
     "output_type": "stream",
     "text": [
      "# Births, Deaths, Rebirths\n",
      "8.000000000000000000e+00,8.000000000000000000e+00,8.000000000000000000e+00\n",
      "8.000000000000000000e+00,8.000000000000000000e+00,8.000000000000000000e+00\n",
      "8.000000000000000000e+00,8.000000000000000000e+00,8.000000000000000000e+00\n",
      "# Bs, Ds, RBs\n",
      "\n"
     ]
    }
   ],
   "source": [
    "filename = \"myarray.csv\"\n",
    "\n",
    "with open(filename, 'r') as filehandle:\n",
    "    filecontent = filehandle.read()\n",
    "    print (filecontent)"
   ]
  },
  {
   "cell_type": "markdown",
   "metadata": {},
   "source": [
    "read line by line. the example explicitely shows the closing of the file, usually handled by 'with'. The edits to a file are neveractually written to the disk until the file is closed apparently (this may be done by leaving a `with` block"
   ]
  },
  {
   "cell_type": "code",
   "execution_count": 36,
   "metadata": {},
   "outputs": [
    {
     "name": "stdout",
     "output_type": "stream",
     "text": [
      "# Births, Deaths, Rebirths\n",
      "\n",
      "8.000000000000000000e+00,8.000000000000000000e+00,8.000000000000000000e+00\n",
      "\n",
      "8.000000000000000000e+00,8.000000000000000000e+00,8.000000000000000000e+00\n",
      "\n",
      "8.000000000000000000e+00,8.000000000000000000e+00,8.000000000000000000e+00\n",
      "\n",
      "# Bs, Ds, RBs\n",
      "\n"
     ]
    }
   ],
   "source": [
    "filename = \"myarray.csv\"\n",
    "\n",
    "# open the file for reading\n",
    "filehandle = open(filename, 'r')\n",
    "while True:\n",
    "    # read a single line\n",
    "    line = filehandle.readline()\n",
    "    if not line:\n",
    "        break\n",
    "    print(line)\n",
    "\n",
    "# close the pointer to that file\n",
    "filehandle.close()"
   ]
  },
  {
   "cell_type": "markdown",
   "metadata": {},
   "source": [
    "or, as the with statement handles closing for us."
   ]
  },
  {
   "cell_type": "code",
   "execution_count": 38,
   "metadata": {},
   "outputs": [
    {
     "name": "stdout",
     "output_type": "stream",
     "text": [
      "# Births, Deaths, Rebirths\n",
      "\n",
      "8.000000000000000000e+00,8.000000000000000000e+00,8.000000000000000000e+00\n",
      "\n",
      "8.000000000000000000e+00,8.000000000000000000e+00,8.000000000000000000e+00\n",
      "\n",
      "8.000000000000000000e+00,8.000000000000000000e+00,8.000000000000000000e+00\n",
      "\n",
      "# Bs, Ds, RBs\n",
      "\n"
     ]
    }
   ],
   "source": [
    "filename = \"myarray.csv\"\n",
    "\n",
    "# open the file for reading\n",
    "with open(filename, 'r') as filehandle:\n",
    "    while True:\n",
    "        # read a single line\n",
    "        line = filehandle.readline()\n",
    "        if not line:\n",
    "            break\n",
    "        print(line)"
   ]
  },
  {
   "cell_type": "markdown",
   "metadata": {},
   "source": [
    "or, as the file is automatically made iterable over its lines"
   ]
  },
  {
   "cell_type": "code",
   "execution_count": 39,
   "metadata": {
    "scrolled": true
   },
   "outputs": [
    {
     "name": "stdout",
     "output_type": "stream",
     "text": [
      "# Births, Deaths, Rebirths\n",
      "\n",
      "8.000000000000000000e+00,8.000000000000000000e+00,8.000000000000000000e+00\n",
      "\n",
      "8.000000000000000000e+00,8.000000000000000000e+00,8.000000000000000000e+00\n",
      "\n",
      "8.000000000000000000e+00,8.000000000000000000e+00,8.000000000000000000e+00\n",
      "\n",
      "# Bs, Ds, RBs\n",
      "\n"
     ]
    }
   ],
   "source": [
    "filename = \"myarray.csv\"\n",
    "\n",
    "for line in open(filename, 'r'):\n",
    "    print(line)"
   ]
  },
  {
   "cell_type": "markdown",
   "metadata": {},
   "source": [
    "or, automatically taking it line by line and saving the result in a list, use:"
   ]
  },
  {
   "cell_type": "code",
   "execution_count": 45,
   "metadata": {},
   "outputs": [
    {
     "name": "stdout",
     "output_type": "stream",
     "text": [
      "['# Births, Deaths, Rebirths\\n', '8.000000000000000000e+00,8.000000000000000000e+00,8.000000000000000000e+00\\n', '8.000000000000000000e+00,8.000000000000000000e+00,8.000000000000000000e+00\\n', '8.000000000000000000e+00,8.000000000000000000e+00,8.000000000000000000e+00\\n', '# Bs, Ds, RBs\\n']\n"
     ]
    }
   ],
   "source": [
    "filename = \"myarray.csv\"\n",
    "\n",
    "with open(filename, 'r') as filehandle:\n",
    "    filecontent = filehandle.readlines()\n",
    "    print (filecontent)"
   ]
  },
  {
   "cell_type": "markdown",
   "metadata": {},
   "source": [
    "Pull out a specific line:"
   ]
  },
  {
   "cell_type": "code",
   "execution_count": 42,
   "metadata": {},
   "outputs": [
    {
     "name": "stdout",
     "output_type": "stream",
     "text": [
      "line 3 of myarray.csv is: \n",
      "8.000000000000000000e+00,8.000000000000000000e+00,8.000000000000000000e+00\n",
      "\n"
     ]
    }
   ],
   "source": [
    "filename = \"myarray.csv\"\n",
    "\n",
    "# define the line number\n",
    "line_number = 3\n",
    "\n",
    "print(\"line %i of %s is: \" % (line_number, filename))\n",
    "\n",
    "with open(filename, 'r') as filehandle:\n",
    "    current_line = 1\n",
    "    for line in filehandle:\n",
    "        if current_line == line_number:\n",
    "            print(line)\n",
    "            break\n",
    "        current_line += 1"
   ]
  },
  {
   "cell_type": "markdown",
   "metadata": {},
   "source": [
    "## Writing files in General"
   ]
  },
  {
   "cell_type": "markdown",
   "metadata": {},
   "source": [
    "Opening files with the writable 'w' flag will create a file if none exists in the location specified, or entirelty overwrite if it already exists. Use 'a' to indicate we want to append our input to the file instead."
   ]
  },
  {
   "cell_type": "code",
   "execution_count": 49,
   "metadata": {},
   "outputs": [],
   "source": [
    "filehandle = open('helloworld.txt', 'w')\n",
    "filehandle.write('Hello, World!\\n')\n",
    "filehandle.close()"
   ]
  },
  {
   "cell_type": "markdown",
   "metadata": {},
   "source": [
    "or"
   ]
  },
  {
   "cell_type": "code",
   "execution_count": 56,
   "metadata": {},
   "outputs": [],
   "source": [
    "with open('helloworld.txt', 'w') as filehandle:\n",
    "    filehandle.write('Hello, world - with with!\\n')"
   ]
  },
  {
   "cell_type": "markdown",
   "metadata": {},
   "source": [
    "or, to write lines, line by line, and using each line as a different element of a list:\n",
    "\n",
    "Note, without the funny business of the list comprehension, the elements of the list would simply by concatenated on a single line."
   ]
  },
  {
   "cell_type": "code",
   "execution_count": 57,
   "metadata": {},
   "outputs": [],
   "source": [
    "with open('helloworld.txt', 'w') as filehandle:\n",
    "    filebuffer = [\"a line of text\", \"another line of text\", \"a third line\"]\n",
    "    filehandle.writelines(\"%s\\n\" % line for line in filebuffer)"
   ]
  },
  {
   "cell_type": "markdown",
   "metadata": {},
   "source": [
    "Using the append modality"
   ]
  },
  {
   "cell_type": "code",
   "execution_count": 58,
   "metadata": {},
   "outputs": [],
   "source": [
    "with open('helloworld.txt', 'a') as filehandle:\n",
    "    filehandle.write('\\n' + 'Hello, world!\\n')"
   ]
  },
  {
   "cell_type": "markdown",
   "metadata": {},
   "source": [
    "## Writing and reading NumPy arrays"
   ]
  },
  {
   "cell_type": "code",
   "execution_count": 1,
   "metadata": {},
   "outputs": [],
   "source": [
    "import numpy as np"
   ]
  },
  {
   "cell_type": "code",
   "execution_count": null,
   "metadata": {},
   "outputs": [],
   "source": [
    "test_array = np.full((3,3), 10)\n",
    "print(test_array)"
   ]
  },
  {
   "cell_type": "markdown",
   "metadata": {},
   "source": [
    "The header and footer fields are kind of useless. Just adds comments at the start and end. the comments are recognised by using a # symbol."
   ]
  },
  {
   "cell_type": "code",
   "execution_count": null,
   "metadata": {},
   "outputs": [],
   "source": [
    "np.savetxt(\"myarray.csv\", test_array, delimiter=',', header='Births, Deaths, Rebirths', footer='Bs, Ds, RBs')"
   ]
  },
  {
   "cell_type": "markdown",
   "metadata": {},
   "source": [
    "Use '../myarray.csv' for files in the directory above the cwd, and 'test_folder/myarray.csv' for files in a subfolder of the cwd."
   ]
  },
  {
   "cell_type": "code",
   "execution_count": 3,
   "metadata": {
    "scrolled": true
   },
   "outputs": [
    {
     "name": "stdout",
     "output_type": "stream",
     "text": [
      "[[10. 10. 10.]\n",
      " [10. 10. 10.]\n",
      " [10. 10. 10.]]\n"
     ]
    }
   ],
   "source": [
    "test_read = np.loadtxt('myarray.csv', delimiter=',')\n",
    "print(test_read)"
   ]
  },
  {
   "cell_type": "markdown",
   "metadata": {},
   "source": [
    "## Managing directories"
   ]
  },
  {
   "cell_type": "markdown",
   "metadata": {},
   "source": [
    "Getting the CWD"
   ]
  },
  {
   "cell_type": "code",
   "execution_count": 2,
   "metadata": {},
   "outputs": [],
   "source": [
    "import os"
   ]
  },
  {
   "cell_type": "code",
   "execution_count": 25,
   "metadata": {
    "scrolled": true
   },
   "outputs": [
    {
     "name": "stdout",
     "output_type": "stream",
     "text": [
      "The current working directory is /Users/alexanderbrandon-bravo/OneDrive/Documents/Paris - CRI/Early Learning\n"
     ]
    }
   ],
   "source": [
    "path = os.getcwd()\n",
    "print (\"The current working directory is %s\" % path)"
   ]
  },
  {
   "cell_type": "markdown",
   "metadata": {},
   "source": [
    "Changing directory"
   ]
  },
  {
   "cell_type": "code",
   "execution_count": 16,
   "metadata": {
    "scrolled": true
   },
   "outputs": [
    {
     "name": "stdout",
     "output_type": "stream",
     "text": [
      "/Users/alexanderbrandon-bravo/OneDrive/Documents/Paris - CRI/Early Learning\n"
     ]
    }
   ],
   "source": [
    "os.chdir('../')\n",
    "print(os.getcwd())"
   ]
  },
  {
   "cell_type": "code",
   "execution_count": 20,
   "metadata": {
    "scrolled": true
   },
   "outputs": [
    {
     "name": "stdout",
     "output_type": "stream",
     "text": [
      "/Users/alexanderbrandon-bravo/OneDrive/Documents/Paris - CRI/Early Learning\n"
     ]
    }
   ],
   "source": [
    "os.chdir(path)\n",
    "print(os.getcwd())"
   ]
  },
  {
   "cell_type": "markdown",
   "metadata": {},
   "source": [
    "Careful: Changing directory in a file called by this file changes the CWD of this file."
   ]
  },
  {
   "cell_type": "markdown",
   "metadata": {},
   "source": [
    "The code in the called file is\n",
    "\n",
    "\n",
    "```\n",
    "import os\n",
    "\n",
    "print(os.getcwd())\n",
    "\n",
    "os.chdir(''../../')\n",
    "\n",
    "print(os.getcwd())\n",
    "```\n",
    "\n",
    "Notice the use of `../../` to back up 2 folders."
   ]
  },
  {
   "cell_type": "markdown",
   "metadata": {},
   "source": [
    "Below I also demonstrate the syntax for calling a file to be run from an ipython environment like this notebook. The `.py` is optional. Additionally, the `\"\"` are optional in the case that the file being run is already in teh CWD. In the case below, I have taken the file and put it in a subfolder, and so teh `\"\"` are needed to describe the route to the file. Always use `\"\"` not `''` as the latter is not supported on windows.\n",
    "\n",
    "The `%` indicates this is not actually a python script command, but an IPython console command. This is why the arguements such as `-n` and `-i` are specified in this strange way. The `-n` indicates that the name of the location this file is executed in should be the CWD, not and empty one, and the `-i` indicates that variables previously defined should be accessible to the script (run like a script, not a function)."
   ]
  },
  {
   "cell_type": "code",
   "execution_count": 30,
   "metadata": {},
   "outputs": [
    {
     "name": "stdout",
     "output_type": "stream",
     "text": [
      "/Users/alexanderbrandon-bravo/OneDrive/Documents/Paris - CRI/Early Learning\n",
      "/Users/alexanderbrandon-bravo/OneDrive/Documents\n",
      "/Users/alexanderbrandon-bravo/OneDrive/Documents\n",
      "/Users/alexanderbrandon-bravo/OneDrive/Documents/Paris - CRI/Early Learning\n"
     ]
    }
   ],
   "source": [
    "%run -n -i \"SubFolder_for_Testing_CWD/Testing_CWD.py\"\n",
    "print(os.getcwd())\n",
    "os.chdir(path)\n",
    "print(os.getcwd())"
   ]
  },
  {
   "cell_type": "markdown",
   "metadata": {},
   "source": [
    "The change to the CWD is carried through whether the file is run directly as a script, or imported and a function run from it.\n",
    "\n",
    "The code in the function here is the same as the script except it backs up only one folder."
   ]
  },
  {
   "cell_type": "code",
   "execution_count": 31,
   "metadata": {},
   "outputs": [],
   "source": [
    "import Testing_CWD_importing_functions"
   ]
  },
  {
   "cell_type": "code",
   "execution_count": 34,
   "metadata": {},
   "outputs": [
    {
     "name": "stdout",
     "output_type": "stream",
     "text": [
      "/Users/alexanderbrandon-bravo/OneDrive/Documents/Paris - CRI/Early Learning\n",
      "/Users/alexanderbrandon-bravo/OneDrive/Documents/Paris - CRI\n",
      "/Users/alexanderbrandon-bravo/OneDrive/Documents/Paris - CRI\n",
      "/Users/alexanderbrandon-bravo/OneDrive/Documents/Paris - CRI/Early Learning\n"
     ]
    }
   ],
   "source": [
    "Testing_CWD_importing_functions.test()\n",
    "print(os.getcwd())\n",
    "os.chdir(path)\n",
    "print(os.getcwd())"
   ]
  },
  {
   "cell_type": "markdown",
   "metadata": {},
   "source": [
    "## Creating and deleting folders"
   ]
  },
  {
   "cell_type": "markdown",
   "metadata": {},
   "source": [
    "If tmp does not already exist, this will fail.\n",
    "If a new folder in the current working directory is required, no slashes are necessary.\n",
    "eg `path = \"tmp\"`"
   ]
  },
  {
   "cell_type": "code",
   "execution_count": 12,
   "metadata": {},
   "outputs": [
    {
     "name": "stdout",
     "output_type": "stream",
     "text": [
      "Successfully created the directory tmp/tmp2 \n"
     ]
    }
   ],
   "source": [
    "# define the name of the directory to be created\n",
    "\n",
    "path = \"tmp/tmp2\"\n",
    "\n",
    "try:\n",
    "    os.mkdir(path)\n",
    "except OSError:\n",
    "    print (\"Creation of the directory %s failed\" % path)\n",
    "else:\n",
    "    print (\"Successfully created the directory %s \" % path)"
   ]
  },
  {
   "cell_type": "markdown",
   "metadata": {},
   "source": [
    "To create multiple directories, use:"
   ]
  },
  {
   "cell_type": "code",
   "execution_count": 16,
   "metadata": {},
   "outputs": [
    {
     "name": "stdout",
     "output_type": "stream",
     "text": [
      "Successfully created the directory Multiple/at/once\n"
     ]
    }
   ],
   "source": [
    "# define the name of the directory to be created\n",
    "path = \"Multiple/at/once\"\n",
    "\n",
    "try:\n",
    "    os.makedirs(path)\n",
    "except OSError:\n",
    "    print (\"Creation of the directory %s failed\" % path)\n",
    "else:\n",
    "    print (\"Successfully created the directory %s\" % path)"
   ]
  },
  {
   "cell_type": "markdown",
   "metadata": {},
   "source": [
    "You can actually use this generally as it is possible to create one extra folder within a set of already created folders:"
   ]
  },
  {
   "cell_type": "code",
   "execution_count": 17,
   "metadata": {
    "scrolled": true
   },
   "outputs": [
    {
     "name": "stdout",
     "output_type": "stream",
     "text": [
      "Successfully created the directory Multiple/at/once/again\n"
     ]
    }
   ],
   "source": [
    "# define the name of the directory to be created\n",
    "path = \"Multiple/at/once/again\"\n",
    "\n",
    "try:\n",
    "    os.makedirs(path)\n",
    "except OSError:\n",
    "    print (\"Creation of the directory %s failed\" % path)\n",
    "else:\n",
    "    print (\"Successfully created the directory %s\" % path)"
   ]
  },
  {
   "cell_type": "markdown",
   "metadata": {},
   "source": [
    "The below demonstrates both a temporary file, which is automatically put into a temporary directory of default name, as well as the utility of the with statement. The point is the with statement defines, temporarily, some quantities, which are forgotten once the indented section is executed."
   ]
  },
  {
   "cell_type": "code",
   "execution_count": 18,
   "metadata": {},
   "outputs": [
    {
     "name": "stdout",
     "output_type": "stream",
     "text": [
      "The created temporary directory is /var/folders/qc/fg6mhgbd5ld9fy106vr34fn00000gp/T/tmpi24yxmdy\n"
     ]
    }
   ],
   "source": [
    "import tempfile\n",
    "\n",
    "# create a temporary directory\n",
    "with tempfile.TemporaryDirectory() as directory:\n",
    "    print('The created temporary directory is %s' % directory)\n",
    "\n",
    "# directory and its contents have been removed by this point"
   ]
  },
  {
   "cell_type": "markdown",
   "metadata": {},
   "source": [
    "`rmdir()` requires a path string that contains the directory name, and only deletes the deepest entry in the path string. Note that this only works when the directory is entirely empty. If it is not empty then an `OSError` is raised. "
   ]
  },
  {
   "cell_type": "code",
   "execution_count": 19,
   "metadata": {},
   "outputs": [
    {
     "name": "stdout",
     "output_type": "stream",
     "text": [
      "Successfully deleted the directory /Users/alexanderbrandon-bravo/Desktop/Test_Folder/Multiple/at/once/again\n"
     ]
    }
   ],
   "source": [
    "path = \"/Users/alexanderbrandon-bravo/Desktop/Test_Folder/Multiple/at/once/again\"\n",
    "\n",
    "try:\n",
    "    os.rmdir(path)\n",
    "except OSError:\n",
    "    print (\"Deletion of the directory %s failed\" % path)\n",
    "else:\n",
    "    print (\"Successfully deleted the directory %s\" % path)"
   ]
  },
  {
   "cell_type": "markdown",
   "metadata": {},
   "source": [
    "Notice the use of the full directory here. This is triggered to be the case by opening the string with a `/`. Alternatively, something like the following would also have been valid:"
   ]
  },
  {
   "cell_type": "code",
   "execution_count": 51,
   "metadata": {},
   "outputs": [
    {
     "name": "stdout",
     "output_type": "stream",
     "text": [
      "Successfully deleted the directory tmp/tmp2\n"
     ]
    }
   ],
   "source": [
    "path = \"tmp/tmp2\"\n",
    "\n",
    "try:\n",
    "    os.rmdir(path)\n",
    "except OSError:\n",
    "    print (\"Deletion of the directory %s failed\" % path)\n",
    "else:\n",
    "    print (\"Successfully deleted the directory %s\" % path)"
   ]
  },
  {
   "cell_type": "markdown",
   "metadata": {},
   "source": [
    "For some reason, subsequently deleting the parent folder fails...."
   ]
  },
  {
   "cell_type": "code",
   "execution_count": 52,
   "metadata": {},
   "outputs": [
    {
     "name": "stdout",
     "output_type": "stream",
     "text": [
      "Deletion of the directory tmp failed\n"
     ]
    }
   ],
   "source": [
    "path = \"tmp\"\n",
    "\n",
    "try:\n",
    "    os.rmdir(path)\n",
    "except OSError:\n",
    "    print(\"Deletion of the directory %s failed\" % path)\n",
    "else:\n",
    "    print(\"Successfully deleted the directory %s\" % path)"
   ]
  },
  {
   "cell_type": "markdown",
   "metadata": {},
   "source": [
    "Additionally,\n",
    "\n",
    "`os.remove()` removes a file.\n",
    "\n",
    "`shutil.rmtree()` deletes a directory and all its contents. and will delete more than just the deepest entry in the path string."
   ]
  },
  {
   "cell_type": "code",
   "execution_count": 53,
   "metadata": {},
   "outputs": [],
   "source": [
    "import shutil"
   ]
  },
  {
   "cell_type": "code",
   "execution_count": 54,
   "metadata": {},
   "outputs": [
    {
     "name": "stdout",
     "output_type": "stream",
     "text": [
      "Successfully deleted the directory tmp\n"
     ]
    }
   ],
   "source": [
    "path = \"tmp\"\n",
    "\n",
    "try:\n",
    "    shutil.rmtree(path)\n",
    "except OSError:\n",
    "    print(\"Deletion of the directory %s failed\" % path)\n",
    "else:\n",
    "    print(\"Successfully deleted the directory %s\" % path)"
   ]
  },
  {
   "cell_type": "markdown",
   "metadata": {},
   "source": [
    "## Checking if folders/files exist"
   ]
  },
  {
   "cell_type": "markdown",
   "metadata": {},
   "source": [
    "To check if the object exists, regardless of type, use:"
   ]
  },
  {
   "cell_type": "code",
   "execution_count": 8,
   "metadata": {
    "scrolled": true
   },
   "outputs": [
    {
     "name": "stdout",
     "output_type": "stream",
     "text": [
      "True\n",
      "True\n",
      "True\n",
      "False\n"
     ]
    }
   ],
   "source": [
    "print(os.path.exists('SubFolder_for_Testing_CWD'))\n",
    "print(os.path.exists('Testing_CWD_importing_functions.py'))\n",
    "print(os.path.exists('../Admin'))\n",
    "print(os.path.exists('../Admi'))"
   ]
  },
  {
   "cell_type": "markdown",
   "metadata": {},
   "source": [
    "To check specifically if it is a folder use:"
   ]
  },
  {
   "cell_type": "code",
   "execution_count": 6,
   "metadata": {},
   "outputs": [
    {
     "name": "stdout",
     "output_type": "stream",
     "text": [
      "True\n",
      "False\n"
     ]
    }
   ],
   "source": [
    "print(os.path.isdir('SubFolder_for_Testing_CWD'))\n",
    "print(os.path.isdir('Testing_CWD_importing_functions.py'))"
   ]
  },
  {
   "cell_type": "markdown",
   "metadata": {},
   "source": [
    "Likewise, to check specifically if a file exists, use:"
   ]
  },
  {
   "cell_type": "code",
   "execution_count": 7,
   "metadata": {},
   "outputs": [
    {
     "name": "stdout",
     "output_type": "stream",
     "text": [
      "False\n",
      "True\n"
     ]
    }
   ],
   "source": [
    "print(os.path.isfile('SubFolder_for_Testing_CWD'))\n",
    "print(os.path.isfile('Testing_CWD_importing_functions.py'))"
   ]
  },
  {
   "cell_type": "code",
   "execution_count": null,
   "metadata": {},
   "outputs": [],
   "source": []
  }
 ],
 "metadata": {
  "kernelspec": {
   "display_name": "Python 3",
   "language": "python",
   "name": "python3"
  },
  "language_info": {
   "codemirror_mode": {
    "name": "ipython",
    "version": 3
   },
   "file_extension": ".py",
   "mimetype": "text/x-python",
   "name": "python",
   "nbconvert_exporter": "python",
   "pygments_lexer": "ipython3",
   "version": "3.6.9"
  }
 },
 "nbformat": 4,
 "nbformat_minor": 4
}
