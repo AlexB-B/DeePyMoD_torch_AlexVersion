{
 "cells": [
  {
   "cell_type": "markdown",
   "metadata": {},
   "source": [
    "First, we import all necessary modules from Numpy and PyTorch (Code copied from neural_net.py).\n",
    "\n",
    "The last import is just so I can slow it down a little later."
   ]
  },
  {
   "cell_type": "code",
   "execution_count": 1,
   "metadata": {},
   "outputs": [],
   "source": [
    "import numpy as np\n",
    "import torch.nn as nn\n",
    "import torch\n",
    "import time"
   ]
  },
  {
   "cell_type": "markdown",
   "metadata": {},
   "source": [
    "I create a set of input data. I believe this must be as a Torch tensor, but first I will create it as a list. It is completely possible to create it directly as a tensor or a NumPy array also, but I am just taking the long route."
   ]
  },
  {
   "cell_type": "code",
   "execution_count": 2,
   "metadata": {},
   "outputs": [
    {
     "name": "stdout",
     "output_type": "stream",
     "text": [
      "[0, 1, 2, 3, 4, 5, 6, 7, 8, 9] <class 'list'>\n"
     ]
    }
   ],
   "source": [
    "Input_Data = [n for n in range(10)]\n",
    "print(Input_Data, type(Input_Data))"
   ]
  },
  {
   "cell_type": "markdown",
   "metadata": {},
   "source": [
    "To turn this into a Torch tensor, we first need to turn it into a NumPy array (Edit: this is not true. torch.tensor can accept lists as well. [3] could be commented out and it wouldn't affect anything)."
   ]
  },
  {
   "cell_type": "code",
   "execution_count": 3,
   "metadata": {},
   "outputs": [
    {
     "name": "stdout",
     "output_type": "stream",
     "text": [
      "[0 1 2 3 4 5 6 7 8 9] <class 'numpy.ndarray'>\n"
     ]
    }
   ],
   "source": [
    "Input_Data = np.array(Input_Data)\n",
    "print(Input_Data, type(Input_Data))"
   ]
  },
  {
   "cell_type": "markdown",
   "metadata": {},
   "source": [
    "We can then turn this array into a tensor. Contrary to the guidelines in the 60 minute blitz tutorial say, you can turn a numpy array into a PyTorch tensor simply using the torch.tensor operation. This, crucially, allows you specify the data type as float. For reasons best known to the developers of PyTorch, the datatype of a float is not assumed, and then this creates errors later on.\n",
    "\n",
    "The requires_grad=True is not necessary at least for feedfoward use of the network."
   ]
  },
  {
   "cell_type": "code",
   "execution_count": 4,
   "metadata": {},
   "outputs": [],
   "source": [
    "Input_Data = torch.tensor(Input_Data, dtype=torch.float32, requires_grad=True)"
   ]
  },
  {
   "cell_type": "markdown",
   "metadata": {},
   "source": [
    "We then need to make sure the tensor is not given in terms of columns. Each row is taken later as a seperate instance for training, and all higher dimensions are data associated with that same instance. If we supply our simple tensor as a row vector, it will look like one single instance with 10 input parameters. This, we transpose it. Transposing is not made easy because when the array or tensor is just a vector, python modules like to strip it of its awareness of higher dimensions for reasons best known to the developers of NumPy and PyTorch. The -1 means default to whatever dimension (#rows) necessary."
   ]
  },
  {
   "cell_type": "code",
   "execution_count": 5,
   "metadata": {},
   "outputs": [
    {
     "name": "stdout",
     "output_type": "stream",
     "text": [
      "tensor([[0.],\n",
      "        [1.],\n",
      "        [2.],\n",
      "        [3.],\n",
      "        [4.],\n",
      "        [5.],\n",
      "        [6.],\n",
      "        [7.],\n",
      "        [8.],\n",
      "        [9.]], grad_fn=<ViewBackward>) <class 'torch.Tensor'>\n"
     ]
    }
   ],
   "source": [
    "Input_Data = Input_Data.view(-1, 1)\n",
    "print(Input_Data, type(Input_Data))"
   ]
  },
  {
   "cell_type": "markdown",
   "metadata": {},
   "source": [
    "We can now create the target data, which in this case is the result of performing $y = 2x + 20$ where y is the Target Data and x is the Input_Data. The same method will be used but in one step this time."
   ]
  },
  {
   "cell_type": "code",
   "execution_count": 6,
   "metadata": {},
   "outputs": [
    {
     "name": "stdout",
     "output_type": "stream",
     "text": [
      "tensor([[20.],\n",
      "        [22.],\n",
      "        [24.],\n",
      "        [26.],\n",
      "        [28.],\n",
      "        [30.],\n",
      "        [32.],\n",
      "        [34.],\n",
      "        [36.],\n",
      "        [38.]], grad_fn=<ViewBackward>) <class 'torch.Tensor'>\n"
     ]
    }
   ],
   "source": [
    "def Poly(x):\n",
    "    y = x*2 + 20\n",
    "    return y\n",
    "\n",
    "Target_Data = [Poly(n) for n in range(10)]\n",
    "Target_Data = np.array(Target_Data)\n",
    "Target_Data = torch.tensor(Target_Data, dtype=torch.float32, requires_grad=True)\n",
    "Target_Data = Target_Data.view(-1,1)\n",
    "print(Target_Data, type(Target_Data))"
   ]
  },
  {
   "cell_type": "markdown",
   "metadata": {},
   "source": [
    "Now that we have Data and the corresponding target, which change subject slightly and set up a simple neural network. The design for this will be one that has a single input, 2 hidden layers, each with 3 nodes, and no activation functions. Edit:(the loop fails after at maximum teh first 10 epochs unless some kind of activation function is used, presumably because the results blow up. All results become Nan). There will be one output. Deciding on the shape and functional description of each node should be enough to make a forward pass on the network. To do this we will need to use PyTorch."
   ]
  },
  {
   "cell_type": "markdown",
   "metadata": {},
   "source": [
    "I will construct the netowrk the same way as in \"neural_net\" which seems to differ significantly from what I read in the tutorial. In the tutorial, fundamentally, a class was created with certain properties that were then linked together by a method of that class. In DeepMoD, what seems to be occurring is that a list is created of neural network layers, and then some function is used to transform that into a network of some class that i cannot guess."
   ]
  },
  {
   "cell_type": "markdown",
   "metadata": {},
   "source": [
    "Create list of layers, we start with the first hidden layer. It has 1 as the first arguement to specify that each node should expect 1 input (each single element of out input data). It then has a 3 to specify the number of nodes in this layer."
   ]
  },
  {
   "cell_type": "code",
   "execution_count": 7,
   "metadata": {},
   "outputs": [],
   "source": [
    "Network = [nn.Linear(1, 3)]"
   ]
  },
  {
   "cell_type": "markdown",
   "metadata": {},
   "source": [
    "We then append the piecewise activation function."
   ]
  },
  {
   "cell_type": "code",
   "execution_count": 8,
   "metadata": {},
   "outputs": [],
   "source": [
    "Network.append(nn.Sigmoid())"
   ]
  },
  {
   "cell_type": "markdown",
   "metadata": {},
   "source": [
    "We then append the second hidden layer, which we chose to be identical to the first. This time the 1st arguement is 3 as there were 3 nodes in teh previous layer. In between these two elements is where we would have applied the \"activation function\" if we were including one. append() is a method of lists."
   ]
  },
  {
   "cell_type": "code",
   "execution_count": 9,
   "metadata": {},
   "outputs": [],
   "source": [
    "Network.append(nn.Linear(3, 3))\n",
    "Network.append(nn.Sigmoid())"
   ]
  },
  {
   "cell_type": "markdown",
   "metadata": {},
   "source": [
    "We then append the output. It is single valued, so the second arguement becomes 1. There is no activation function here as we just want to see the result."
   ]
  },
  {
   "cell_type": "code",
   "execution_count": 10,
   "metadata": {},
   "outputs": [],
   "source": [
    "Network.append(nn.Linear(3, 1))"
   ]
  },
  {
   "cell_type": "markdown",
   "metadata": {},
   "source": [
    "We then apply ths funny function that changes it into a network:"
   ]
  },
  {
   "cell_type": "code",
   "execution_count": 11,
   "metadata": {},
   "outputs": [
    {
     "name": "stdout",
     "output_type": "stream",
     "text": [
      "<class 'torch.nn.modules.container.Sequential'>\n"
     ]
    }
   ],
   "source": [
    "Torch_Network = nn.Sequential(*Network)\n",
    "print(type(Torch_Network))"
   ]
  },
  {
   "cell_type": "markdown",
   "metadata": {},
   "source": [
    "We now have a built network. We can feed a tensor to this network and get the feedforward output. Currently, the weights and biases have all been set randomly between -1 and 1, so the result will itself be fairly random. However, for a given input, it will be consistant, as no backprop occurs, and the network is unchanged."
   ]
  },
  {
   "cell_type": "markdown",
   "metadata": {},
   "source": [
    "To demonstrate the feedforward output, we can create a tensor of single value that will therefore output a single value. We need to call the number 1 as \"1.\" so that it takes it as a torch.float class object, which otherwise is, for some reason, not assumed. We will output what the network currently tells us for 1 and 20, twice each, to show consistency."
   ]
  },
  {
   "cell_type": "code",
   "execution_count": 12,
   "metadata": {},
   "outputs": [
    {
     "name": "stdout",
     "output_type": "stream",
     "text": [
      "tensor([0.3264], grad_fn=<AddBackward0>)\n",
      "tensor([0.3264], grad_fn=<AddBackward0>)\n",
      "tensor([0.3230], grad_fn=<AddBackward0>)\n",
      "tensor([0.3230], grad_fn=<AddBackward0>)\n"
     ]
    }
   ],
   "source": [
    "print(Torch_Network(torch.tensor([1.])))\n",
    "print(Torch_Network(torch.tensor([1.])))\n",
    "print(Torch_Network(torch.tensor([20.])))\n",
    "print(Torch_Network(torch.tensor([20.])))"
   ]
  },
  {
   "cell_type": "markdown",
   "metadata": {},
   "source": [
    "We can also demonstrate feeding the entire Input_Data Tensor into the network to show how it provides a tensor in return of equal number of rows. the input tensor is always [rowxcolumn] (Number of instances x Number of features or variables for each instance) and the output tensor is always (Number of instances x Number of output results for each instance). As we have the same number of input features as output results per instance, both the input and output tensors have the same shape."
   ]
  },
  {
   "cell_type": "code",
   "execution_count": 13,
   "metadata": {},
   "outputs": [
    {
     "name": "stdout",
     "output_type": "stream",
     "text": [
      "tensor([[0.3243],\n",
      "        [0.3264],\n",
      "        [0.3271],\n",
      "        [0.3266],\n",
      "        [0.3258],\n",
      "        [0.3249],\n",
      "        [0.3242],\n",
      "        [0.3237],\n",
      "        [0.3234],\n",
      "        [0.3233]], grad_fn=<AddmmBackward>) <class 'torch.Tensor'>\n"
     ]
    }
   ],
   "source": [
    "Output_Data = Torch_Network(Input_Data)\n",
    "print(Output_Data, type(Output_Data))"
   ]
  },
  {
   "cell_type": "markdown",
   "metadata": {},
   "source": [
    "We can now exam the Network a little bit to understand how the parameters are stored. In theory, I have worked out that the number of parameters (catch all term for weights and biases) is equal to\n",
    "\n",
    "$Number of Parameters = \\sum\\limits_{Layer=1} n_{Layer} * (n_{Layer-1} + 1)$\n",
    "\n",
    "Where $n_{Layer}$ is the number of nodes in a given layer and $n_0$ is the number of input features. The $+ 1$ comes from the bias parameters in each layer, and the product of the nodes in 2 layers gives the weights, as each node in the previous layer connects to each node in the current layer.\n",
    "\n",
    "Considering we have 1 input feature and nodes that go 3, 3, 1, where the result of the final one is our output, we expect 22 parameters in our network.\n",
    "\n",
    "We examine parameters using the .parameters() method of tensors, but printing it directly is useless as it is a generator."
   ]
  },
  {
   "cell_type": "code",
   "execution_count": 14,
   "metadata": {},
   "outputs": [
    {
     "name": "stdout",
     "output_type": "stream",
     "text": [
      "<generator object Module.parameters at 0x7f09be3e0f10> <class 'generator'>\n"
     ]
    }
   ],
   "source": [
    "print(Torch_Network.parameters(), type(Torch_Network.parameters()))"
   ]
  },
  {
   "cell_type": "markdown",
   "metadata": {},
   "source": [
    "But we can pull out the components of this using list. We get a list of length that is equal to twice the number of layers in our system (not including input). In this case, that is 6. Each element of this list is a tensor itself. The reason for the number of tensors is that, for each a layer, one tensor containing the weights, and one containing the biases is produced."
   ]
  },
  {
   "cell_type": "code",
   "execution_count": 15,
   "metadata": {},
   "outputs": [
    {
     "name": "stdout",
     "output_type": "stream",
     "text": [
      "6\n"
     ]
    }
   ],
   "source": [
    "Parameter_Tensor = list(Torch_Network.parameters())\n",
    "print(len(Parameter_Tensor))"
   ]
  },
  {
   "cell_type": "markdown",
   "metadata": {},
   "source": [
    "For each pair of tensors produced for each layer, the first is for the weights applied to the inputs from the previous layer. This is generally in the form of a matrix where each row corresponds to a different node in the current layer, and each column corresponds to input from a node in the previous layer. In the first hidden layer, there are 3 nodes and one input per node:"
   ]
  },
  {
   "cell_type": "code",
   "execution_count": 16,
   "metadata": {},
   "outputs": [
    {
     "name": "stdout",
     "output_type": "stream",
     "text": [
      "Parameter # 1 has size torch.Size([3, 1])\n",
      "And looks like \n",
      " Parameter containing:\n",
      "tensor([[-0.6825],\n",
      "        [ 0.7378],\n",
      "        [ 0.5528]], requires_grad=True)\n"
     ]
    }
   ],
   "source": [
    "print('Parameter #', 1, 'has size', Parameter_Tensor[0].size())\n",
    "print('And looks like \\n', Parameter_Tensor[0])"
   ]
  },
  {
   "cell_type": "markdown",
   "metadata": {},
   "source": [
    "The 2nd tensor is for the biases on the nodes in the first layer. As the shape of this tensor is independant of anything but the number of nodes, it is returned as a tensor in the form of a 1 dimensional vector, unspecified as to whether it is a column or row vector. There is an element for each node in the layer."
   ]
  },
  {
   "cell_type": "code",
   "execution_count": 17,
   "metadata": {},
   "outputs": [
    {
     "name": "stdout",
     "output_type": "stream",
     "text": [
      "Parameter # 2 has size torch.Size([3])\n",
      "And looks like \n",
      " Parameter containing:\n",
      "tensor([-0.2242,  0.1473, -0.7378], requires_grad=True)\n"
     ]
    }
   ],
   "source": [
    "print('Parameter #', 2, 'has size', Parameter_Tensor[1].size())\n",
    "print('And looks like \\n', Parameter_Tensor[1])"
   ]
  },
  {
   "cell_type": "markdown",
   "metadata": {},
   "source": [
    "By now examining the 3rd and 4th elements of Parameter_Tensor, we examine the weights and biases of the second layer. The shape of the biases tensor is identical to the first hidden layer, but the weights tensor now is in th form of a 3x3 matrix, as each node in the second hidden layer (each row) receives input from each node in the first hidden layer (each column)."
   ]
  },
  {
   "cell_type": "code",
   "execution_count": 18,
   "metadata": {},
   "outputs": [
    {
     "name": "stdout",
     "output_type": "stream",
     "text": [
      "Parameter # 3 has size torch.Size([3, 3])\n",
      "And looks like \n",
      " Parameter containing:\n",
      "tensor([[-0.2523,  0.2746, -0.0982],\n",
      "        [-0.1485, -0.4616, -0.2932],\n",
      "        [ 0.1923,  0.3346, -0.2605]], requires_grad=True)\n",
      "Parameter # 4 has size torch.Size([3])\n",
      "And looks like \n",
      " Parameter containing:\n",
      "tensor([ 0.2470, -0.3116, -0.1488], requires_grad=True)\n"
     ]
    }
   ],
   "source": [
    "print('Parameter #', 3, 'has size', Parameter_Tensor[2].size())\n",
    "print('And looks like \\n', Parameter_Tensor[2])\n",
    "print('Parameter #', 4, 'has size', Parameter_Tensor[3].size())\n",
    "print('And looks like \\n', Parameter_Tensor[3])"
   ]
  },
  {
   "cell_type": "markdown",
   "metadata": {},
   "source": [
    "Finally, the output layer, only has one node, and so only 1 bias. It receives input from all three nodes in the previous layer and so it's weights tensor is a row vector, but this time, unlike the bias vector, this row shape is explicit."
   ]
  },
  {
   "cell_type": "code",
   "execution_count": 19,
   "metadata": {},
   "outputs": [
    {
     "name": "stdout",
     "output_type": "stream",
     "text": [
      "Parameter # 5 has size torch.Size([1, 3])\n",
      "And looks like \n",
      " Parameter containing:\n",
      "tensor([[0.1714, 0.0276, 0.2445]], requires_grad=True)\n",
      "Parameter # 6 has size torch.Size([1])\n",
      "And looks like \n",
      " Parameter containing:\n",
      "tensor([0.0946], requires_grad=True)\n"
     ]
    }
   ],
   "source": [
    "print('Parameter #', 5, 'has size', Parameter_Tensor[4].size())\n",
    "print('And looks like \\n', Parameter_Tensor[4])\n",
    "print('Parameter #', 6, 'has size', Parameter_Tensor[5].size())\n",
    "print('And looks like \\n', Parameter_Tensor[5])"
   ]
  },
  {
   "cell_type": "markdown",
   "metadata": {},
   "source": [
    "The next thing to do is to start to train the neural network. For that, 2 additional things need to be decided upon; the loss function, and the optimisation function. For the former, we will simply use MSE loss:"
   ]
  },
  {
   "cell_type": "code",
   "execution_count": 20,
   "metadata": {},
   "outputs": [],
   "source": [
    "Loss_Function = nn.MSELoss()"
   ]
  },
  {
   "cell_type": "markdown",
   "metadata": {},
   "source": [
    "And for the optimisation function, we will simply use stochastic gradient descent with a learning rate of 0.01."
   ]
  },
  {
   "cell_type": "code",
   "execution_count": 21,
   "metadata": {},
   "outputs": [],
   "source": [
    "optimizer = torch.optim.SGD(Torch_Network.parameters(), lr=0.01)"
   ]
  },
  {
   "cell_type": "markdown",
   "metadata": {},
   "source": [
    "Borrowing the simple components of the loop from the Neural Networks part of the PyTorch Tutorial, we combine everything into a loop, so that we train the neural network. The function \"optimizer.zero_grad()\" apparently needs to be run.\n",
    "After that, we calculate the networks prediction on the data. We are feeding it a Tensor of size 10, so it will sequentially (I think) use the network to evaluate each element in turn, and output a tensor of equal size to give the results.\n",
    "The loss is then calculated, I believe this is a tensor as well\n",
    "Then we just sort of *do* the backprop to work out the gradients in loss with respect to each weight and bias\n",
    "Then we trigger the SGD to adjust each bias for each input data element"
   ]
  },
  {
   "cell_type": "code",
   "execution_count": 22,
   "metadata": {},
   "outputs": [
    {
     "name": "stdout",
     "output_type": "stream",
     "text": [
      "Ready to end this\n"
     ]
    }
   ],
   "source": [
    "Max_Iterations = 10000\n",
    "\n",
    "for n in range(Max_Iterations):\n",
    "    optimizer.zero_grad()   # zero the gradient buffers\n",
    "    Output_Data = Torch_Network(Input_Data)\n",
    "    Loss = Loss_Function(Output_Data, Target_Data)\n",
    "    Loss.backward()\n",
    "    optimizer.step()    # Does the update\n",
    "    '''\n",
    "    if n % 10 == 0:\n",
    "        print('Reached Epoch', n)\n",
    "        print('Loss is', Loss)\n",
    "        print('Current Prediction is', Output_Data)\n",
    "        #time.sleep(5) # This is just for my convenience so i can see what is happening before it continues\n",
    "    '''\n",
    "\n",
    "print('Ready to end this')"
   ]
  },
  {
   "cell_type": "markdown",
   "metadata": {},
   "source": [
    "Seeing as we never used the final iteration of our network to calculate results, we do this last bit one last time:"
   ]
  },
  {
   "cell_type": "code",
   "execution_count": 23,
   "metadata": {},
   "outputs": [
    {
     "name": "stdout",
     "output_type": "stream",
     "text": [
      "tensor(0.0458, grad_fn=<MeanBackward0>)\n",
      "tensor([[20.1411],\n",
      "        [21.8972],\n",
      "        [24.0307],\n",
      "        [26.1969],\n",
      "        [28.1849],\n",
      "        [30.0871],\n",
      "        [32.1267],\n",
      "        [34.3484],\n",
      "        [36.4528],\n",
      "        [38.0558]], grad_fn=<AddmmBackward>)\n"
     ]
    }
   ],
   "source": [
    "Output_Data = Torch_Network(Input_Data)\n",
    "Loss = Loss_Function(Output_Data, Target_Data)\n",
    "print(Loss)\n",
    "print(Output_Data)"
   ]
  },
  {
   "cell_type": "markdown",
   "metadata": {},
   "source": [
    "And that's it! Currently, unless I put in something as simple as $y = 2x + 20$, the NN isn't good enough. Need to play around with\n",
    "\n",
    "- shape\n",
    "\n",
    "- activation functions\n",
    "\n",
    "- learning rate\n",
    "\n",
    "I don't really want to muck around with loss calculation or optimisation functions just yet"
   ]
  },
  {
   "cell_type": "markdown",
   "metadata": {},
   "source": [
    "....\n",
    "Some time Later\n",
    "....\n",
    "\n",
    "If we want to improve the network, we should increase the size of each layer and the number of layers. Let's create a new network, this time with 4 hidden layers, and 30 nodes per layer."
   ]
  },
  {
   "cell_type": "code",
   "execution_count": 24,
   "metadata": {},
   "outputs": [],
   "source": [
    "Better_Network = nn.Sequential(*[nn.Linear(1, 30), nn.Sigmoid(), nn.Linear(30, 30), nn.Sigmoid(), nn.Linear(30, 30), nn.Sigmoid(),\n",
    "                                nn.Linear(30, 30), nn.Sigmoid(), nn.Linear(30, 1)])"
   ]
  },
  {
   "cell_type": "markdown",
   "metadata": {},
   "source": [
    "The number of parameters in this network is much larger. It is $30*2 + 30*31 + 30*31 + 30*31 + 1*31 = $..."
   ]
  },
  {
   "cell_type": "code",
   "execution_count": 25,
   "metadata": {},
   "outputs": [
    {
     "name": "stdout",
     "output_type": "stream",
     "text": [
      "2881\n"
     ]
    }
   ],
   "source": [
    "print(60 + 3*30*31 + 31)"
   ]
  },
  {
   "cell_type": "markdown",
   "metadata": {},
   "source": [
    "We won't change anything but the shape, so we can now reconfigure the optimiser and then run the training loop as before:"
   ]
  },
  {
   "cell_type": "code",
   "execution_count": 26,
   "metadata": {},
   "outputs": [
    {
     "name": "stdout",
     "output_type": "stream",
     "text": [
      "Final Result:\n",
      "tensor(0.0292, grad_fn=<MeanBackward0>)\n",
      "tensor([[19.9913],\n",
      "        [21.8427],\n",
      "        [23.9340],\n",
      "        [25.9418],\n",
      "        [27.8624],\n",
      "        [29.7803],\n",
      "        [31.7710],\n",
      "        [33.8421],\n",
      "        [35.8780],\n",
      "        [37.6839]], grad_fn=<AddmmBackward>)\n"
     ]
    }
   ],
   "source": [
    "optimizer_2 = torch.optim.SGD(Better_Network.parameters(), lr=0.01)\n",
    "Max_Iterations = 10000\n",
    "\n",
    "for n in range(Max_Iterations):\n",
    "    optimizer_2.zero_grad()   # zero the gradient buffers\n",
    "    Output_Data = Better_Network(Input_Data)\n",
    "    Loss = Loss_Function(Output_Data, Target_Data)\n",
    "    Loss.backward()\n",
    "    optimizer_2.step()    # Does the update\n",
    "    '''\n",
    "    if n % 100 == 0:\n",
    "        print('Reached Epoch', n)\n",
    "        print('Loss is', Loss)\n",
    "        print('Current Prediction is', Output_Data)\n",
    "        time.sleep(5) # This is just for my convenience so i can see what is happening before it continues\n",
    "    '''\n",
    "print('Final Result:')\n",
    "Output_Data = Better_Network(Input_Data)\n",
    "Loss = Loss_Function(Output_Data, Target_Data)\n",
    "print(Loss)\n",
    "print(Output_Data)"
   ]
  },
  {
   "cell_type": "markdown",
   "metadata": {},
   "source": [
    "After a bit of thought, it is possible to note that any network without activation function will essentially just be simplifiable to a linear equation in each of the input parameters, ie  $y = \\alpha + ax_1 + bx_2 + cx_3$ ... Considering that our input equation is linear (essentially meaning can be expressed as a polynomial of order 1 or 0), we shouldn't need an activation function at all. Let's test this."
   ]
  },
  {
   "cell_type": "code",
   "execution_count": 27,
   "metadata": {},
   "outputs": [
    {
     "name": "stdout",
     "output_type": "stream",
     "text": [
      "Final Result:\n",
      "tensor(1.0477e-10, grad_fn=<MeanBackward0>)\n",
      "tensor([[20.0000],\n",
      "        [22.0000],\n",
      "        [24.0000],\n",
      "        [26.0000],\n",
      "        [28.0000],\n",
      "        [30.0000],\n",
      "        [32.0000],\n",
      "        [34.0000],\n",
      "        [36.0000],\n",
      "        [38.0000]], grad_fn=<AddmmBackward>)\n"
     ]
    }
   ],
   "source": [
    "Simple_Network = nn.Sequential(*[nn.Linear(1, 30), nn.Linear(30, 30), nn.Linear(30, 30), nn.Linear(30, 30), nn.Linear(30, 1)])\n",
    "\n",
    "optimizer_3 = torch.optim.SGD(Simple_Network.parameters(), lr=0.0001)\n",
    "Max_Iterations = 1000\n",
    "\n",
    "for n in range(Max_Iterations):\n",
    "    optimizer_3.zero_grad()   # zero the gradient buffers\n",
    "    Output_Data = Simple_Network(Input_Data)\n",
    "    Loss = Loss_Function(Output_Data, Target_Data)\n",
    "    Loss.backward()\n",
    "    optimizer_3.step()    # Does the update\n",
    "    '''\n",
    "    if n % 100 == 0:\n",
    "        print('Reached Epoch', n)\n",
    "        print('Loss is', Loss)\n",
    "        print('Current Prediction is', Output_Data)\n",
    "        time.sleep(5) # This is just for my convenience so i can see what is happening before it continues\n",
    "    '''\n",
    "print('Final Result:')\n",
    "Output_Data = Simple_Network(Input_Data)\n",
    "Loss = Loss_Function(Output_Data, Target_Data)\n",
    "print(Loss)\n",
    "print(Output_Data)"
   ]
  },
  {
   "cell_type": "markdown",
   "metadata": {},
   "source": [
    "This result is almost perfect, and certainly perfect as far as we could ever reasonably require. Notice however, the learning rate has been set to 0.0001. Setting it at the higher rate of 0.01 lead to Nans by Epoch 10 at the latest, and 0.001 lead to results that were highly variable with a loss that rapidly spiked and reduced - clearly the minimisation was unstable and widely oscillated around an optimal minimisation direction. It may eventually have convergeed, I did not check.\n",
    "\n",
    "With the very low learning rate however, the convergence is rapid and precise."
   ]
  },
  {
   "cell_type": "markdown",
   "metadata": {},
   "source": [
    "# Trying a more complicated result"
   ]
  },
  {
   "cell_type": "markdown",
   "metadata": {},
   "source": [
    "Let's use our Better_Network to try and deduce a higher order polynomial: This time, we shall use a larger training data set and aim to fit the Equation $y = x^2 + x + 50$. First of all, we create the data:\n",
    "\n",
    "This time, I have also chosen to use `np.arange` to create a data array in a style more similar to matlab. ie, i could specify `np.arange(start_value, stop_value, step_size)` where only `stop_value` is compulsory."
   ]
  },
  {
   "cell_type": "code",
   "execution_count": 2,
   "metadata": {},
   "outputs": [],
   "source": [
    "import numpy as np\n",
    "import torch.nn as nn\n",
    "import torch\n",
    "import time"
   ]
  },
  {
   "cell_type": "code",
   "execution_count": 3,
   "metadata": {},
   "outputs": [
    {
     "name": "stdout",
     "output_type": "stream",
     "text": [
      "[[  50   52   56   62   70   80   92  106  122  140  160  182  206  232\n",
      "   260  290  322  356  392  430  470  512  556  602  650  700  752  806\n",
      "   862  920  980 1042 1106 1172 1240 1310 1382 1456 1532 1610 1690 1772\n",
      "  1856 1942 2030 2120 2212 2306 2402 2500 2600 2702 2806 2912 3020 3130\n",
      "  3242 3356 3472 3590 3710 3832 3956 4082 4210 4340 4472 4606 4742 4880\n",
      "  5020 5162 5306 5452 5600 5750 5902 6056 6212 6370 6530 6692 6856 7022\n",
      "  7190 7360 7532 7706 7882 8060 8240 8422 8606 8792 8980 9170 9362 9556\n",
      "  9752 9950]]\n"
     ]
    }
   ],
   "source": [
    "Input_Data = np.arange(100)\n",
    "Input_Data = Input_Data.reshape(-1, 1)\n",
    "Target_Data = Input_Data**2 + Input_Data + 50\n",
    "print(Target_Data.reshape(1, -1)) # reshaped just so it fits on the page nicely\n",
    "Input_Data = torch.tensor(Input_Data, dtype=torch.float32, requires_grad=True)\n",
    "Target_Data = torch.tensor(Target_Data, dtype=torch.float32, requires_grad=True)"
   ]
  },
  {
   "cell_type": "markdown",
   "metadata": {},
   "source": [
    "Reinitialise the Network:\n",
    "\n",
    "Here I have noted that the `*[]` construction inside `nn.sequential` is only necessary when creating the network over multiple lines."
   ]
  },
  {
   "cell_type": "code",
   "execution_count": 4,
   "metadata": {},
   "outputs": [
    {
     "name": "stdout",
     "output_type": "stream",
     "text": [
      "tensor([0.3304], grad_fn=<AddBackward0>)\n",
      "tensor([0.3304], grad_fn=<AddBackward0>)\n",
      "tensor([0.3288], grad_fn=<AddBackward0>)\n",
      "tensor([0.3288], grad_fn=<AddBackward0>)\n"
     ]
    }
   ],
   "source": [
    "Better_Network = nn.Sequential(nn.Linear(1, 30), nn.Tanh(), nn.Linear(30, 30), nn.Tanh(), nn.Linear(30, 30), nn.Tanh(),\n",
    "                                nn.Linear(30, 30), nn.Tanh(), nn.Linear(30, 1))\n",
    "print(Better_Network(torch.tensor([1.])))\n",
    "print(Better_Network(torch.tensor([1.])))\n",
    "print(Better_Network(torch.tensor([20.])))\n",
    "print(Better_Network(torch.tensor([20.])))"
   ]
  },
  {
   "cell_type": "markdown",
   "metadata": {},
   "source": [
    "Redefine the optimizer and run the training loop"
   ]
  },
  {
   "cell_type": "code",
   "execution_count": 5,
   "metadata": {},
   "outputs": [
    {
     "name": "stdout",
     "output_type": "stream",
     "text": [
      "Final Result:\n",
      "tensor(8887777., grad_fn=<MeanBackward0>)\n",
      "tensor([[3382.9998, 3382.9998, 3382.9998, 3382.9998, 3382.9998, 3382.9998,\n",
      "         3382.9998, 3382.9998, 3382.9998, 3382.9998, 3382.9998, 3382.9998,\n",
      "         3382.9998, 3382.9998, 3382.9998, 3382.9998, 3382.9998, 3382.9998,\n",
      "         3382.9998, 3382.9998, 3382.9998, 3382.9998, 3382.9998, 3382.9998,\n",
      "         3382.9998, 3382.9998, 3382.9998, 3382.9998, 3382.9998, 3382.9998,\n",
      "         3382.9998, 3382.9998, 3382.9998, 3382.9998, 3382.9998, 3382.9998,\n",
      "         3382.9998, 3382.9998, 3382.9998, 3382.9998, 3382.9998, 3382.9998,\n",
      "         3382.9998, 3382.9998, 3382.9998, 3382.9998, 3382.9998, 3382.9998,\n",
      "         3382.9998, 3382.9998, 3382.9998, 3382.9998, 3382.9998, 3382.9998,\n",
      "         3382.9998, 3382.9998, 3382.9998, 3382.9998, 3382.9998, 3382.9998,\n",
      "         3382.9998, 3382.9998, 3382.9998, 3382.9998, 3382.9998, 3382.9998,\n",
      "         3382.9998, 3382.9998, 3382.9998, 3382.9998, 3382.9998, 3382.9998,\n",
      "         3382.9998, 3382.9998, 3382.9998, 3382.9998, 3382.9998, 3382.9998,\n",
      "         3382.9998, 3382.9998, 3382.9998, 3382.9998, 3382.9998, 3382.9998,\n",
      "         3382.9998, 3382.9998, 3382.9998, 3382.9998, 3382.9998, 3382.9998,\n",
      "         3382.9998, 3382.9998, 3382.9998, 3382.9998, 3382.9998, 3382.9998,\n",
      "         3382.9998, 3382.9998, 3382.9998, 3382.9998]], grad_fn=<ViewBackward>)\n"
     ]
    }
   ],
   "source": [
    "Loss_Function = nn.MSELoss() # this has been put here just in case one wants to skip beyond the earlier stuff, and so miss out this line.\n",
    "optimizer_4 = torch.optim.SGD(Better_Network.parameters(), lr=0.001)\n",
    "Max_Iterations = 10000\n",
    "\n",
    "for n in range(Max_Iterations):\n",
    "    optimizer_4.zero_grad()   # zero the gradient buffers\n",
    "    Output_Data = Better_Network(Input_Data)\n",
    "    Loss = Loss_Function(Output_Data, Target_Data)\n",
    "    Loss.backward()\n",
    "    optimizer_4.step()    # Does the update\n",
    "    '''\n",
    "    if n % 10 == 0:\n",
    "        print('Reached Epoch', n)\n",
    "        print('Loss is', Loss)\n",
    "        print('Current Prediction is', Output_Data.view(1, -1)) # reshaped for readability\n",
    "        time.sleep(5) # This is just for my convenience so i can see what is happening before it continues\n",
    "    '''\n",
    "print('Final Result:')\n",
    "Output_Data = Better_Network(Input_Data)\n",
    "Loss = Loss_Function(Output_Data, Target_Data)\n",
    "print(Loss)\n",
    "print(Output_Data.view(1, -1)) # reshaped for readability"
   ]
  },
  {
   "cell_type": "markdown",
   "metadata": {},
   "source": [
    "This doesn't work it turns out. I believe what is happening is due to 2 things.\n",
    "\n",
    "1. The optimisation is getting stuck on a saddle point or local minimum as the optimisation has no momentum\n",
    "\n",
    "\n",
    "2. The extensive use of Tanh is too much.\n",
    "\n",
    "Instead, let's use the Adam optimiser as in DeepMoD which seems to be a mix of gradient decent with momentum and batch normalisation. We will also change the output of the 4th hidden layer to be activated by the ReLU function which essentially does nothing if the output is positive, and sets it to zero if the output is negative."
   ]
  },
  {
   "cell_type": "code",
   "execution_count": 6,
   "metadata": {},
   "outputs": [],
   "source": [
    "Better_Network_2 = nn.Sequential(nn.Linear(1, 30), nn.Tanh(), nn.Linear(30, 30), nn.Tanh(), nn.Linear(30, 30), nn.Tanh(),\n",
    "                                nn.Linear(30, 30), nn.ReLU(), nn.Linear(30, 1))"
   ]
  },
  {
   "cell_type": "code",
   "execution_count": 7,
   "metadata": {},
   "outputs": [
    {
     "name": "stdout",
     "output_type": "stream",
     "text": [
      "Final Result:\n",
      "tensor(79.3329, grad_fn=<MeanBackward0>)\n",
      "tensor([[  52.2700,   50.9930,   55.0556,   63.3784,   69.7567,   79.3826,\n",
      "           91.5507,  105.4291,  121.9146,  140.4485,  160.9191,  182.8826,\n",
      "          206.5374,  232.0595,  259.5842,  289.2013,  320.9562,  354.8628,\n",
      "          390.9084,  429.0680,  469.3065,  511.5880,  555.8788,  602.1511,\n",
      "          650.3813,  700.5551,  752.6631,  806.7026,  862.6768,  920.5922,\n",
      "          980.4595, 1042.2909, 1106.1000, 1171.9000, 1239.7051, 1309.5266,\n",
      "         1381.3743, 1455.2565, 1531.1786, 1609.1436, 1689.1501, 1771.1963,\n",
      "         1855.2766, 1941.3848, 2029.5120, 2119.6489, 2211.7859, 2305.9131,\n",
      "         2402.0220, 2500.1050, 2600.1567, 2702.1743, 2806.1572, 2912.1094,\n",
      "         3020.0347, 3129.9417, 3241.8403, 3355.7400, 3471.6501, 3589.5786,\n",
      "         3709.5288, 3831.5022, 3955.4939, 4081.4971, 4209.5029, 4339.5020,\n",
      "         4471.4888, 4605.4619, 4741.4292, 4879.4058, 5019.4097, 5161.4541,\n",
      "         5305.5415, 5451.6450, 5599.7026, 5749.6094, 5901.6226, 6056.2725,\n",
      "         6212.4058, 6370.0288, 6529.3003, 6690.5195, 6854.0747, 7020.3755,\n",
      "         7189.7075, 7361.7173, 7534.5303, 7705.5137, 7876.0898, 8054.8408,\n",
      "         8244.9062, 8428.6602, 8596.7285, 8781.2734, 8993.7891, 9174.2988,\n",
      "         9333.5615, 9564.5156, 9782.5879, 9875.6533]], grad_fn=<ViewBackward>)\n"
     ]
    }
   ],
   "source": [
    "optimizer = torch.optim.Adam(Better_Network_2.parameters()) # Adam has a default lr which I have chosen to use\n",
    "Max_Iterations = 10000\n",
    "\n",
    "for n in range(Max_Iterations):\n",
    "    optimizer.zero_grad()   # zero the gradient buffers\n",
    "    Output_Data = Better_Network_2(Input_Data)\n",
    "    Loss = Loss_Function(Output_Data, Target_Data)\n",
    "    Loss.backward()\n",
    "    optimizer.step()    # Does the update\n",
    "    '''\n",
    "    if n % 10 == 0:\n",
    "        print('Reached Epoch', n)\n",
    "        print('Loss is', Loss)\n",
    "        print('Current Prediction is', Output_Data.view(1, -1)) # reshaped for readability\n",
    "        time.sleep(5) # This is just for my convenience so i can see what is happening before it continues\n",
    "    '''\n",
    "print('Final Result:')\n",
    "Output_Data = Better_Network_2(Input_Data)\n",
    "Loss = Loss_Function(Output_Data, Target_Data)\n",
    "print(Loss)\n",
    "print(Output_Data.view(1, -1)) # reshaped for readability"
   ]
  },
  {
   "cell_type": "markdown",
   "metadata": {},
   "source": [
    "These results are finally much better. However, it is possible to make them better by scaling the data so that we are dealing with numbers between -1 and 1. I will scale the data by dividing by the maximum value in the array, prior to importing into a tensor"
   ]
  },
  {
   "cell_type": "markdown",
   "metadata": {},
   "source": [
    "## Normalisation"
   ]
  },
  {
   "cell_type": "code",
   "execution_count": 1,
   "metadata": {},
   "outputs": [],
   "source": [
    "import numpy as np\n",
    "import torch.nn as nn\n",
    "import torch\n",
    "import time\n",
    "Loss_Function = nn.MSELoss()"
   ]
  },
  {
   "cell_type": "code",
   "execution_count": 2,
   "metadata": {},
   "outputs": [
    {
     "name": "stdout",
     "output_type": "stream",
     "text": [
      "[[0.00502513 0.00522613 0.00562814 0.00623116 0.00703518 0.0080402\n",
      "  0.00924623 0.01065327 0.01226131 0.01407035 0.0160804  0.01829146\n",
      "  0.02070352 0.02331658 0.02613065 0.02914573 0.03236181 0.03577889\n",
      "  0.03939698 0.04321608 0.04723618 0.05145729 0.0558794  0.06050251\n",
      "  0.06532663 0.07035176 0.07557789 0.08100503 0.08663317 0.09246231\n",
      "  0.09849246 0.10472362 0.11115578 0.11778894 0.12462312 0.13165829\n",
      "  0.13889447 0.14633166 0.15396985 0.16180905 0.16984925 0.17809045\n",
      "  0.18653266 0.19517588 0.2040201  0.21306533 0.22231156 0.23175879\n",
      "  0.24140704 0.25125628 0.26130653 0.27155779 0.28201005 0.29266332\n",
      "  0.30351759 0.31457286 0.32582915 0.33728643 0.34894472 0.36080402\n",
      "  0.37286432 0.38512563 0.39758794 0.41025126 0.42311558 0.4361809\n",
      "  0.44944724 0.46291457 0.47658291 0.49045226 0.50452261 0.51879397\n",
      "  0.53326633 0.5479397  0.56281407 0.57788945 0.59316583 0.60864322\n",
      "  0.62432161 0.64020101 0.65628141 0.67256281 0.68904523 0.70572864\n",
      "  0.72261307 0.73969849 0.75698492 0.77447236 0.7921608  0.81005025\n",
      "  0.8281407  0.84643216 0.86492462 0.88361809 0.90251256 0.92160804\n",
      "  0.94090452 0.96040201 0.9801005  1.        ]]\n"
     ]
    }
   ],
   "source": [
    "Input_Data = np.arange(100)\n",
    "Input_Data = Input_Data.reshape(-1, 1)\n",
    "Target_Data = Input_Data**2 + Input_Data + 50\n",
    "\n",
    "# These are the lines where scaling takes place\n",
    "Scaling_Factor = np.amax(Target_Data)\n",
    "Input_Data_Scaled = Input_Data/Scaling_Factor\n",
    "Target_Data_Scaled = Target_Data/Scaling_Factor\n",
    "\n",
    "print(Target_Data_Scaled.reshape(1, -1)) # reshaped just so it fits on the page nicely\n",
    "\n",
    "Input_Data = torch.tensor(Input_Data, dtype=torch.float32, requires_grad=True)\n",
    "Target_Data = torch.tensor(Target_Data, dtype=torch.float32) #Turn this into a tensor also, just to allow computation of loss\n",
    "Input_Data_Scaled = torch.tensor(Input_Data_Scaled, dtype=torch.float32, requires_grad=True)\n",
    "Target_Data_Scaled = torch.tensor(Target_Data_Scaled, dtype=torch.float32, requires_grad=True)"
   ]
  },
  {
   "cell_type": "markdown",
   "metadata": {},
   "source": [
    "Reinitialise the network:"
   ]
  },
  {
   "cell_type": "code",
   "execution_count": 3,
   "metadata": {},
   "outputs": [],
   "source": [
    "Better_Network_2 = nn.Sequential(nn.Linear(1, 30), nn.Tanh(), nn.Linear(30, 30), nn.Tanh(), nn.Linear(30, 30), nn.Tanh(),\n",
    "                                nn.Linear(30, 30), nn.ReLU(), nn.Linear(30, 1))"
   ]
  },
  {
   "cell_type": "markdown",
   "metadata": {},
   "source": [
    "In the first instance, we will try to train the network after only scaling the target data."
   ]
  },
  {
   "cell_type": "code",
   "execution_count": 4,
   "metadata": {},
   "outputs": [
    {
     "name": "stdout",
     "output_type": "stream",
     "text": [
      "Final Result:\n",
      "tensor(1.5672e-06, grad_fn=<MeanBackward0>)\n",
      "tensor([[0.0049, 0.0049, 0.0054, 0.0058, 0.0065, 0.0076, 0.0089, 0.0103, 0.0120,\n",
      "         0.0139, 0.0159, 0.0180, 0.0202, 0.0225, 0.0255, 0.0290, 0.0325, 0.0362,\n",
      "         0.0399, 0.0438, 0.0477, 0.0517, 0.0558, 0.0599, 0.0642, 0.0685, 0.0739,\n",
      "         0.0801, 0.0863, 0.0926, 0.0990, 0.1054, 0.1120, 0.1186, 0.1253, 0.1321,\n",
      "         0.1389, 0.1458, 0.1527, 0.1606, 0.1693, 0.1781, 0.1869, 0.1957, 0.2046,\n",
      "         0.2136, 0.2226, 0.2316, 0.2406, 0.2496, 0.2594, 0.2705, 0.2817, 0.2928,\n",
      "         0.3039, 0.3150, 0.3261, 0.3372, 0.3482, 0.3592, 0.3701, 0.3821, 0.3959,\n",
      "         0.4095, 0.4230, 0.4364, 0.4497, 0.4629, 0.4759, 0.4888, 0.5016, 0.5166,\n",
      "         0.5322, 0.5476, 0.5628, 0.5777, 0.5925, 0.6070, 0.6212, 0.6382, 0.6557,\n",
      "         0.6729, 0.6898, 0.7063, 0.7226, 0.7385, 0.7541, 0.7717, 0.7911, 0.8100,\n",
      "         0.8286, 0.8467, 0.8644, 0.8838, 0.9035, 0.9228, 0.9416, 0.9599, 0.9778,\n",
      "         0.9937]], grad_fn=<ViewBackward>)\n"
     ]
    }
   ],
   "source": [
    "optimizer = torch.optim.Adam(Better_Network_2.parameters())\n",
    "Max_Iterations = 10000\n",
    "\n",
    "for n in range(Max_Iterations):\n",
    "    optimizer.zero_grad()   # zero the gradient buffers\n",
    "    Output_Data = Better_Network_2(Input_Data) # Notice here that it is NOT Input_Data_Scaled\n",
    "    Loss = Loss_Function(Output_Data, Target_Data_Scaled)\n",
    "    Loss.backward()\n",
    "    optimizer.step()    # Does the update\n",
    "    '''\n",
    "    if n % 10 == 0:\n",
    "        print('Reached Epoch', n)\n",
    "        print('Loss is', Loss)\n",
    "        print('Current Prediction is', Output_Data.view(1, -1)) # reshaped for readability\n",
    "        time.sleep(5) # This is just for my convenience so i can see what is happening before it continues\n",
    "    '''\n",
    "print('Final Result:')\n",
    "Output_Data = Better_Network_2(Input_Data)\n",
    "Loss = Loss_Function(Output_Data, Target_Data_Scaled)\n",
    "print(Loss)\n",
    "print(Output_Data.view(1, -1)) # reshaped for readability"
   ]
  },
  {
   "cell_type": "markdown",
   "metadata": {},
   "source": [
    "However, we need to scale the results back up as well now:"
   ]
  },
  {
   "cell_type": "code",
   "execution_count": 5,
   "metadata": {},
   "outputs": [
    {
     "name": "stdout",
     "output_type": "stream",
     "text": [
      "Loss is: tensor(155.1595, grad_fn=<MseLossBackward>)\n",
      "tensor([[  48.8473,   48.9315,   53.2814,   57.4380,   64.6736,   75.2767,\n",
      "           88.1173,  102.8596,  119.5233,  137.9920,  157.9742,  179.0984,\n",
      "          201.0042,  223.3885,  253.5789,  288.3331,  323.6436,  360.0324,\n",
      "          397.3939,  435.6455,  474.7223,  514.5760,  555.1672,  596.4682,\n",
      "          638.4562,  681.1106,  735.6388,  796.5303,  858.3719,  921.1119,\n",
      "          984.7042, 1049.1069, 1114.2838, 1180.1959, 1246.8099, 1314.0876,\n",
      "         1381.9955, 1450.4958, 1519.5520, 1598.3336, 1684.8268, 1771.9187,\n",
      "         1859.5593, 1947.6923, 2036.2635, 2125.2153, 2214.4890, 2304.0227,\n",
      "         2393.7571, 2483.6277, 2580.7625, 2691.5605, 2802.4282, 2913.2837,\n",
      "         3024.0452, 3134.6299, 3244.9543, 3354.9373, 3464.4968, 3573.5520,\n",
      "         3682.0229, 3802.2026, 3938.8142, 4074.4907, 4209.1372, 4342.6641,\n",
      "         4474.9814, 4606.0083, 4735.6626, 4863.8687, 4990.5552, 5140.2793,\n",
      "         5295.5347, 5448.7031, 5599.7148, 5748.5024, 5895.0063, 6039.1719,\n",
      "         6180.9521, 6349.7314, 6523.9194, 6695.0498, 6863.0830, 7027.9854,\n",
      "         7189.7310, 7348.3018, 7503.6826, 7678.8057, 7871.2993, 8059.7354,\n",
      "         8244.1182, 8424.4609, 8600.9941, 8793.9072, 8990.0234, 9181.5947,\n",
      "         9368.6602, 9551.2598, 9728.6738, 9887.0889]], grad_fn=<ViewBackward>)\n"
     ]
    }
   ],
   "source": [
    "Output_Data = Output_Data*Scaling_Factor\n",
    "\n",
    "print(\"Loss is:\", Loss_Function(Output_Data, Target_Data))\n",
    "print(Output_Data.view(1, -1)) # reshaped for readability"
   ]
  },
  {
   "cell_type": "markdown",
   "metadata": {},
   "source": [
    "This doesn't immediately seem to work much better, so now we will try with Input Data that was also scaled. First, we reinitialise the network, then we train and see our result:"
   ]
  },
  {
   "cell_type": "code",
   "execution_count": 6,
   "metadata": {},
   "outputs": [],
   "source": [
    "Better_Network_2 = nn.Sequential(nn.Linear(1, 30), nn.Tanh(), nn.Linear(30, 30), nn.Tanh(), nn.Linear(30, 30), nn.Tanh(),\n",
    "                                nn.Linear(30, 30), nn.ReLU(), nn.Linear(30, 1))"
   ]
  },
  {
   "cell_type": "code",
   "execution_count": 7,
   "metadata": {},
   "outputs": [
    {
     "name": "stdout",
     "output_type": "stream",
     "text": [
      "Final Result:\n",
      "Loss is: tensor(12228.5029, grad_fn=<MseLossBackward>)\n",
      "tensor([[-7.7099e+01, -5.1873e+01, -2.6623e+01, -1.3481e+00,  2.3947e+01,\n",
      "          4.9264e+01,  7.4604e+01,  9.9966e+01,  1.2535e+02,  1.5076e+02,\n",
      "          1.7619e+02,  2.0164e+02,  2.2711e+02,  2.5260e+02,  2.7812e+02,\n",
      "          3.0366e+02,  3.3170e+02,  3.6725e+02,  4.0282e+02,  4.3842e+02,\n",
      "          4.7403e+02,  5.0968e+02,  5.4534e+02,  5.8102e+02,  6.1673e+02,\n",
      "          6.5246e+02,  6.8820e+02,  7.2398e+02,  7.5977e+02,  7.9558e+02,\n",
      "          8.3141e+02,  8.6726e+02,  9.5209e+02,  1.0387e+03,  1.1253e+03,\n",
      "          1.2119e+03,  1.2985e+03,  1.3852e+03,  1.4719e+03,  1.5586e+03,\n",
      "          1.6453e+03,  1.7320e+03,  1.8188e+03,  1.9056e+03,  1.9923e+03,\n",
      "          2.0792e+03,  2.1660e+03,  2.2528e+03,  2.3397e+03,  2.4266e+03,\n",
      "          2.5134e+03,  2.6003e+03,  2.6927e+03,  2.8120e+03,  2.9313e+03,\n",
      "          3.0506e+03,  3.1700e+03,  3.2894e+03,  3.4088e+03,  3.5282e+03,\n",
      "          3.6476e+03,  3.7671e+03,  3.8865e+03,  4.0060e+03,  4.1254e+03,\n",
      "          4.2449e+03,  4.3644e+03,  4.4839e+03,  4.6034e+03,  4.7230e+03,\n",
      "          4.8425e+03,  4.9620e+03,  5.0816e+03,  5.2011e+03,  5.3674e+03,\n",
      "          5.5404e+03,  5.7133e+03,  5.8863e+03,  6.0592e+03,  6.2322e+03,\n",
      "          6.4052e+03,  6.5781e+03,  6.7511e+03,  6.9241e+03,  7.0971e+03,\n",
      "          7.2701e+03,  7.4430e+03,  7.6160e+03,  7.7890e+03,  7.9620e+03,\n",
      "          8.1350e+03,  8.3079e+03,  8.4809e+03,  8.6539e+03,  8.8268e+03,\n",
      "          8.9998e+03,  9.1728e+03,  9.3457e+03,  9.5186e+03,  9.6915e+03]],\n",
      "       grad_fn=<ViewBackward>)\n"
     ]
    }
   ],
   "source": [
    "optimizer = torch.optim.Adam(Better_Network_2.parameters())\n",
    "Max_Iterations = 10000\n",
    "\n",
    "for n in range(Max_Iterations):\n",
    "    optimizer.zero_grad()   # zero the gradient buffers\n",
    "    Output_Data = Better_Network_2(Input_Data_Scaled) # Notice here that it is NOT Input_Data_Scaled\n",
    "    Loss = Loss_Function(Output_Data, Target_Data_Scaled)\n",
    "    Loss.backward()\n",
    "    optimizer.step()    # Does the update\n",
    "    '''\n",
    "    if n % 10 == 0:\n",
    "        print('Reached Epoch', n)\n",
    "        print('Loss is', Loss)\n",
    "        print('Current Prediction is', Output_Data.view(1, -1)) # reshaped for readability\n",
    "        time.sleep(5) # This is just for my convenience so i can see what is happening before it continues\n",
    "    '''\n",
    "print('Final Result:')\n",
    "Output_Data = Better_Network_2(Input_Data_Scaled)\n",
    "Output_Data = Output_Data*Scaling_Factor\n",
    "print(\"Loss is:\", Loss_Function(Output_Data, Target_Data))\n",
    "print(Output_Data.view(1, -1)) # reshaped for readability"
   ]
  },
  {
   "cell_type": "markdown",
   "metadata": {},
   "source": [
    "Okay, this was horrible in comparison. The scale up in the end is an external process to the NN, just to allow us to see how good a job it did more intuitively. We know what the relationship between Target_Data and Target_Data_Scaled is, and if Output_Data approximates Target_Data_Scaled well, then making the same transformation should yeild a small loss between it and Target_Data.\n",
    "\n",
    "So the question is which scaling allows the best approximation of Target_Data_Scaled.\n",
    "\n",
    "- Unscaled Input -> Unscaled Target was alright\n",
    "\n",
    "- Unscaled Input -> Scaled Target was about the same. Running both multiple times shows that either one can perform better on any given attempt.\n",
    "\n",
    "- Scaled Input -> Scaled target produced a terrible approximation.\n",
    "\n",
    "Remember, the issue is not how well the network approximates $y = x^2 + x + 50$, but simply how well it approximates the given target data.\n",
    "\n",
    "The issue is potentially that the scaling factor used is the same for both Data sets. Let us try independantly normalising the two:"
   ]
  },
  {
   "cell_type": "markdown",
   "metadata": {},
   "source": [
    "### Double Normalisation"
   ]
  },
  {
   "cell_type": "code",
   "execution_count": 1,
   "metadata": {},
   "outputs": [],
   "source": [
    "import numpy as np\n",
    "import torch.nn as nn\n",
    "import torch\n",
    "import time\n",
    "Loss_Function = nn.MSELoss()"
   ]
  },
  {
   "cell_type": "code",
   "execution_count": 2,
   "metadata": {},
   "outputs": [
    {
     "name": "stdout",
     "output_type": "stream",
     "text": [
      "[[0.00502513 0.00522613 0.00562814 0.00623116 0.00703518 0.0080402\n",
      "  0.00924623 0.01065327 0.01226131 0.01407035 0.0160804  0.01829146\n",
      "  0.02070352 0.02331658 0.02613065 0.02914573 0.03236181 0.03577889\n",
      "  0.03939698 0.04321608 0.04723618 0.05145729 0.0558794  0.06050251\n",
      "  0.06532663 0.07035176 0.07557789 0.08100503 0.08663317 0.09246231\n",
      "  0.09849246 0.10472362 0.11115578 0.11778894 0.12462312 0.13165829\n",
      "  0.13889447 0.14633166 0.15396985 0.16180905 0.16984925 0.17809045\n",
      "  0.18653266 0.19517588 0.2040201  0.21306533 0.22231156 0.23175879\n",
      "  0.24140704 0.25125628 0.26130653 0.27155779 0.28201005 0.29266332\n",
      "  0.30351759 0.31457286 0.32582915 0.33728643 0.34894472 0.36080402\n",
      "  0.37286432 0.38512563 0.39758794 0.41025126 0.42311558 0.4361809\n",
      "  0.44944724 0.46291457 0.47658291 0.49045226 0.50452261 0.51879397\n",
      "  0.53326633 0.5479397  0.56281407 0.57788945 0.59316583 0.60864322\n",
      "  0.62432161 0.64020101 0.65628141 0.67256281 0.68904523 0.70572864\n",
      "  0.72261307 0.73969849 0.75698492 0.77447236 0.7921608  0.81005025\n",
      "  0.8281407  0.84643216 0.86492462 0.88361809 0.90251256 0.92160804\n",
      "  0.94090452 0.96040201 0.9801005  1.        ]]\n"
     ]
    }
   ],
   "source": [
    "Input_Data = np.arange(100)\n",
    "Input_Data = Input_Data.reshape(-1, 1)\n",
    "Target_Data = Input_Data**2 + Input_Data + 50\n",
    "\n",
    "# These are the lines where scaling takes place\n",
    "Scaling_Factor_Input = np.amax(Input_Data)\n",
    "Scaling_Factor_Target = np.amax(Target_Data)\n",
    "Input_Data_Scaled = Input_Data/Scaling_Factor_Input\n",
    "Target_Data_Scaled = Target_Data/Scaling_Factor_Target\n",
    "\n",
    "print(Target_Data_Scaled.reshape(1, -1)) # reshaped just so it fits on the page nicely\n",
    "\n",
    "Target_Data = torch.tensor(Target_Data, dtype=torch.float32) #Turn this into a tensor also, just to allow computation of loss\n",
    "Input_Data_Scaled = torch.tensor(Input_Data_Scaled, dtype=torch.float32, requires_grad=True)\n",
    "Target_Data_Scaled = torch.tensor(Target_Data_Scaled, dtype=torch.float32, requires_grad=True)"
   ]
  },
  {
   "cell_type": "code",
   "execution_count": 3,
   "metadata": {},
   "outputs": [],
   "source": [
    "Better_Network_2 = nn.Sequential(nn.Linear(1, 30), nn.Tanh(), nn.Linear(30, 30), nn.Tanh(), nn.Linear(30, 30), nn.Tanh(),\n",
    "                                nn.Linear(30, 30), nn.ReLU(), nn.Linear(30, 1))"
   ]
  },
  {
   "cell_type": "code",
   "execution_count": 4,
   "metadata": {},
   "outputs": [
    {
     "name": "stdout",
     "output_type": "stream",
     "text": [
      "Final Result:\n",
      "Loss is: tensor(159.8869, grad_fn=<MseLossBackward>)\n",
      "tensor([[  48.5908,   53.7471,   58.8083,   63.7739,   71.6121,   80.1517,\n",
      "           88.6266,   97.0361,  117.2570,  137.6169,  157.9832,  178.3547,\n",
      "          198.7278,  225.6299,  258.8672,  292.1520,  325.4800,  358.8480,\n",
      "          392.2490,  425.6808,  459.1374,  502.9512,  553.3946,  603.9490,\n",
      "          654.6070,  705.3601,  756.1992,  807.1157,  858.1019,  909.1488,\n",
      "          960.2452, 1014.7471, 1088.3585, 1162.1637, 1236.1511, 1310.3107,\n",
      "         1384.6320, 1459.1012, 1533.7090, 1608.4413, 1683.2867, 1760.9408,\n",
      "         1850.1373, 1939.4685, 2028.9198, 2118.4749, 2208.1172, 2297.8303,\n",
      "         2387.5969, 2477.3989, 2580.6611, 2690.9771, 2801.3008, 2911.6064,\n",
      "         3021.8674, 3132.0598, 3242.1543, 3352.1267, 3461.9487, 3571.5935,\n",
      "         3681.0317, 3806.6938, 3940.4795, 4074.0957, 4207.5049, 4340.6704,\n",
      "         4473.5566, 4606.1284, 4738.3462, 4870.1743, 5001.5728, 5132.5059,\n",
      "         5280.3901, 5436.6855, 5592.4648, 5747.6816, 5902.2861, 6056.2295,\n",
      "         6209.4653, 6361.9453, 6513.6211, 6664.4463, 6834.7964, 7009.6899,\n",
      "         7183.5576, 7356.3403, 7527.9824, 7698.4229, 7867.6069, 8035.4824,\n",
      "         8201.9932, 8393.7021, 8590.4258, 8785.4473, 8978.7080, 9170.1543,\n",
      "         9359.7334, 9547.3975, 9729.6152, 9906.4229]], grad_fn=<ViewBackward>)\n"
     ]
    }
   ],
   "source": [
    "optimizer = torch.optim.Adam(Better_Network_2.parameters())\n",
    "Max_Iterations = 10000\n",
    "\n",
    "for n in range(Max_Iterations):\n",
    "    optimizer.zero_grad()   # zero the gradient buffers\n",
    "    Output_Data = Better_Network_2(Input_Data_Scaled) # Notice here that it is NOT Input_Data_Scaled\n",
    "    Loss = Loss_Function(Output_Data, Target_Data_Scaled)\n",
    "    Loss.backward()\n",
    "    optimizer.step()    # Does the update\n",
    "    '''\n",
    "    if n % 10 == 0:\n",
    "        print('Reached Epoch', n)\n",
    "        print('Loss is', Loss)\n",
    "        print('Current Prediction is', Output_Data.view(1, -1)) # reshaped for readability\n",
    "        time.sleep(5) # This is just for my convenience so i can see what is happening before it continues\n",
    "    '''\n",
    "print('Final Result:')\n",
    "Output_Data = Better_Network_2(Input_Data_Scaled)\n",
    "Output_Data = Output_Data*Scaling_Factor_Target\n",
    "print(\"Loss is:\", Loss_Function(Output_Data, Target_Data))\n",
    "print(Output_Data.view(1, -1)) # reshaped for readability"
   ]
  },
  {
   "cell_type": "markdown",
   "metadata": {},
   "source": [
    "Okay, this hasn't really helped at all. The approximation is about as good, once again, at no scaling whatsoever. Perhaps the values are too small? Let's try a logaritmic scaling."
   ]
  },
  {
   "cell_type": "markdown",
   "metadata": {},
   "source": [
    "### Log scaling"
   ]
  },
  {
   "cell_type": "markdown",
   "metadata": {},
   "source": [
    "Remember if $\\log_{10}(a) = b$ then $10^b = a$. This will be the reversing transformation at the end.\n",
    "\n",
    "Also, log scaling like this will introduce negative values for elements less than 1. Nothing in my dataset is less than 1 prior to scaling, but of course this is just luck. this ay be an issue simply because I haven't experimented with negative values yet and am not sure what teh affect on choice of activation functions will be (ie sigmoid has no negative output, unlike tanh)\n",
    "\n",
    "Let's just try both applying a logarithm to just the target data and to both the input and the target.\n",
    "\n",
    "First, just the target:"
   ]
  },
  {
   "cell_type": "code",
   "execution_count": 1,
   "metadata": {},
   "outputs": [],
   "source": [
    "import numpy as np\n",
    "import torch.nn as nn\n",
    "import torch\n",
    "import time\n",
    "Loss_Function = nn.MSELoss()"
   ]
  },
  {
   "cell_type": "code",
   "execution_count": 2,
   "metadata": {},
   "outputs": [
    {
     "name": "stdout",
     "output_type": "stream",
     "text": [
      "[[1.69897    1.71600334 1.74818803 1.79239169 1.84509804 1.90308999\n",
      "  1.96378783 2.02530587 2.08635983 2.14612804 2.20411998 2.26007139\n",
      "  2.31386722 2.36548798 2.41497335 2.462398   2.50785587 2.55145\n",
      "  2.59328607 2.63346846 2.67209786 2.70926996 2.74507479 2.77959649\n",
      "  2.81291336 2.84509804 2.87621784 2.90633504 2.93550727 2.96378783\n",
      "  2.99122608 3.01786772 3.04375513 3.06892761 3.09342169 3.1172713\n",
      "  3.14050804 3.16316137 3.18525877 3.20682588 3.2278867  3.24846372\n",
      "  3.26857797 3.28824923 3.30749604 3.32633586 3.34478512 3.3628593\n",
      "  3.380573   3.39794001 3.41497335 3.43168534 3.44808767 3.46419137\n",
      "  3.48000694 3.49554434 3.51081301 3.52582195 3.54057972 3.55509445\n",
      "  3.56937391 3.5834255  3.59725628 3.610873   3.6242821  3.63748973\n",
      "  3.65050179 3.66332393 3.67596155 3.68841982 3.70070372 3.712818\n",
      "  3.72476725 3.73655585 3.74818803 3.75966784 3.77099921 3.78218587\n",
      "  3.79323145 3.80413943 3.81491318 3.82555593 3.83607081 3.84646083\n",
      "  3.85672889 3.86687781 3.87691031 3.886829   3.89663643 3.90633504\n",
      "  3.91592721 3.92541524 3.93480134 3.94408768 3.95327634 3.96236934\n",
      "  3.97136864 3.98027614 3.98909369 3.99782308]]\n"
     ]
    }
   ],
   "source": [
    "Input_Data = np.arange(100)\n",
    "Input_Data = Input_Data.reshape(-1, 1)\n",
    "Target_Data = Input_Data**2 + Input_Data + 50\n",
    "\n",
    "# These are the lines where scaling takes place\n",
    "Input_Data_Scaled = Input_Data # No change here, but name change to reuse code\n",
    "Target_Data_Scaled = np.log10(Target_Data)\n",
    "\n",
    "print(Target_Data_Scaled.reshape(1, -1)) # reshaped just so it fits on the page nicely\n",
    "\n",
    "Target_Data = torch.tensor(Target_Data, dtype=torch.float32) #Turn this into a tensor also, just to allow computation of loss\n",
    "Input_Data_Scaled = torch.tensor(Input_Data_Scaled, dtype=torch.float32, requires_grad=True)\n",
    "Target_Data_Scaled = torch.tensor(Target_Data_Scaled, dtype=torch.float32, requires_grad=True)"
   ]
  },
  {
   "cell_type": "code",
   "execution_count": 3,
   "metadata": {},
   "outputs": [],
   "source": [
    "Better_Network_2 = nn.Sequential(nn.Linear(1, 30), nn.Tanh(), nn.Linear(30, 30), nn.Tanh(), nn.Linear(30, 30), nn.Tanh(),\n",
    "                                nn.Linear(30, 30), nn.ReLU(), nn.Linear(30, 1))"
   ]
  },
  {
   "cell_type": "code",
   "execution_count": 4,
   "metadata": {},
   "outputs": [
    {
     "name": "stdout",
     "output_type": "stream",
     "text": [
      "Now starting training ...\n",
      "Final Result:\n",
      "Loss is: tensor(323.8916, grad_fn=<MseLossBackward>)\n",
      "tensor([[  50.0038,   52.0103,   55.9414,   62.1794,   69.8635,   79.5464,\n",
      "           92.2009,  106.4471,  122.4087,  140.2052,  159.9356,  181.6750,\n",
      "          205.4736,  231.3596,  259.3419,  289.4162,  321.5676,  355.7767,\n",
      "          392.0223,  430.2835,  470.5422,  512.7838,  556.9971,  603.1741,\n",
      "          651.3096,  701.4017,  753.4480,  807.4496,  863.4081,  921.3236,\n",
      "          981.1986, 1043.0355, 1106.8380, 1172.6067, 1240.3473, 1310.0623,\n",
      "         1381.7561, 1455.4355, 1531.1040, 1608.7714, 1688.4447, 1770.1328,\n",
      "         1853.8477, 1939.5975, 2027.3962, 2117.2554, 2209.1924, 2303.2163,\n",
      "         2399.3445, 2496.6638, 2595.8093, 2697.0361, 2800.3540, 2905.7788,\n",
      "         3013.3242, 3122.9995, 3234.8159, 3348.7874, 3464.9155, 3583.2092,\n",
      "         3703.6768, 3826.3203, 3951.1372, 4078.1294, 4207.2949, 4338.6235,\n",
      "         4472.1123, 4607.7446, 4745.5151, 4885.3955, 5027.3706, 5171.4189,\n",
      "         5317.5151, 5465.6289, 5615.7256, 5767.7681, 5921.7197, 6077.5410,\n",
      "         6235.1787, 6394.5918, 6555.7266, 6718.5234, 6882.9258, 7048.8779,\n",
      "         7216.3145, 7385.1704, 7555.3638, 7726.8359, 7899.5020, 8073.2954,\n",
      "         8248.1318, 8423.9473, 8600.6348, 8778.1260, 8956.3350, 9135.1621,\n",
      "         9314.5527, 9494.3896, 9674.6025, 9855.0977]], grad_fn=<ViewBackward>)\n"
     ]
    }
   ],
   "source": [
    "optimizer = torch.optim.Adam(Better_Network_2.parameters())\n",
    "Max_Iterations = 10000\n",
    "\n",
    "print(\"Now starting training ...\")\n",
    "\n",
    "for n in range(Max_Iterations):\n",
    "    optimizer.zero_grad()   # zero the gradient buffers\n",
    "    Output_Data = Better_Network_2(Input_Data_Scaled) # Notice here that it is NOT Input_Data_Scaled\n",
    "    Loss = Loss_Function(Output_Data, Target_Data_Scaled)\n",
    "    Loss.backward()\n",
    "    optimizer.step()    # Does the update\n",
    "    '''\n",
    "    if n % 10 == 0:\n",
    "        print('Reached Epoch', n)\n",
    "        print('Loss is', Loss)\n",
    "        print('Current Prediction is', Output_Data.view(1, -1)) # reshaped for readability\n",
    "        time.sleep(5) # This is just for my convenience so i can see what is happening before it continues\n",
    "    '''\n",
    "print('Final Result:')\n",
    "Output_Data = Better_Network_2(Input_Data_Scaled)\n",
    "Output_Data = 10**Output_Data # Notice the reversal of the logarithm is here, and not a simple scale factor liek before\n",
    "print(\"Loss is:\", Loss_Function(Output_Data, Target_Data))\n",
    "print(Output_Data.view(1, -1)) # reshaped for readability"
   ]
  },
  {
   "cell_type": "markdown",
   "metadata": {},
   "source": [
    "Next, both log scaled:\n",
    "\n",
    "However, note that the first element of Input_Data is 0, so the logarithm of it will be $-\\infty$. This isn't brilliant, but I am just going to not have the 0 for this test."
   ]
  },
  {
   "cell_type": "code",
   "execution_count": 5,
   "metadata": {},
   "outputs": [
    {
     "name": "stdout",
     "output_type": "stream",
     "text": [
      "[[1.71600334 1.74818803 1.79239169 1.84509804 1.90308999 1.96378783\n",
      "  2.02530587 2.08635983 2.14612804 2.20411998 2.26007139 2.31386722\n",
      "  2.36548798 2.41497335 2.462398   2.50785587 2.55145    2.59328607\n",
      "  2.63346846 2.67209786 2.70926996 2.74507479 2.77959649 2.81291336\n",
      "  2.84509804 2.87621784 2.90633504 2.93550727 2.96378783 2.99122608\n",
      "  3.01786772 3.04375513 3.06892761 3.09342169 3.1172713  3.14050804\n",
      "  3.16316137 3.18525877 3.20682588 3.2278867  3.24846372 3.26857797\n",
      "  3.28824923 3.30749604 3.32633586 3.34478512 3.3628593  3.380573\n",
      "  3.39794001 3.41497335 3.43168534 3.44808767 3.46419137 3.48000694\n",
      "  3.49554434 3.51081301 3.52582195 3.54057972 3.55509445 3.56937391\n",
      "  3.5834255  3.59725628 3.610873   3.6242821  3.63748973 3.65050179\n",
      "  3.66332393 3.67596155 3.68841982 3.70070372 3.712818   3.72476725\n",
      "  3.73655585 3.74818803 3.75966784 3.77099921 3.78218587 3.79323145\n",
      "  3.80413943 3.81491318 3.82555593 3.83607081 3.84646083 3.85672889\n",
      "  3.86687781 3.87691031 3.886829   3.89663643 3.90633504 3.91592721\n",
      "  3.92541524 3.93480134 3.94408768 3.95327634 3.96236934 3.97136864\n",
      "  3.98027614 3.98909369 3.99782308]]\n",
      "Now starting training ...\n",
      "Final Result:\n",
      "Loss is: tensor(250.4840, grad_fn=<MseLossBackward>)\n",
      "tensor([[  52.0000,   55.9875,   61.9678,   70.0364,   80.0163,   91.8406,\n",
      "          106.2001,  121.4965,  140.4959,  160.1178,  181.2967,  206.7637,\n",
      "          233.5714,  261.7154,  291.1924,  321.9979,  354.1274,  387.5765,\n",
      "          426.0715,  467.1666,  510.1732,  555.0978,  601.9436,  650.7134,\n",
      "          701.4078,  754.0248,  808.5621,  865.0131,  923.3734,  983.6320,\n",
      "         1045.7808, 1109.8048, 1175.6923, 1243.4282, 1312.9969, 1384.3779,\n",
      "         1457.5536, 1532.5017, 1609.2024, 1687.6321, 1767.7672, 1849.5801,\n",
      "         1933.0515, 2018.1462, 2105.4917, 2200.4871, 2297.4338, 2396.3118,\n",
      "         2497.0847, 2599.7283, 2704.2117, 2810.5034, 2918.5750, 3028.3955,\n",
      "         3139.9312, 3253.1445, 3368.0132, 3484.4980, 3602.5625, 3722.1846,\n",
      "         3843.3179, 3965.9387, 4090.0100, 4215.4932, 4342.3574, 4470.5708,\n",
      "         4600.1016, 4730.9121, 4862.9697, 4996.2500, 5130.7095, 5267.6655,\n",
      "         5422.4160, 5578.7109, 5736.5059, 5895.7725, 6056.4746, 6218.5620,\n",
      "         6382.0122, 6546.7676, 6712.8091, 6880.0996, 7048.6030, 7218.2798,\n",
      "         7389.0879, 7561.0068, 7734.0034, 7908.0322, 8083.0742, 8259.0791,\n",
      "         8436.0264, 8613.8936, 8792.6436, 8972.2305, 9152.6406, 9333.8350,\n",
      "         9515.7949, 9698.4902, 9881.8818]], grad_fn=<ViewBackward>)\n"
     ]
    }
   ],
   "source": [
    "Input_Data = np.arange(1, 100) # Set a starting value of 1, rather than the default of 0. This results in 1 fewer eleent in the array than in previous examples.\n",
    "Input_Data = Input_Data.reshape(-1, 1)\n",
    "Target_Data = Input_Data**2 + Input_Data + 50\n",
    "\n",
    "# These are the lines where scaling takes place\n",
    "Input_Data_Scaled = np.log10(Input_Data)\n",
    "Target_Data_Scaled = np.log10(Target_Data)\n",
    "\n",
    "Target_Data = torch.tensor(Target_Data, dtype=torch.float32) #Turn this into a tensor also, just to allow computation of loss\n",
    "Input_Data_Scaled = torch.tensor(Input_Data_Scaled, dtype=torch.float32, requires_grad=True)\n",
    "Target_Data_Scaled = torch.tensor(Target_Data_Scaled, dtype=torch.float32, requires_grad=True)\n",
    "\n",
    "\n",
    "Better_Network_2 = nn.Sequential(nn.Linear(1, 30), nn.Tanh(), nn.Linear(30, 30), nn.Tanh(), nn.Linear(30, 30), nn.Tanh(),\n",
    "                                nn.Linear(30, 30), nn.ReLU(), nn.Linear(30, 1))\n",
    "\n",
    "\n",
    "optimizer = torch.optim.Adam(Better_Network_2.parameters())\n",
    "Max_Iterations = 10000\n",
    "\n",
    "print(\"Now starting training ...\")\n",
    "\n",
    "for n in range(Max_Iterations):\n",
    "    optimizer.zero_grad()   # zero the gradient buffers\n",
    "    Output_Data = Better_Network_2(Input_Data_Scaled) # Notice here that it is NOT Input_Data_Scaled\n",
    "    Loss = Loss_Function(Output_Data, Target_Data_Scaled)\n",
    "    Loss.backward()\n",
    "    optimizer.step()    # Does the update\n",
    "    '''\n",
    "    if n % 10 == 0:\n",
    "        print('Reached Epoch', n)\n",
    "        print('Loss is', Loss)\n",
    "        print('Current Prediction is', Output_Data.view(1, -1)) # reshaped for readability\n",
    "        time.sleep(5) # This is just for my convenience so i can see what is happening before it continues\n",
    "    '''\n",
    "print('Final Result:')\n",
    "Output_Data = Better_Network_2(Input_Data_Scaled)\n",
    "Output_Data = 10**Output_Data # Notice the reversal of the logarithm is here, and not a simple scale factor liek before\n",
    "print(\"Loss is:\", Loss_Function(Output_Data, Target_Data))\n",
    "print(Output_Data.view(1, -1)) # reshaped for readability"
   ]
  },
  {
   "cell_type": "markdown",
   "metadata": {},
   "source": [
    "While it is nice to see that applying logs isn't breaking anything (as long as all the data is $\\geq 0$), there was also no real advantage. Let's try changing the network again:"
   ]
  },
  {
   "cell_type": "markdown",
   "metadata": {},
   "source": [
    "## Testing Variations"
   ]
  },
  {
   "cell_type": "markdown",
   "metadata": {},
   "source": [
    "Now we will use the `nn.ModuleList` object to test a number of networks of various types to see which manages to produce the lowest loss on the same problem."
   ]
  },
  {
   "cell_type": "markdown",
   "metadata": {},
   "source": [
    "We can vary\n",
    "\n",
    "- The amount of layers\n",
    "\n",
    "- The size of the layers\n",
    "\n",
    "- The use of ReLU, Tanh and sigmoid (R, T, S)\n",
    "\n",
    "However i will not change the optimiser now and I will use the optimiser's default learning rate."
   ]
  },
  {
   "cell_type": "code",
   "execution_count": 1,
   "metadata": {},
   "outputs": [],
   "source": [
    "import numpy as np\n",
    "import torch.nn as nn\n",
    "import torch\n",
    "import time\n",
    "Loss_Function = nn.MSELoss()"
   ]
  },
  {
   "cell_type": "markdown",
   "metadata": {},
   "source": [
    "In order to test all the variations, I have created a general purpose permutation function below. The idea is that you tell the function the amount of layers (Instances) and the possible values that each layer can be described by. In this case, I will feed it a list of `[1, 2, 3]` with 1 corresponding to a Sigmoid function, 2 corresponding to a Tanh, and 3 corresponding to a ReLU. However, this translation is not done in this block of code.\n",
    "\n",
    "The logic of the function is that I track 2 lists. I do the leg work on a list that iterates through indices, ie [0, 0, 1, 2] then [0, 0, 1, 3] and then each iteration use this list of indices to create a new list where the value at each point in the index list chooses the value in my new list. I then add this permutation to my grand list of lists."
   ]
  },
  {
   "cell_type": "code",
   "execution_count": 5,
   "metadata": {},
   "outputs": [],
   "source": [
    "def Permutate(Instances, Option_List):\n",
    "    '''\n",
    "    Instances: Integer\n",
    "            Number of elements in list, each of which is expected to be able to take any value given in Option_List\n",
    "    Option_List: List\n",
    "            List of options that each element in the list can be\n",
    "    '''\n",
    "    \n",
    "    Element_Index = -1 # negative as we cycle back from the final index\n",
    "    Option_Index = 0\n",
    "    Option_Total = len(Option_List)\n",
    "    Permutation_Tracker = [0 for _ in range(Instances)] # List of indices used to do the legwork for easier cranking through permutations\n",
    "    Current_Permutation = [Option_List[0] for _ in range(Instances)] # assigns an option to each element based on the index in the current Permutation_Tracker\n",
    "\n",
    "    List_of_Permutations = [list(Current_Permutation)] # The default list of zeroth options can be immediately added\n",
    "  \n",
    "    while True:\n",
    "        if Permutation_Tracker[Element_Index] == Option_Total-1: #flags that the highest option has been reached for this point in the list, and so slides up\n",
    "            Element_Index -= 1\n",
    "            if -1*Element_Index > Instances: #final flag to say that to perform any more permutations, would need to fall off the begining of the list\n",
    "                break\n",
    "\n",
    "        else: # in case where sliding was not triggered, this means that the index at this point in the tracker can be notched up\n",
    "            Permutation_Tracker[Element_Index] += 1\n",
    "            for n in range(Element_Index+1, 0): # and all indices to the right can be zeroed\n",
    "                Permutation_Tracker[n] = 0\n",
    "\n",
    "            Element_Index = -1 # and we begin from the rightmost point again\n",
    "\n",
    "            for i in range(Instances): # uses the indices described by the tracker to create a list from the provided options\n",
    "                Current_Permutation[i] = Option_List[Permutation_Tracker[i]]\n",
    "\n",
    "            List_of_Permutations.append(list(Current_Permutation))\n",
    "\n",
    "    return List_of_Permutations"
   ]
  },
  {
   "cell_type": "markdown",
   "metadata": {},
   "source": [
    "I now use this permutation function to create a list of distinct neural networks, which are appended into a list using `nn.ModuleList`. The idea is that I\n",
    "\n",
    "1. Examine all each number of hidden layers (up to 4)\n",
    "\n",
    "2. For each number of hidden layers, examine the affect on the size of the layers (all size 10, to all size 30)\n",
    "\n",
    "3. For each size and number of hidden layer combination, examine each combination of activation functions at each hidden layer.\n",
    "\n",
    "This last one proved very hard to manage as the amount of permutations is dependant on the number of layers, hence the number of nested loops needed to be a variable itself!\n",
    "\n",
    "The solution was to use my Permutate function above, and create a reference, fully shaped NN, through which I could modify the activation functions present through indexing provided in Permutate().\n",
    "\n",
    "> Note: This probably means, that for each shape of NN, the random initialisation of the weights is the same across all permutations of activation functions. "
   ]
  },
  {
   "cell_type": "code",
   "execution_count": 3,
   "metadata": {},
   "outputs": [],
   "source": [
    "TrialNNs = nn.ModuleList([])\n",
    "All_Sizes = []\n",
    "All_Perms = []\n",
    "for layers in [1,2,3,4]:\n",
    "    for size in [10,20,30]:\n",
    "        # Initial shaping of Network\n",
    "        NewNetworkList = [nn.Linear(1, size), nn.Sigmoid()]\n",
    "        for layer in range(1, layers):\n",
    "            NewNetworkList.append(nn.Linear(size, size))\n",
    "            NewNetworkList.append(nn.Sigmoid)\n",
    "            \n",
    "        NewNetworkList.append(nn.Linear(size, 1))  \n",
    "        \n",
    "        \n",
    "        Available_Permutations = Permutate(layers, [1,2,3])\n",
    "        \n",
    "        for Curr_Perm in Available_Permutations: #Curr_Perm is itself a list, containing the indices for defining the activation functions in this permutation\n",
    "            All_Sizes += [size]\n",
    "            All_Perms.append(Curr_Perm)\n",
    "            for Act_layer, Act_Type in enumerate(Curr_Perm):\n",
    "                index = (Act_layer*2)+1 # The activation functions are present at point indexed to be 1, 3, 5 etc (seperated by the nn.Linear)\n",
    "                \n",
    "                if Act_Type == 1:\n",
    "                    NewNetworkList[index] = nn.Sigmoid()\n",
    "                elif Act_Type == 2:\n",
    "                    NewNetworkList[index] = nn.Tanh()\n",
    "                else:\n",
    "                    NewNetworkList[index] = nn.ReLU()\n",
    "                \n",
    "            NewNetwork = nn.Sequential(*NewNetworkList)\n",
    "            TrialNNs.append(NewNetwork)"
   ]
  },
  {
   "cell_type": "markdown",
   "metadata": {},
   "source": [
    "Now that the list of NNs is ready, we modify the standard loop from before to train each NN in the list in turn, and print the loss for each."
   ]
  },
  {
   "cell_type": "code",
   "execution_count": 4,
   "metadata": {},
   "outputs": [
    {
     "name": "stdout",
     "output_type": "stream",
     "text": [
      "For the module of size: 10 , and type: [1]\n",
      "Loss is: 19587660.0\n",
      "For the module of size: 10 , and type: [2]\n",
      "Loss is: 18879778.0\n",
      "New Record! \n",
      " \n",
      "\n",
      "For the module of size: 10 , and type: [3]\n",
      "Loss is: 146501.5\n",
      "New Record! \n",
      " \n",
      "\n",
      "For the module of size: 20 , and type: [1]\n",
      "Loss is: 18911486.0\n",
      "For the module of size: 20 , and type: [2]\n",
      "Loss is: 17619076.0\n",
      "For the module of size: 20 , and type: [3]\n",
      "Loss is: 158141.765625\n",
      "For the module of size: 30 , and type: [1]\n",
      "Loss is: 18261726.0\n",
      "For the module of size: 30 , and type: [2]\n",
      "Loss is: 16433583.0\n",
      "For the module of size: 30 , and type: [3]\n",
      "Loss is: 430116.40625\n",
      "For the module of size: 10 , and type: [1, 1]\n",
      "Loss is: 19586834.0\n",
      "For the module of size: 10 , and type: [1, 2]\n",
      "Loss is: 18878858.0\n",
      "For the module of size: 10 , and type: [1, 3]\n",
      "Loss is: 811.5999755859375\n",
      "New Record! \n",
      " \n",
      "\n",
      "For the module of size: 10 , and type: [2, 1]\n",
      "Loss is: 17921158.0\n",
      "For the module of size: 10 , and type: [2, 2]\n",
      "Loss is: 17263256.0\n",
      "For the module of size: 10 , and type: [2, 3]\n",
      "Loss is: 880.3944702148438\n",
      "For the module of size: 10 , and type: [3, 1]\n",
      "Loss is: 16631473.0\n",
      "For the module of size: 10 , and type: [3, 2]\n",
      "Loss is: 16009348.0\n",
      "For the module of size: 10 , and type: [3, 3]\n",
      "Loss is: 119658.9375\n",
      "For the module of size: 20 , and type: [1, 1]\n",
      "Loss is: 19002900.0\n",
      "For the module of size: 20 , and type: [1, 2]\n",
      "Loss is: 17705482.0\n",
      "For the module of size: 20 , and type: [1, 3]\n",
      "Loss is: 134.0706024169922\n",
      "New Record! \n",
      " \n",
      "\n",
      "For the module of size: 20 , and type: [2, 1]\n",
      "Loss is: 16418726.0\n",
      "For the module of size: 20 , and type: [2, 2]\n",
      "Loss is: 15211849.0\n",
      "For the module of size: 20 , and type: [2, 3]\n",
      "Loss is: 38.00156784057617\n",
      "New Record! \n",
      " \n",
      "\n",
      "For the module of size: 20 , and type: [3, 1]\n",
      "Loss is: 14280247.0\n",
      "For the module of size: 20 , and type: [3, 2]\n",
      "Loss is: 13134268.0\n",
      "For the module of size: 20 , and type: [3, 3]\n",
      "Loss is: 3692.304931640625\n",
      "For the module of size: 30 , and type: [1, 1]\n",
      "Loss is: 18310098.0\n",
      "For the module of size: 30 , and type: [1, 2]\n",
      "Loss is: 16478529.0\n",
      "For the module of size: 30 , and type: [1, 3]\n",
      "Loss is: 170.91629028320312\n",
      "For the module of size: 30 , and type: [2, 1]\n",
      "Loss is: 14760684.0\n",
      "For the module of size: 30 , and type: [2, 2]\n",
      "Loss is: 13208304.0\n",
      "For the module of size: 30 , and type: [2, 3]\n",
      "Loss is: 90.7600326538086\n",
      "For the module of size: 30 , and type: [3, 1]\n",
      "Loss is: 12704117.0\n",
      "For the module of size: 30 , and type: [3, 2]\n",
      "Loss is: 12023681.0\n",
      "For the module of size: 30 , and type: [3, 3]\n",
      "Loss is: 489.68231201171875\n",
      "For the module of size: 10 , and type: [1, 1, 1]\n",
      "Loss is: 19593572.0\n",
      "For the module of size: 10 , and type: [1, 1, 2]\n",
      "Loss is: 18887776.0\n",
      "For the module of size: 10 , and type: [1, 1, 3]\n",
      "Loss is: 788.8953247070312\n",
      "For the module of size: 10 , and type: [1, 2, 1]\n",
      "Loss is: 17953468.0\n",
      "For the module of size: 10 , and type: [1, 2, 2]\n",
      "Loss is: 17294186.0\n",
      "For the module of size: 10 , and type: [1, 2, 3]\n",
      "Loss is: 99.24542999267578\n",
      "For the module of size: 10 , and type: [1, 3, 1]\n",
      "Loss is: 16693144.0\n",
      "For the module of size: 10 , and type: [1, 3, 2]\n",
      "Loss is: 16092787.0\n",
      "For the module of size: 10 , and type: [1, 3, 3]\n",
      "Loss is: 2512.260498046875\n",
      "For the module of size: 10 , and type: [2, 1, 1]\n",
      "Loss is: 15433498.0\n",
      "For the module of size: 10 , and type: [2, 1, 2]\n",
      "Loss is: 14844452.0\n",
      "For the module of size: 10 , and type: [2, 1, 3]\n",
      "Loss is: 71.49545288085938\n",
      "For the module of size: 10 , and type: [2, 2, 1]\n",
      "Loss is: 14274099.0\n",
      "For the module of size: 10 , and type: [2, 2, 2]\n",
      "Loss is: 13748966.0\n",
      "For the module of size: 10 , and type: [2, 2, 3]\n",
      "Loss is: 264.9786682128906\n",
      "For the module of size: 10 , and type: [2, 3, 1]\n",
      "Loss is: 13180855.0\n",
      "For the module of size: 10 , and type: [2, 3, 2]\n",
      "Loss is: 12666742.0\n",
      "For the module of size: 10 , and type: [2, 3, 3]\n",
      "Loss is: 12192529.0\n",
      "For the module of size: 10 , and type: [3, 1, 1]\n",
      "Loss is: 12060340.0\n",
      "For the module of size: 10 , and type: [3, 1, 2]\n",
      "Loss is: 11592677.0\n",
      "For the module of size: 10 , and type: [3, 1, 3]\n",
      "Loss is: 26206.271484375\n",
      "For the module of size: 10 , and type: [3, 2, 1]\n",
      "Loss is: 11105234.0\n",
      "For the module of size: 10 , and type: [3, 2, 2]\n",
      "Loss is: 10659075.0\n",
      "For the module of size: 10 , and type: [3, 2, 3]\n",
      "Loss is: 20654.568359375\n",
      "For the module of size: 10 , and type: [3, 3, 1]\n",
      "Loss is: 11165443.0\n",
      "For the module of size: 10 , and type: [3, 3, 2]\n",
      "Loss is: 11239834.0\n",
      "For the module of size: 10 , and type: [3, 3, 3]\n",
      "Loss is: 5531130.0\n",
      "For the module of size: 20 , and type: [1, 1, 1]\n",
      "Loss is: 18940454.0\n",
      "For the module of size: 20 , and type: [1, 1, 2]\n",
      "Loss is: 17659602.0\n",
      "For the module of size: 20 , and type: [1, 1, 3]\n",
      "Loss is: 298.5511169433594\n",
      "For the module of size: 20 , and type: [1, 2, 1]\n",
      "Loss is: 16277044.0\n",
      "For the module of size: 20 , and type: [1, 2, 2]\n",
      "Loss is: 15126650.0\n",
      "For the module of size: 20 , and type: [1, 2, 3]\n",
      "Loss is: 18.295974731445312\n",
      "New Record! \n",
      " \n",
      "\n",
      "For the module of size: 20 , and type: [1, 3, 1]\n",
      "Loss is: 14224451.0\n",
      "For the module of size: 20 , and type: [1, 3, 2]\n",
      "Loss is: 13304626.0\n",
      "For the module of size: 20 , and type: [1, 3, 3]\n",
      "Loss is: 1754.2576904296875\n",
      "For the module of size: 20 , and type: [2, 1, 1]\n",
      "Loss is: 12054334.0\n",
      "For the module of size: 20 , and type: [2, 1, 2]\n",
      "Loss is: 11134163.0\n",
      "For the module of size: 20 , and type: [2, 1, 3]\n",
      "Loss is: 82.2795181274414\n",
      "For the module of size: 20 , and type: [2, 2, 1]\n",
      "Loss is: 10269536.0\n",
      "For the module of size: 20 , and type: [2, 2, 2]\n",
      "Loss is: 9650131.0\n",
      "For the module of size: 20 , and type: [2, 2, 3]\n",
      "Loss is: 163.40115356445312\n",
      "For the module of size: 20 , and type: [2, 3, 1]\n",
      "Loss is: 8687548.0\n",
      "For the module of size: 20 , and type: [2, 3, 2]\n",
      "Loss is: 8016541.0\n",
      "For the module of size: 20 , and type: [2, 3, 3]\n",
      "Loss is: 3273.843505859375\n",
      "For the module of size: 20 , and type: [3, 1, 1]\n",
      "Loss is: 7271037.0\n",
      "For the module of size: 20 , and type: [3, 1, 2]\n",
      "Loss is: 6632303.5\n",
      "For the module of size: 20 , and type: [3, 1, 3]\n",
      "Loss is: 7111.53076171875\n",
      "For the module of size: 20 , and type: [3, 2, 1]\n",
      "Loss is: 6023907.5\n",
      "For the module of size: 20 , and type: [3, 2, 2]\n",
      "Loss is: 5468829.0\n",
      "For the module of size: 20 , and type: [3, 2, 3]\n",
      "Loss is: 24789.931640625\n",
      "For the module of size: 20 , and type: [3, 3, 1]\n",
      "Loss is: 5801883.0\n",
      "For the module of size: 20 , and type: [3, 3, 2]\n",
      "Loss is: 5223517.0\n",
      "For the module of size: 20 , and type: [3, 3, 3]\n",
      "Loss is: 10505600.0\n",
      "For the module of size: 30 , and type: [1, 1, 1]\n",
      "Loss is: 18330868.0\n",
      "For the module of size: 30 , and type: [1, 1, 2]\n",
      "Loss is: 16536297.0\n",
      "For the module of size: 30 , and type: [1, 1, 3]\n",
      "Loss is: 298.02001953125\n",
      "For the module of size: 30 , and type: [1, 2, 1]\n",
      "Loss is: 14755305.0\n",
      "For the module of size: 30 , and type: [1, 2, 2]\n",
      "Loss is: 13204473.0\n",
      "For the module of size: 30 , and type: [1, 2, 3]\n",
      "Loss is: 7.395278453826904\n",
      "New Record! \n",
      " \n",
      "\n",
      "For the module of size: 30 , and type: [1, 3, 1]\n",
      "Loss is: 11777916.0\n",
      "For the module of size: 30 , and type: [1, 3, 2]\n",
      "Loss is: 10466503.0\n",
      "For the module of size: 30 , and type: [1, 3, 3]\n",
      "Loss is: 1297.8436279296875\n",
      "For the module of size: 30 , and type: [2, 1, 1]\n",
      "Loss is: 9258960.0\n",
      "For the module of size: 30 , and type: [2, 1, 2]\n",
      "Loss is: 8153667.0\n",
      "For the module of size: 30 , and type: [2, 1, 3]\n",
      "Loss is: 696.952880859375\n",
      "For the module of size: 30 , and type: [2, 2, 1]\n",
      "Loss is: 7154219.5\n",
      "For the module of size: 30 , and type: [2, 2, 2]\n",
      "Loss is: 6677881.0\n",
      "For the module of size: 30 , and type: [2, 2, 3]\n",
      "Loss is: 115.8984375\n",
      "For the module of size: 30 , and type: [2, 3, 1]\n",
      "Loss is: 5407575.5\n",
      "For the module of size: 30 , and type: [2, 3, 2]\n",
      "Loss is: 4878995.0\n",
      "For the module of size: 30 , and type: [2, 3, 3]\n",
      "Loss is: 57573.5859375\n",
      "For the module of size: 30 , and type: [3, 1, 1]\n",
      "Loss is: 3981139.25\n",
      "For the module of size: 30 , and type: [3, 1, 2]\n",
      "Loss is: 3374576.0\n",
      "For the module of size: 30 , and type: [3, 1, 3]\n",
      "Loss is: 742.53173828125\n",
      "For the module of size: 30 , and type: [3, 2, 1]\n",
      "Loss is: 2815939.0\n",
      "For the module of size: 30 , and type: [3, 2, 2]\n",
      "Loss is: 2329273.0\n",
      "For the module of size: 30 , and type: [3, 2, 3]\n",
      "Loss is: 10252.509765625\n",
      "For the module of size: 30 , and type: [3, 3, 1]\n",
      "Loss is: 4226695.0\n",
      "For the module of size: 30 , and type: [3, 3, 2]\n",
      "Loss is: 6647838.0\n",
      "For the module of size: 30 , and type: [3, 3, 3]\n",
      "Loss is: 6401061.5\n",
      "For the module of size: 10 , and type: [1, 1, 1, 1]\n",
      "Loss is: 19586996.0\n",
      "For the module of size: 10 , and type: [1, 1, 1, 2]\n",
      "Loss is: 18881422.0\n",
      "For the module of size: 10 , and type: [1, 1, 1, 3]\n",
      "Loss is: 394.8858337402344\n",
      "For the module of size: 10 , and type: [1, 1, 2, 1]\n",
      "Loss is: 17950242.0\n",
      "For the module of size: 10 , and type: [1, 1, 2, 2]\n",
      "Loss is: 17291072.0\n",
      "For the module of size: 10 , and type: [1, 1, 2, 3]\n",
      "Loss is: 40.84639358520508\n",
      "For the module of size: 10 , and type: [1, 1, 3, 1]\n",
      "Loss is: 16688903.0\n",
      "For the module of size: 10 , and type: [1, 1, 3, 2]\n",
      "Loss is: 16088690.0\n",
      "For the module of size: 10 , and type: [1, 1, 3, 3]\n",
      "Loss is: 926.1315307617188\n",
      "For the module of size: 10 , and type: [1, 2, 1, 1]\n",
      "Loss is: 15418458.0\n",
      "For the module of size: 10 , and type: [1, 2, 1, 2]\n",
      "Loss is: 14829702.0\n",
      "For the module of size: 10 , and type: [1, 2, 1, 3]\n",
      "Loss is: 741.8291015625\n",
      "For the module of size: 10 , and type: [1, 2, 2, 1]\n",
      "Loss is: 14259672.0\n",
      "For the module of size: 10 , and type: [1, 2, 2, 2]\n",
      "Loss is: 13705532.0\n",
      "For the module of size: 10 , and type: [1, 2, 2, 3]\n",
      "Loss is: 183.60482788085938\n",
      "For the module of size: 10 , and type: [1, 2, 3, 1]\n",
      "Loss is: 13438282.0\n",
      "For the module of size: 10 , and type: [1, 2, 3, 2]\n",
      "Loss is: 12983698.0\n",
      "For the module of size: 10 , and type: [1, 2, 3, 3]\n",
      "Loss is: 19493204.0\n",
      "For the module of size: 10 , and type: [1, 3, 1, 1]\n",
      "Loss is: 12523112.0\n",
      "For the module of size: 10 , and type: [1, 3, 1, 2]\n",
      "Loss is: 12118853.0\n",
      "For the module of size: 10 , and type: [1, 3, 1, 3]\n",
      "Loss is: 2248.68896484375\n",
      "For the module of size: 10 , and type: [1, 3, 2, 1]\n",
      "Loss is: 11155369.0\n",
      "For the module of size: 10 , and type: [1, 3, 2, 2]\n",
      "Loss is: 10694808.0\n",
      "For the module of size: 10 , and type: [1, 3, 2, 3]\n",
      "Loss is: 918.3253173828125\n",
      "For the module of size: 10 , and type: [1, 3, 3, 1]\n",
      "Loss is: 11052061.0\n",
      "For the module of size: 10 , and type: [1, 3, 3, 2]\n",
      "Loss is: 10742880.0\n",
      "For the module of size: 10 , and type: [1, 3, 3, 3]\n",
      "Loss is: 3009.002685546875\n",
      "For the module of size: 10 , and type: [2, 1, 1, 1]\n",
      "Loss is: 9403540.0\n",
      "For the module of size: 10 , and type: [2, 1, 1, 2]\n",
      "Loss is: 8993089.0\n",
      "For the module of size: 10 , and type: [2, 1, 1, 3]\n",
      "Loss is: 1596.3563232421875\n",
      "For the module of size: 10 , and type: [2, 1, 2, 1]\n",
      "Loss is: 8604497.0\n",
      "For the module of size: 10 , and type: [2, 1, 2, 2]\n",
      "Loss is: 8219257.0\n",
      "For the module of size: 10 , and type: [2, 1, 2, 3]\n",
      "Loss is: 18813762.0\n",
      "For the module of size: 10 , and type: [2, 1, 3, 1]\n",
      "Loss is: 7821939.0\n",
      "For the module of size: 10 , and type: [2, 1, 3, 2]\n",
      "Loss is: 7460991.5\n",
      "For the module of size: 10 , and type: [2, 1, 3, 3]\n",
      "Loss is: 3256.996337890625\n",
      "For the module of size: 10 , and type: [2, 2, 1, 1]\n",
      "Loss is: 7123296.0\n",
      "For the module of size: 10 , and type: [2, 2, 1, 2]\n",
      "Loss is: 6780667.5\n",
      "For the module of size: 10 , and type: [2, 2, 1, 3]\n",
      "Loss is: 3855.037841796875\n",
      "For the module of size: 10 , and type: [2, 2, 2, 1]\n",
      "Loss is: 6463346.5\n",
      "For the module of size: 10 , and type: [2, 2, 2, 2]\n",
      "Loss is: 6624218.5\n",
      "For the module of size: 10 , and type: [2, 2, 2, 3]\n",
      "Loss is: 18404496.0\n",
      "For the module of size: 10 , and type: [2, 2, 3, 1]\n",
      "Loss is: 5817641.5\n",
      "For the module of size: 10 , and type: [2, 2, 3, 2]\n",
      "Loss is: 5751240.5\n",
      "For the module of size: 10 , and type: [2, 2, 3, 3]\n",
      "Loss is: 6405.06005859375\n",
      "For the module of size: 10 , and type: [2, 3, 1, 1]\n",
      "Loss is: 5246519.5\n",
      "For the module of size: 10 , and type: [2, 3, 1, 2]\n",
      "Loss is: 4965854.0\n",
      "For the module of size: 10 , and type: [2, 3, 1, 3]\n",
      "Loss is: 7998.76513671875\n",
      "For the module of size: 10 , and type: [2, 3, 2, 1]\n",
      "Loss is: 4716761.5\n",
      "For the module of size: 10 , and type: [2, 3, 2, 2]\n",
      "Loss is: 4458769.0\n",
      "For the module of size: 10 , and type: [2, 3, 2, 3]\n",
      "Loss is: 44159.3046875\n",
      "For the module of size: 10 , and type: [2, 3, 3, 1]\n",
      "Loss is: 4224954.5\n",
      "For the module of size: 10 , and type: [2, 3, 3, 2]\n",
      "Loss is: 3983486.25\n",
      "For the module of size: 10 , and type: [2, 3, 3, 3]\n",
      "Loss is: 8887778.0\n",
      "For the module of size: 10 , and type: [3, 1, 1, 1]\n",
      "Loss is: 3775836.25\n",
      "For the module of size: 10 , and type: [3, 1, 1, 2]\n",
      "Loss is: 3549522.25\n",
      "For the module of size: 10 , and type: [3, 1, 1, 3]\n",
      "Loss is: 13050.111328125\n",
      "For the module of size: 10 , and type: [3, 1, 2, 1]\n",
      "Loss is: 3361882.75\n",
      "For the module of size: 10 , and type: [3, 1, 2, 2]\n",
      "Loss is: 3149157.75\n",
      "For the module of size: 10 , and type: [3, 1, 2, 3]\n",
      "Loss is: 15245.5576171875\n",
      "For the module of size: 10 , and type: [3, 1, 3, 1]\n",
      "Loss is: 3054448.5\n",
      "For the module of size: 10 , and type: [3, 1, 3, 2]\n",
      "Loss is: 2780692.0\n",
      "For the module of size: 10 , and type: [3, 1, 3, 3]\n",
      "Loss is: 33929.59765625\n",
      "For the module of size: 10 , and type: [3, 2, 1, 1]\n",
      "Loss is: 2624496.5\n",
      "For the module of size: 10 , and type: [3, 2, 1, 2]\n",
      "Loss is: 2442717.5\n",
      "For the module of size: 10 , and type: [3, 2, 1, 3]\n",
      "Loss is: 16891.830078125\n",
      "For the module of size: 10 , and type: [3, 2, 2, 1]\n",
      "Loss is: 2307890.25\n",
      "For the module of size: 10 , and type: [3, 2, 2, 2]\n",
      "Loss is: 2137335.0\n",
      "For the module of size: 10 , and type: [3, 2, 2, 3]\n",
      "Loss is: 17377352.0\n",
      "For the module of size: 10 , and type: [3, 2, 3, 1]\n",
      "Loss is: 2672993.5\n",
      "For the module of size: 10 , and type: [3, 2, 3, 2]\n",
      "Loss is: 3240860.0\n",
      "For the module of size: 10 , and type: [3, 2, 3, 3]\n",
      "Loss is: 61532.40625\n",
      "For the module of size: 10 , and type: [3, 3, 1, 1]\n",
      "Loss is: 1781116.625\n",
      "For the module of size: 10 , and type: [3, 3, 1, 2]\n",
      "Loss is: 1632359.25\n",
      "For the module of size: 10 , and type: [3, 3, 1, 3]\n",
      "Loss is: 36782.88671875\n",
      "For the module of size: 10 , and type: [3, 3, 2, 1]\n",
      "Loss is: 2905902.75\n",
      "For the module of size: 10 , and type: [3, 3, 2, 2]\n",
      "Loss is: 1422551.25\n",
      "For the module of size: 10 , and type: [3, 3, 2, 3]\n",
      "Loss is: 454730.625\n",
      "For the module of size: 10 , and type: [3, 3, 3, 1]\n",
      "Loss is: 1340520.25\n",
      "For the module of size: 10 , and type: [3, 3, 3, 2]\n",
      "Loss is: 1257325.25\n",
      "For the module of size: 10 , and type: [3, 3, 3, 3]\n",
      "Loss is: 648305.1875\n",
      "For the module of size: 20 , and type: [1, 1, 1, 1]\n",
      "Loss is: 18944710.0\n",
      "For the module of size: 20 , and type: [1, 1, 1, 2]\n",
      "Loss is: 17663574.0\n",
      "For the module of size: 20 , and type: [1, 1, 1, 3]\n",
      "Loss is: 639.2543334960938\n",
      "For the module of size: 20 , and type: [1, 1, 2, 1]\n",
      "Loss is: 16292840.0\n",
      "For the module of size: 20 , and type: [1, 1, 2, 2]\n",
      "Loss is: 15141596.0\n",
      "For the module of size: 20 , and type: [1, 1, 2, 3]\n",
      "Loss is: 17.351133346557617\n",
      "For the module of size: 20 , and type: [1, 1, 3, 1]\n",
      "Loss is: 14054878.0\n",
      "For the module of size: 20 , and type: [1, 1, 3, 2]\n",
      "Loss is: 13025131.0\n",
      "For the module of size: 20 , and type: [1, 1, 3, 3]\n",
      "Loss is: 34.5947380065918\n",
      "For the module of size: 20 , and type: [1, 2, 1, 1]\n",
      "Loss is: 12052494.0\n",
      "For the module of size: 20 , and type: [1, 2, 1, 2]\n",
      "Loss is: 11134998.0\n",
      "For the module of size: 20 , and type: [1, 2, 1, 3]\n",
      "Loss is: 40.41777801513672\n",
      "For the module of size: 20 , and type: [1, 2, 2, 1]\n",
      "Loss is: 10272970.0\n",
      "For the module of size: 20 , and type: [1, 2, 2, 2]\n",
      "Loss is: 9455690.0\n",
      "For the module of size: 20 , and type: [1, 2, 2, 3]\n",
      "Loss is: 244.04879760742188\n",
      "For the module of size: 20 , and type: [1, 2, 3, 1]\n",
      "Loss is: 8691760.0\n",
      "For the module of size: 20 , and type: [1, 2, 3, 2]\n",
      "Loss is: 7967732.5\n",
      "For the module of size: 20 , and type: [1, 2, 3, 3]\n",
      "Loss is: 1108.5235595703125\n",
      "For the module of size: 20 , and type: [1, 3, 1, 1]\n",
      "Loss is: 7287796.5\n",
      "For the module of size: 20 , and type: [1, 3, 1, 2]\n",
      "Loss is: 6649587.5\n",
      "For the module of size: 20 , and type: [1, 3, 1, 3]\n",
      "Loss is: 805.6272583007812\n",
      "For the module of size: 20 , and type: [1, 3, 2, 1]\n",
      "Loss is: 6057530.5\n",
      "For the module of size: 20 , and type: [1, 3, 2, 2]\n",
      "Loss is: 5494034.5\n",
      "For the module of size: 20 , and type: [1, 3, 2, 3]\n",
      "Loss is: 701.21923828125\n",
      "For the module of size: 20 , and type: [1, 3, 3, 1]\n",
      "Loss is: 4958525.0\n",
      "For the module of size: 20 , and type: [1, 3, 3, 2]\n",
      "Loss is: 4470393.0\n",
      "For the module of size: 20 , and type: [1, 3, 3, 3]\n",
      "Loss is: 3848.245849609375\n",
      "For the module of size: 20 , and type: [2, 1, 1, 1]\n",
      "Loss is: 4015948.5\n",
      "For the module of size: 20 , and type: [2, 1, 1, 2]\n",
      "Loss is: 3594967.25\n",
      "For the module of size: 20 , and type: [2, 1, 1, 3]\n",
      "Loss is: 1447.4996337890625\n",
      "For the module of size: 20 , and type: [2, 1, 2, 1]\n",
      "Loss is: 3214178.75\n",
      "For the module of size: 20 , and type: [2, 1, 2, 2]\n",
      "Loss is: 2855088.5\n",
      "For the module of size: 20 , and type: [2, 1, 2, 3]\n",
      "Loss is: 2057.502197265625\n",
      "For the module of size: 20 , and type: [2, 1, 3, 1]\n",
      "Loss is: 2530927.25\n",
      "For the module of size: 20 , and type: [2, 1, 3, 2]\n",
      "Loss is: 2228950.25\n",
      "For the module of size: 20 , and type: [2, 1, 3, 3]\n",
      "Loss is: 6018.7763671875\n",
      "For the module of size: 20 , and type: [2, 2, 1, 1]\n",
      "Loss is: 1955785.625\n",
      "For the module of size: 20 , and type: [2, 2, 1, 2]\n",
      "Loss is: 1704737.0\n",
      "For the module of size: 20 , and type: [2, 2, 1, 3]\n",
      "Loss is: 3104.537109375\n",
      "For the module of size: 20 , and type: [2, 2, 2, 1]\n",
      "Loss is: 1483171.75\n",
      "For the module of size: 20 , and type: [2, 2, 2, 2]\n",
      "Loss is: 1276477.875\n",
      "For the module of size: 20 , and type: [2, 2, 2, 3]\n",
      "Loss is: 4123.25830078125\n",
      "For the module of size: 20 , and type: [2, 2, 3, 1]\n",
      "Loss is: 1097495.125\n",
      "For the module of size: 20 , and type: [2, 2, 3, 2]\n",
      "Loss is: 931626.75\n",
      "For the module of size: 20 , and type: [2, 2, 3, 3]\n",
      "Loss is: 6169.18359375\n",
      "For the module of size: 20 , and type: [2, 3, 1, 1]\n",
      "Loss is: 801346.9375\n",
      "For the module of size: 20 , and type: [2, 3, 1, 2]\n",
      "Loss is: 670411.875\n",
      "For the module of size: 20 , and type: [2, 3, 1, 3]\n",
      "Loss is: 5583.7939453125\n",
      "For the module of size: 20 , and type: [2, 3, 2, 1]\n",
      "Loss is: 561056.8125\n",
      "For the module of size: 20 , and type: [2, 3, 2, 2]\n",
      "Loss is: 468337.96875\n",
      "For the module of size: 20 , and type: [2, 3, 2, 3]\n",
      "Loss is: 6722.94287109375\n",
      "For the module of size: 20 , and type: [2, 3, 3, 1]\n",
      "Loss is: 386803.09375\n",
      "For the module of size: 20 , and type: [2, 3, 3, 2]\n",
      "Loss is: 315820.6875\n",
      "For the module of size: 20 , and type: [2, 3, 3, 3]\n",
      "Loss is: 16620.158203125\n",
      "For the module of size: 20 , and type: [3, 1, 1, 1]\n",
      "Loss is: 251637.1875\n",
      "For the module of size: 20 , and type: [3, 1, 1, 2]\n",
      "Loss is: 195985.421875\n",
      "For the module of size: 20 , and type: [3, 1, 1, 3]\n",
      "Loss is: 9292.3759765625\n",
      "For the module of size: 20 , and type: [3, 1, 2, 1]\n",
      "Loss is: 157002.15625\n",
      "For the module of size: 20 , and type: [3, 1, 2, 2]\n",
      "Loss is: 117695.3515625\n",
      "For the module of size: 20 , and type: [3, 1, 2, 3]\n",
      "Loss is: 11327.771484375\n",
      "For the module of size: 20 , and type: [3, 1, 3, 1]\n",
      "Loss is: 95396.421875\n",
      "For the module of size: 20 , and type: [3, 1, 3, 2]\n",
      "Loss is: 64620.203125\n",
      "For the module of size: 20 , and type: [3, 1, 3, 3]\n",
      "Loss is: 13038.5791015625\n",
      "For the module of size: 20 , and type: [3, 2, 1, 1]\n",
      "Loss is: 58528.4921875\n",
      "For the module of size: 20 , and type: [3, 2, 1, 2]\n",
      "Loss is: 9215115.0\n",
      "For the module of size: 20 , and type: [3, 2, 1, 3]\n",
      "Loss is: 13884.853515625\n",
      "For the module of size: 20 , and type: [3, 2, 2, 1]\n",
      "Loss is: 62132.609375\n",
      "For the module of size: 20 , and type: [3, 2, 2, 2]\n",
      "Loss is: 1434451.0\n",
      "For the module of size: 20 , and type: [3, 2, 2, 3]\n",
      "Loss is: 12811.6513671875\n",
      "For the module of size: 20 , and type: [3, 2, 3, 1]\n",
      "Loss is: 54983.12890625\n",
      "For the module of size: 20 , and type: [3, 2, 3, 2]\n",
      "Loss is: 1277566.5\n",
      "For the module of size: 20 , and type: [3, 2, 3, 3]\n",
      "Loss is: 16793.833984375\n",
      "For the module of size: 20 , and type: [3, 3, 1, 1]\n",
      "Loss is: 196752.515625\n",
      "For the module of size: 20 , and type: [3, 3, 1, 2]\n",
      "Loss is: 72051.6171875\n",
      "For the module of size: 20 , and type: [3, 3, 1, 3]\n",
      "Loss is: 22348.650390625\n",
      "For the module of size: 20 , and type: [3, 3, 2, 1]\n",
      "Loss is: 149757.09375\n",
      "For the module of size: 20 , and type: [3, 3, 2, 2]\n",
      "Loss is: 223807.0625\n",
      "For the module of size: 20 , and type: [3, 3, 2, 3]\n",
      "Loss is: 311366.125\n",
      "For the module of size: 20 , and type: [3, 3, 3, 1]\n",
      "Loss is: 695520.25\n",
      "For the module of size: 20 , and type: [3, 3, 3, 2]\n",
      "Loss is: 43129616.0\n",
      "For the module of size: 20 , and type: [3, 3, 3, 3]\n",
      "Loss is: 16662956.0\n",
      "For the module of size: 30 , and type: [1, 1, 1, 1]\n",
      "Loss is: 18330472.0\n",
      "For the module of size: 30 , and type: [1, 1, 1, 2]\n",
      "Loss is: 16535941.0\n",
      "For the module of size: 30 , and type: [1, 1, 1, 3]\n",
      "Loss is: 119.45047760009766\n",
      "For the module of size: 30 , and type: [1, 1, 2, 1]\n",
      "Loss is: 14784373.0\n",
      "For the module of size: 30 , and type: [1, 1, 2, 2]\n",
      "Loss is: 13231447.0\n",
      "For the module of size: 30 , and type: [1, 1, 2, 3]\n",
      "Loss is: 8.859050750732422\n",
      "For the module of size: 30 , and type: [1, 1, 3, 1]\n",
      "Loss is: 11803837.0\n",
      "For the module of size: 30 , and type: [1, 1, 3, 2]\n",
      "Loss is: 10490681.0\n",
      "For the module of size: 30 , and type: [1, 1, 3, 3]\n",
      "Loss is: 247.17694091796875\n",
      "For the module of size: 30 , and type: [1, 2, 1, 1]\n",
      "Loss is: 9289878.0\n",
      "For the module of size: 30 , and type: [1, 2, 1, 2]\n",
      "Loss is: 8186092.5\n",
      "For the module of size: 30 , and type: [1, 2, 1, 3]\n",
      "Loss is: 40.02935028076172\n",
      "For the module of size: 30 , and type: [1, 2, 2, 1]\n",
      "Loss is: 7183511.5\n",
      "For the module of size: 30 , and type: [1, 2, 2, 2]\n",
      "Loss is: 6265922.0\n",
      "For the module of size: 30 , and type: [1, 2, 2, 3]\n",
      "Loss is: 121.71372985839844\n",
      "For the module of size: 30 , and type: [1, 2, 3, 1]\n",
      "Loss is: 5439123.5\n",
      "For the module of size: 30 , and type: [1, 2, 3, 2]\n",
      "Loss is: 4688470.5\n",
      "For the module of size: 30 , and type: [1, 2, 3, 3]\n",
      "Loss is: 419.5499267578125\n",
      "For the module of size: 30 , and type: [1, 3, 1, 1]\n",
      "Loss is: 4017751.0\n",
      "For the module of size: 30 , and type: [1, 3, 1, 2]\n",
      "Loss is: 3412301.5\n",
      "For the module of size: 30 , and type: [1, 3, 1, 3]\n",
      "Loss is: 395.34844970703125\n",
      "For the module of size: 30 , and type: [1, 3, 2, 1]\n",
      "Loss is: 2877142.5\n",
      "For the module of size: 30 , and type: [1, 3, 2, 2]\n",
      "Loss is: 2392339.5\n",
      "For the module of size: 30 , and type: [1, 3, 2, 3]\n",
      "Loss is: 2411.9794921875\n",
      "For the module of size: 30 , and type: [1, 3, 3, 1]\n",
      "Loss is: 2977508.5\n",
      "For the module of size: 30 , and type: [1, 3, 3, 2]\n",
      "Loss is: 3003045.5\n",
      "For the module of size: 30 , and type: [1, 3, 3, 3]\n",
      "Loss is: 2352.583984375\n",
      "For the module of size: 30 , and type: [2, 1, 1, 1]\n",
      "Loss is: 1399418.875\n",
      "For the module of size: 30 , and type: [2, 1, 1, 2]\n",
      "Loss is: 1112640.75\n",
      "For the module of size: 30 , and type: [2, 1, 1, 3]\n",
      "Loss is: 1370.08984375\n",
      "For the module of size: 30 , and type: [2, 1, 2, 1]\n",
      "Loss is: 873613.4375\n",
      "For the module of size: 30 , and type: [2, 1, 2, 2]\n",
      "Loss is: 681131.625\n",
      "For the module of size: 30 , and type: [2, 1, 2, 3]\n",
      "Loss is: 1839.73583984375\n",
      "For the module of size: 30 , and type: [2, 1, 3, 1]\n",
      "Loss is: 521662.15625\n",
      "For the module of size: 30 , and type: [2, 1, 3, 2]\n",
      "Loss is: 419419.53125\n",
      "For the module of size: 30 , and type: [2, 1, 3, 3]\n",
      "Loss is: 2554.924560546875\n",
      "For the module of size: 30 , and type: [2, 2, 1, 1]\n",
      "Loss is: 282231.59375\n",
      "For the module of size: 30 , and type: [2, 2, 1, 2]\n",
      "Loss is: 203093.6875\n",
      "For the module of size: 30 , and type: [2, 2, 1, 3]\n",
      "Loss is: 2863.909423828125\n",
      "For the module of size: 30 , and type: [2, 2, 2, 1]\n",
      "Loss is: 137820.40625\n",
      "For the module of size: 30 , and type: [2, 2, 2, 2]\n",
      "Loss is: 121565.6953125\n",
      "For the module of size: 30 , and type: [2, 2, 2, 3]\n",
      "Loss is: 3478.908447265625\n",
      "For the module of size: 30 , and type: [2, 2, 3, 1]\n",
      "Loss is: 76458.59375\n",
      "For the module of size: 30 , and type: [2, 2, 3, 2]\n",
      "Loss is: 51615.83203125\n",
      "For the module of size: 30 , and type: [2, 2, 3, 3]\n",
      "Loss is: 4651.5400390625\n",
      "For the module of size: 30 , and type: [2, 3, 1, 1]\n",
      "Loss is: 31453.43359375\n",
      "For the module of size: 30 , and type: [2, 3, 1, 2]\n",
      "Loss is: 17019.03125\n",
      "For the module of size: 30 , and type: [2, 3, 1, 3]\n",
      "Loss is: 4253.5703125\n",
      "For the module of size: 30 , and type: [2, 3, 2, 1]\n",
      "Loss is: 12011.9287109375\n",
      "For the module of size: 30 , and type: [2, 3, 2, 2]\n",
      "Loss is: 4339189.5\n",
      "For the module of size: 30 , and type: [2, 3, 2, 3]\n",
      "Loss is: 11462.2177734375\n",
      "For the module of size: 30 , and type: [2, 3, 3, 1]\n",
      "Loss is: 30048.728515625\n",
      "For the module of size: 30 , and type: [2, 3, 3, 2]\n",
      "Loss is: 391601.15625\n",
      "For the module of size: 30 , and type: [2, 3, 3, 3]\n",
      "Loss is: 29206.599609375\n",
      "For the module of size: 30 , and type: [3, 1, 1, 1]\n",
      "Loss is: 12487.1826171875\n",
      "For the module of size: 30 , and type: [3, 1, 1, 2]\n",
      "Loss is: 4982.61474609375\n",
      "For the module of size: 30 , and type: [3, 1, 1, 3]\n",
      "Loss is: 5061.54736328125\n",
      "For the module of size: 30 , and type: [3, 1, 2, 1]\n",
      "Loss is: 7125.4140625\n",
      "For the module of size: 30 , and type: [3, 1, 2, 2]\n",
      "Loss is: 4628.0634765625\n",
      "For the module of size: 30 , and type: [3, 1, 2, 3]\n",
      "Loss is: 7139.00537109375\n",
      "For the module of size: 30 , and type: [3, 1, 3, 1]\n",
      "Loss is: 526896.75\n",
      "For the module of size: 30 , and type: [3, 1, 3, 2]\n",
      "Loss is: 535045.0625\n",
      "For the module of size: 30 , and type: [3, 1, 3, 3]\n",
      "Loss is: 10149.4375\n",
      "For the module of size: 30 , and type: [3, 2, 1, 1]\n",
      "Loss is: 8105.89697265625\n",
      "For the module of size: 30 , and type: [3, 2, 1, 2]\n",
      "Loss is: 2080.218505859375\n",
      "For the module of size: 30 , and type: [3, 2, 1, 3]\n",
      "Loss is: 10762.7138671875\n",
      "For the module of size: 30 , and type: [3, 2, 2, 1]\n",
      "Loss is: 16753.65625\n",
      "For the module of size: 30 , and type: [3, 2, 2, 2]\n",
      "Loss is: 1675596.375\n",
      "For the module of size: 30 , and type: [3, 2, 2, 3]\n",
      "Loss is: 16926.197265625\n",
      "For the module of size: 30 , and type: [3, 2, 3, 1]\n",
      "Loss is: 168950.28125\n",
      "For the module of size: 30 , and type: [3, 2, 3, 2]\n",
      "Loss is: 1842745.375\n",
      "For the module of size: 30 , and type: [3, 2, 3, 3]\n",
      "Loss is: 13150.021484375\n",
      "For the module of size: 30 , and type: [3, 3, 1, 1]\n",
      "Loss is: 17238.2890625\n",
      "For the module of size: 30 , and type: [3, 3, 1, 2]\n",
      "Loss is: 28566.435546875\n",
      "For the module of size: 30 , and type: [3, 3, 1, 3]\n",
      "Loss is: 35080.16796875\n",
      "For the module of size: 30 , and type: [3, 3, 2, 1]\n",
      "Loss is: 734451.25\n",
      "For the module of size: 30 , and type: [3, 3, 2, 2]\n",
      "Loss is: 5707770.0\n",
      "For the module of size: 30 , and type: [3, 3, 2, 3]\n",
      "Loss is: 1512544.75\n",
      "For the module of size: 30 , and type: [3, 3, 3, 1]\n",
      "Loss is: 16057845.0\n",
      "For the module of size: 30 , and type: [3, 3, 3, 2]\n",
      "Loss is: 146677536.0\n",
      "For the module of size: 30 , and type: [3, 3, 3, 3]\n",
      "Loss is: 17960770.0\n"
     ]
    }
   ],
   "source": [
    "Input_Data = np.arange(100)\n",
    "Input_Data = Input_Data.reshape(-1, 1)\n",
    "Target_Data = Input_Data**2 + Input_Data + 50\n",
    "\n",
    "Target_Data = torch.tensor(Target_Data, dtype=torch.float32)\n",
    "Input_Data = torch.tensor(Input_Data, dtype=torch.float32, requires_grad=True)\n",
    "\n",
    "Loss_Tracker = []\n",
    "\n",
    "for NNIndex, TrialModule in enumerate(TrialNNs):\n",
    "    optimizer = torch.optim.Adam(TrialModule.parameters())\n",
    "    Max_Iterations = 10000\n",
    "\n",
    "    for n in range(Max_Iterations):\n",
    "        optimizer.zero_grad()   # zero the gradient buffers\n",
    "        Output_Data = TrialModule(Input_Data)\n",
    "        Loss = Loss_Function(Output_Data, Target_Data)\n",
    "        Loss.backward()\n",
    "        optimizer.step()    # Does the update\n",
    "\n",
    "    print('For the module of size:', All_Sizes[NNIndex], ', and type:', All_Perms[NNIndex])\n",
    "    Output_Data = TrialModule(Input_Data)\n",
    "    Loss = Loss_Function(Output_Data, Target_Data).item() #I don't want PyTorch to track loss back through previous modules, so this is convenient place to set Loss as a number\n",
    "    print(\"Loss is:\", Loss)\n",
    "    if len(Loss_Tracker) > 0 and Loss < min(Loss_Tracker):\n",
    "        print('New Record! \\n \\n')\n",
    "    Loss_Tracker += [Loss]\n",
    "    \n",
    "print('Done!')"
   ]
  },
  {
   "cell_type": "code",
   "execution_count": 10,
   "metadata": {},
   "outputs": [
    {
     "name": "stdout",
     "output_type": "stream",
     "text": [
      "The best network was the network module of description: Sequential(\n",
      "  (0): Linear(in_features=1, out_features=30, bias=True)\n",
      "  (1): Sigmoid()\n",
      "  (2): Linear(in_features=30, out_features=30, bias=True)\n",
      "  (3): Tanh()\n",
      "  (4): Linear(in_features=30, out_features=30, bias=True)\n",
      "  (5): ReLU()\n",
      "  (6): Linear(in_features=30, out_features=1, bias=True)\n",
      ")\n",
      "It had a loss of 7.395278453826904\n",
      "And was able to produce an Output of: tensor([[176.4778, 176.4778, 176.4778, 176.4778, 176.4778, 176.4778, 176.4778,\n",
      "         176.4778, 176.4778, 176.4778, 176.4778, 176.4778, 176.4778, 176.4778,\n",
      "         176.4778, 176.4778, 176.4778, 176.4778, 176.4778, 176.4778, 176.4778,\n",
      "         176.4778, 176.4778, 176.4778, 176.4778, 176.4778, 176.4778, 176.4778,\n",
      "         176.4778, 176.4778, 176.4778, 176.4778, 176.4778, 176.4778, 176.4778,\n",
      "         176.4778, 176.4778, 176.4778, 176.4778, 176.4778, 176.4778, 176.4778,\n",
      "         176.4778, 176.4778, 176.4778, 176.4778, 176.4778, 176.4778, 176.4778,\n",
      "         176.4778, 176.4778, 176.4778, 176.4778, 176.4778, 176.4778, 176.4778,\n",
      "         176.4778, 176.4778, 176.4778, 176.4778, 176.4778, 176.4778, 176.4778,\n",
      "         176.4778, 176.4778, 176.4778, 176.4778, 176.4778, 176.4778, 176.4778,\n",
      "         176.4778, 176.4778, 176.4778, 176.4778, 176.4778, 176.4778, 176.4778,\n",
      "         176.4778, 176.4778, 176.4778, 176.4778, 176.4778, 176.4778, 176.4778,\n",
      "         176.4778, 176.4778, 176.4778, 176.4778, 176.4778, 178.4966, 199.0286,\n",
      "         219.6627, 240.3975, 261.2314, 282.1630, 303.1898, 324.3112, 345.5247,\n",
      "         366.8276, 388.2186]], grad_fn=<ViewBackward>)\n"
     ]
    }
   ],
   "source": [
    "BestIndex = np.argmin(np.array(Loss_Tracker))\n",
    "print('The best network was the network module of description:', TrialNNs[BestIndex])\n",
    "print('It had a loss of', Loss_Tracker[BestIndex])\n",
    "print('And was able to produce an Output of:', TrialNNs[BestIndex](Input_Data).view(1, -1))"
   ]
  },
  {
   "cell_type": "markdown",
   "metadata": {},
   "source": [
    "Okay, so mixed findings here. Let's start with what is positive. Learnings include:\n",
    "\n",
    "- Most networks are bad. Very few produced final loss values of under 100. This tells us not to worry if teh network isn't working as it needs to be designed just right!\n",
    "\n",
    "- It is a very good idea to end with a ReLU\n",
    "\n",
    "- Size isn't the most important thing. The lowest loss was from a network with only 3 layers, although the 4-layer network most similar to it (an extra Sigmoid layer at the start) also produced almost as good loss. This implies that there is a ceiling at which point increasing the number of hidden layers is no use.\n",
    "\n",
    "- Stepping up the activations from Sigmoid -> Tanh -> ReLU seems to work best.\n",
    "\n",
    "Now the bad. As can be seen when i tried to print it at the end. Something perplexing has occurred. The best network has a terrible output!! And in a way that makes 0 sense. How was a loss <10 calculated from that abysmal display???\n",
    "\n",
    "To check what is going on, let's recreate the network and test it fresh."
   ]
  },
  {
   "cell_type": "code",
   "execution_count": 15,
   "metadata": {},
   "outputs": [
    {
     "name": "stdout",
     "output_type": "stream",
     "text": [
      "tensor([[370.8593, 370.8593, 370.8593, 370.8593, 370.8593, 370.8593, 370.8593,\n",
      "         370.8593, 370.8593, 370.8593, 370.8593, 370.8593, 370.8593, 370.8593,\n",
      "         370.8593, 370.8593, 370.8593, 370.8593, 370.8593, 370.8593, 370.8593,\n",
      "         370.8593, 370.8593, 370.8593, 370.8593, 370.8593, 370.8593, 370.8593,\n",
      "         370.8593, 370.8593, 370.8593, 370.8593, 370.8593, 370.8593, 370.8593,\n",
      "         370.8593, 370.8593, 370.8593, 370.8593, 370.8593, 370.8593, 370.8593,\n",
      "         370.8593, 370.8593, 370.8593, 370.8593, 370.8593, 370.8593, 370.8593,\n",
      "         370.8593, 370.8593, 370.8593, 370.8593, 370.8593, 370.8593, 370.8593,\n",
      "         370.8593, 370.8593, 370.8593, 370.8593, 370.8593, 370.8593, 370.8593,\n",
      "         370.8593, 370.8593, 370.8593, 370.8593, 370.8593, 370.8593, 370.8593,\n",
      "         370.8593, 370.8593, 370.8593, 370.8593, 370.8593, 370.8593, 370.8593,\n",
      "         370.8593, 370.8593, 370.8593, 370.8593, 370.8593, 370.8593, 370.8593,\n",
      "         370.8593, 370.8593, 370.8593, 370.8593, 370.8593, 370.8593, 370.8593,\n",
      "         370.8593, 370.8593, 370.8593, 370.8593, 370.8593, 370.8593, 370.8593,\n",
      "         370.8593, 370.8593]], grad_fn=<ViewBackward>)\n",
      "Loss is: 17960770.0\n"
     ]
    }
   ],
   "source": [
    "But_Why_NN = nn.Sequential(nn.Linear(1, 30), nn.Sigmoid(), nn.Linear(30, 30), nn.Tanh(), nn.Linear(30, 30), nn.ReLU(), nn.Linear(30, 1))\n",
    "\n",
    "optimizer = torch.optim.Adam(But_Why_NN.parameters())\n",
    "Max_Iterations = 10000\n",
    "\n",
    "for n in range(Max_Iterations):\n",
    "    optimizer.zero_grad()   # zero the gradient buffers\n",
    "    Output_Data = But_Why_NN(Input_Data)\n",
    "    Loss = Loss_Function(Output_Data, Target_Data)\n",
    "    Loss.backward()\n",
    "    optimizer.step()    # Does the update\n",
    "\n",
    "Output_Data = TrialModule(Input_Data)\n",
    "Loss = Loss_Function(Output_Data, Target_Data).item()\n",
    "print(Output_Data.view(1, -1))\n",
    "print('Loss is:', Loss)"
   ]
  },
  {
   "cell_type": "markdown",
   "metadata": {},
   "source": [
    "Well then, I give up, I don't know what happened, but at least on re-creation, the loss isn't lying to me....."
   ]
  }
 ],
 "metadata": {
  "kernelspec": {
   "display_name": "Python 3",
   "language": "python",
   "name": "python3"
  },
  "language_info": {
   "codemirror_mode": {
    "name": "ipython",
    "version": 3
   },
   "file_extension": ".py",
   "mimetype": "text/x-python",
   "name": "python",
   "nbconvert_exporter": "python",
   "pygments_lexer": "ipython3",
   "version": "3.6.8"
  }
 },
 "nbformat": 4,
 "nbformat_minor": 2
}
