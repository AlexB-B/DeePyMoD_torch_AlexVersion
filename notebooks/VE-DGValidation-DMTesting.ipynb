{
 "cells": [
  {
   "cell_type": "markdown",
   "metadata": {},
   "source": [
    "# Full VE problem analysis template"
   ]
  },
  {
   "cell_type": "code",
   "execution_count": 1,
   "metadata": {},
   "outputs": [
    {
     "name": "stderr",
     "output_type": "stream",
     "text": [
      "/opt/conda/lib/python3.6/site-packages/tensorboard/compat/tensorflow_stub/dtypes.py:541: FutureWarning: Passing (type, 1) or '1type' as a synonym of type is deprecated; in a future version of numpy, it will be understood as (type, (1,)) / '(1,)type'.\n",
      "  _np_qint8 = np.dtype([(\"qint8\", np.int8, 1)])\n",
      "/opt/conda/lib/python3.6/site-packages/tensorboard/compat/tensorflow_stub/dtypes.py:542: FutureWarning: Passing (type, 1) or '1type' as a synonym of type is deprecated; in a future version of numpy, it will be understood as (type, (1,)) / '(1,)type'.\n",
      "  _np_quint8 = np.dtype([(\"quint8\", np.uint8, 1)])\n",
      "/opt/conda/lib/python3.6/site-packages/tensorboard/compat/tensorflow_stub/dtypes.py:543: FutureWarning: Passing (type, 1) or '1type' as a synonym of type is deprecated; in a future version of numpy, it will be understood as (type, (1,)) / '(1,)type'.\n",
      "  _np_qint16 = np.dtype([(\"qint16\", np.int16, 1)])\n",
      "/opt/conda/lib/python3.6/site-packages/tensorboard/compat/tensorflow_stub/dtypes.py:544: FutureWarning: Passing (type, 1) or '1type' as a synonym of type is deprecated; in a future version of numpy, it will be understood as (type, (1,)) / '(1,)type'.\n",
      "  _np_quint16 = np.dtype([(\"quint16\", np.uint16, 1)])\n",
      "/opt/conda/lib/python3.6/site-packages/tensorboard/compat/tensorflow_stub/dtypes.py:545: FutureWarning: Passing (type, 1) or '1type' as a synonym of type is deprecated; in a future version of numpy, it will be understood as (type, (1,)) / '(1,)type'.\n",
      "  _np_qint32 = np.dtype([(\"qint32\", np.int32, 1)])\n",
      "/opt/conda/lib/python3.6/site-packages/tensorboard/compat/tensorflow_stub/dtypes.py:550: FutureWarning: Passing (type, 1) or '1type' as a synonym of type is deprecated; in a future version of numpy, it will be understood as (type, (1,)) / '(1,)type'.\n",
      "  np_resource = np.dtype([(\"resource\", np.ubyte, 1)])\n"
     ]
    }
   ],
   "source": [
    "import os\n",
    "import sys\n",
    "from datetime import datetime\n",
    "import numpy as np\n",
    "import matplotlib.pyplot as plt\n",
    "plt.style.use('ggplot')\n",
    "#import sympy as sym\n",
    "import torch\n",
    "\n",
    "sys.path.append('../src')\n",
    "import deepymod_torch.VE_datagen as VE_datagen\n",
    "from deepymod_torch.library_function import mech_library\n",
    "from deepymod_torch.DeepMod import DeepMoD\n",
    "import deepymod_torch.VE_params as VE_params"
   ]
  },
  {
   "cell_type": "markdown",
   "metadata": {},
   "source": [
    "## Data generation"
   ]
  },
  {
   "cell_type": "markdown",
   "metadata": {},
   "source": [
    "> The below cell is very important for preparing the generation, examination, and saving of the data. It is one of only a few cells that requires configuration in the notebook."
   ]
  },
  {
   "cell_type": "markdown",
   "metadata": {},
   "source": [
    "Specify the functional form of the input"
   ]
  },
  {
   "cell_type": "code",
   "execution_count": 2,
   "metadata": {},
   "outputs": [],
   "source": [
    "#t = sym.symbols('t', real=True)\n",
    "#input_expr = sym.sinc(omega*t)\n",
    "\n",
    "# Wave packets\n",
    "# omega = 1\n",
    "# input_expr, d_input_expr, input_torch_lambda = VE_datagen.wave_packet_lambdas_sum(omega, 0.1, 1)\n",
    "\n",
    "# step\n",
    "# input_expr = lambda t: 1\n",
    "# d_input_expr = lambda t: 0\n",
    "# input_torch_lambda = lambda t: 1 + 0*t\n",
    "\n",
    "# sine\n",
    "# omega = 1\n",
    "# input_expr = lambda t: np.sin(omega*t)\n",
    "# d_input_expr = lambda t: omega*np.cos(omega*t)\n",
    "# input_torch_lambda = lambda t: torch.sin(omega*t)\n",
    "\n",
    "# sinc\n",
    "omega = 1\n",
    "Amp = 1\n",
    "input_expr = lambda t: Amp*np.sin(omega*t)/(omega*t)\n",
    "d_input_expr = lambda t: (Amp/t)*(np.cos(omega*t) - np.sin(omega*t)/(omega*t))\n",
    "input_torch_lambda = lambda t: Amp*torch.sin(omega*t)/(omega*t)\n",
    "\n",
    "# sinc with hshift\n",
    "# omega = 1\n",
    "# shift = 6*np.pi\n",
    "# input_expr = lambda t: np.sin(omega*(t - shift))/(omega*(t - shift))\n",
    "# d_input_expr = lambda t: (1/(t - shift))*(np.cos(omega*(t - shift)) - np.sin(omega*(t - shift))/(omega*(t - shift)))\n",
    "# input_torch_lambda = lambda t: torch.sin(omega*(t - shift))/(omega*(t - shift))\n",
    "\n",
    "# sinc with vshift\n",
    "# omega = np.pi\n",
    "# neg_edge = -7.5 # for now is 3.75*T where T is 2*pi/omega. The 3.75 is chosen but could be any (n +- 0.25) where n is integer > 0.\n",
    "# input_expr_no_shift = lambda t: np.sin(omega*t)/(omega*t)\n",
    "# vshift = input_expr_no_shift(neg_edge)\n",
    "# input_expr = lambda t: input_expr_no_shift(t) - vshift\n",
    "# d_input_expr = lambda t: (1/t)*(np.cos(omega*t) - np.sin(omega*t)/(omega*t))\n",
    "# input_torch_lambda = lambda t: torch.sin(omega*t)/(omega*t) - vshift\n",
    "\n",
    "# sinc with both hshift and vshift\n",
    "# omega = np.pi\n",
    "# hshift = 7.5 # for now is 3.75*T where T is 2*pi/omega. The 3.75 is chosen but could be any (n +- 0.25) where n is integer > 0.\n",
    "# input_expr_h_only = lambda t: np.sin(omega*(t - hshift))/(omega*(t - hshift))\n",
    "# vshift = input_expr_h_only(0)\n",
    "# input_expr = lambda t: input_expr_h_only(t) - vshift\n",
    "# d_input_expr = lambda t: (1/(t - shift))*(np.cos(omega*(t - shift)) - np.sin(omega*(t - shift))/(omega*(t - shift)))\n",
    "# input_torch_lambda = lambda t: torch.sin(omega*(t - hshift))/(omega*(t - hshift)) - vshift\n",
    "\n",
    "input_type = 'Stress'\n",
    "func_desc = 'half sinc mirroring real data'"
   ]
  },
  {
   "cell_type": "markdown",
   "metadata": {},
   "source": [
    "### FT limit (sinc only)"
   ]
  },
  {
   "cell_type": "markdown",
   "metadata": {},
   "source": [
    "theory limit"
   ]
  },
  {
   "cell_type": "code",
   "execution_count": 3,
   "metadata": {},
   "outputs": [
    {
     "data": {
      "text/plain": [
       "2.0"
      ]
     },
     "execution_count": 3,
     "metadata": {},
     "output_type": "execute_result"
    }
   ],
   "source": [
    "2/omega"
   ]
  },
  {
   "cell_type": "markdown",
   "metadata": {},
   "source": [
    "30% of limit which seems to be the actual cut off"
   ]
  },
  {
   "cell_type": "code",
   "execution_count": 4,
   "metadata": {},
   "outputs": [
    {
     "data": {
      "text/plain": [
       "0.6"
      ]
     },
     "execution_count": 4,
     "metadata": {},
     "output_type": "execute_result"
    }
   ],
   "source": [
    "0.6/omega"
   ]
  },
  {
   "cell_type": "markdown",
   "metadata": {},
   "source": [
    "> Return\n",
    "\n",
    "Specify the model parameters"
   ]
  },
  {
   "cell_type": "code",
   "execution_count": 5,
   "metadata": {},
   "outputs": [
    {
     "data": {
      "text/plain": [
       "array([2.5, 0.5])"
      ]
     },
     "execution_count": 5,
     "metadata": {},
     "output_type": "execute_result"
    }
   ],
   "source": [
    "E = [1, 1, 1]\n",
    "eta = [2.5, 0.5]\n",
    "\n",
    "E_alt = np.array(E[1:])\n",
    "eta_alt = np.array(eta)\n",
    "tau = eta_alt/E_alt\n",
    "tau"
   ]
  },
  {
   "cell_type": "markdown",
   "metadata": {},
   "source": [
    "Specify the independant data points over which to synthesise the data, as well as restarting the random seeds"
   ]
  },
  {
   "cell_type": "code",
   "execution_count": 6,
   "metadata": {},
   "outputs": [
    {
     "data": {
      "text/plain": [
       "<torch._C.Generator at 0x7f0d246e37f0>"
      ]
     },
     "execution_count": 6,
     "metadata": {},
     "output_type": "execute_result"
    }
   ],
   "source": [
    "time_array = np.linspace(10**-10, 10*np.pi/omega, 5000).reshape(-1, 1)\n",
    "np.random.seed(0)\n",
    "torch.manual_seed(0)"
   ]
  },
  {
   "cell_type": "code",
   "execution_count": 7,
   "metadata": {},
   "outputs": [],
   "source": [
    "strain_array, stress_array = VE_datagen.calculate_strain_stress(input_type, time_array, input_expr, E, eta, D_input_lambda=d_input_expr)"
   ]
  },
  {
   "cell_type": "code",
   "execution_count": 8,
   "metadata": {},
   "outputs": [
    {
     "data": {
      "text/plain": [
       "[<matplotlib.lines.Line2D at 0x7f0c63e19e48>]"
      ]
     },
     "execution_count": 8,
     "metadata": {},
     "output_type": "execute_result"
    },
    {
     "data": {
      "image/png": "[encoded data removed]",
      "text/plain": [
       "<Figure size 432x288 with 1 Axes>"
      ]
     },
     "metadata": {
      "needs_background": "light"
     },
     "output_type": "display_data"
    }
   ],
   "source": [
    "plt.plot(time_array.flatten(), strain_array.flatten(), label='strain')"
   ]
  },
  {
   "cell_type": "code",
   "execution_count": 9,
   "metadata": {},
   "outputs": [
    {
     "data": {
      "text/plain": [
       "[<matplotlib.lines.Line2D at 0x7f0c63db4d68>]"
      ]
     },
     "execution_count": 9,
     "metadata": {},
     "output_type": "execute_result"
    },
    {
     "data": {
      "image/png": "[encoded data removed]",
      "text/plain": [
       "<Figure size 432x288 with 1 Axes>"
      ]
     },
     "metadata": {
      "needs_background": "light"
     },
     "output_type": "display_data"
    }
   ],
   "source": [
    "plt.plot(time_array.flatten(), stress_array.flatten(), label='stress')"
   ]
  },
  {
   "cell_type": "markdown",
   "metadata": {},
   "source": [
    "## Generation Validation"
   ]
  },
  {
   "cell_type": "code",
   "execution_count": 10,
   "metadata": {},
   "outputs": [],
   "source": [
    "errors = VE_datagen.equation_residuals(time_array, strain_array, stress_array, E, eta, input_type)"
   ]
  },
  {
   "cell_type": "code",
   "execution_count": 11,
   "metadata": {},
   "outputs": [
    {
     "data": {
      "text/plain": [
       "[<matplotlib.lines.Line2D at 0x7f0c638ec1d0>]"
      ]
     },
     "execution_count": 11,
     "metadata": {},
     "output_type": "execute_result"
    },
    {
     "data": {
      "image/png": "[encoded data removed]",
      "text/plain": [
       "<Figure size 432x288 with 1 Axes>"
      ]
     },
     "metadata": {
      "needs_background": "light"
     },
     "output_type": "display_data"
    }
   ],
   "source": [
    "plt.semilogy(abs(errors.flatten()))"
   ]
  },
  {
   "cell_type": "markdown",
   "metadata": {},
   "source": [
    "## Data Treatment"
   ]
  },
  {
   "cell_type": "markdown",
   "metadata": {},
   "source": [
    "prsence of t/time_sf in new lambdas is hard to understand but has a reason. The reason is that while unscaled t, stress and strain all map to each other, they need to all map once scaled also. Scaling the time array does not change the target array as these are both precalculated. however, because the analytical input data is calculated based off this NEW SCALED time series in the library function, it is calculated over the scaled time series for the old function, effectively doubling the number of bumps in the curve, rather than stretching it out. we want to calculate the old input_data, ie that ogininates from teh unscaled time data, so we have to unscale the time data on the fly in the library, hence the factor in the lambda function.\n",
    "\n",
    "This allows PyTorch to map scaled time to scaled input and calculate the appropriate derivatives\n",
    "\n",
    "Note, this is not an issue for the real data as there is no analytical input term, and the input variable is a dumb target, just like the output variable."
   ]
  },
  {
   "cell_type": "code",
   "execution_count": 12,
   "metadata": {},
   "outputs": [],
   "source": [
    "# 'normalising'\n",
    "time_sf = omega # we want T of effective curve to be 2pi. Teff = T*t_sf = 2pi*t_sf/omega = 2pi if t_sf = omega\n",
    "strain_sf = 1# 1/np.max(abs(strain_array))\n",
    "stress_sf = 1# 1/np.max(abs(stress_array))\n",
    "\n",
    "scaled_time_array = time_array*time_sf\n",
    "if input_type == 'Strain':\n",
    "    scaled_input_torch_lambda = lambda t: strain_sf*input_torch_lambda(t/time_sf)\n",
    "    scaled_target_array = stress_array*stress_sf\n",
    "elif input_type == 'Stress':\n",
    "    scaled_input_torch_lambda = lambda t: stress_sf*input_torch_lambda(t/time_sf)\n",
    "    scaled_target_array = strain_array*strain_sf"
   ]
  },
  {
   "cell_type": "code",
   "execution_count": 13,
   "metadata": {},
   "outputs": [],
   "source": [
    "# add noise\n",
    "noise_level = 0\n",
    "\n",
    "noisy_target_array = scaled_target_array + noise_level * np.std(scaled_target_array) * np.random.standard_normal(scaled_target_array.shape)"
   ]
  },
  {
   "cell_type": "code",
   "execution_count": 14,
   "metadata": {},
   "outputs": [],
   "source": [
    "# sampling\n",
    "number_of_samples = 1000\n",
    "\n",
    "reordered_row_indices = np.random.permutation(time_array.size)\n",
    "\n",
    "reduced_time_array = scaled_time_array[reordered_row_indices, :][:number_of_samples]\n",
    "reduced_target_array = noisy_target_array[reordered_row_indices, :][:number_of_samples]\n",
    "\n",
    "# The below code is a slight alternative version that produces data and targets that are still in chronological order.\n",
    "# selected_row_indices = reordered_row_indices[:number_of_samples]\n",
    "# selected_row_indices.sort()\n",
    "# reduced_time_array = scaled_time_array[selected_row_indices, :]\n",
    "# reduced_target_array = noisy_target_array[selected_row_indices, :]"
   ]
  },
  {
   "cell_type": "markdown",
   "metadata": {},
   "source": [
    "## DeepMod prep"
   ]
  },
  {
   "cell_type": "code",
   "execution_count": 15,
   "metadata": {},
   "outputs": [],
   "source": [
    "time_tensor = torch.tensor(reduced_time_array, dtype=torch.float32, requires_grad=True)\n",
    "target_tensor = torch.tensor(reduced_target_array, dtype=torch.float32)"
   ]
  },
  {
   "cell_type": "code",
   "execution_count": 16,
   "metadata": {},
   "outputs": [],
   "source": [
    "optim_config = {'lambda': 10**-6, 'lr_coeffs': 0.001, 'max_iterations': 100001, 'mse_only_iterations': 20001, 'final_run_iterations': 10001}"
   ]
  },
  {
   "cell_type": "code",
   "execution_count": 17,
   "metadata": {},
   "outputs": [],
   "source": [
    "network_config = {'input_dim': 1, 'hidden_dim': 30, 'layers': 4, 'output_dim': 1}"
   ]
  },
  {
   "cell_type": "code",
   "execution_count": 18,
   "metadata": {},
   "outputs": [],
   "source": [
    "library_config = {'type': mech_library, 'diff_order': 3, 'coeff_sign': 'positive', 'input_type': input_type, 'input_expr': scaled_input_torch_lambda}"
   ]
  },
  {
   "cell_type": "markdown",
   "metadata": {},
   "source": [
    "## Predicting Coefficients"
   ]
  },
  {
   "cell_type": "markdown",
   "metadata": {},
   "source": [
    "Predict the true values of the coefficients, based only on the viscoelastic model. These are not necessarily the constants that DeepMoD will find as DeepMoD will only see the scaled data."
   ]
  },
  {
   "cell_type": "code",
   "execution_count": 19,
   "metadata": {},
   "outputs": [
    {
     "data": {
      "text/plain": [
       "[0.3333333333333333, 0.41666666666666663, 1.0, 2.0, 0.41666666666666663]"
      ]
     },
     "execution_count": 19,
     "metadata": {},
     "output_type": "execute_result"
    }
   ],
   "source": [
    "if input_type == 'Stress':\n",
    "    not_floats = VE_params.coeffs_from_model_params_kelvin(E, eta)\n",
    "elif input_type == 'Strain':\n",
    "    not_floats = VE_params.coeffs_from_model_params_maxwell(E, eta)\n",
    "        \n",
    "[float(x) for x in not_floats]"
   ]
  },
  {
   "cell_type": "markdown",
   "metadata": {},
   "source": [
    "Scale the true coeffs to what deepmod should find based on the scaling of each term in the equation."
   ]
  },
  {
   "cell_type": "code",
   "execution_count": 20,
   "metadata": {},
   "outputs": [
    {
     "data": {
      "text/plain": [
       "[0.333333333333333,\n",
       " 0.416666666666667,\n",
       " 1.00000000000000,\n",
       " 2.00000000000000,\n",
       " 0.416666666666667]"
      ]
     },
     "execution_count": 20,
     "metadata": {},
     "output_type": "execute_result"
    }
   ],
   "source": [
    "expected_coeffs = VE_params.scaled_coeffs_from_true(not_floats, time_sf, strain_sf, stress_sf)\n",
    "expected_coeffs"
   ]
  },
  {
   "cell_type": "markdown",
   "metadata": {},
   "source": [
    "## Running DeepMoD"
   ]
  },
  {
   "cell_type": "code",
   "execution_count": 21,
   "metadata": {},
   "outputs": [
    {
     "data": {
      "image/png": "[encoded data removed]",
      "text/plain": [
       "<Figure size 460.8x345.6 with 2 Axes>"
      ]
     },
     "metadata": {},
     "output_type": "display_data"
    },
    {
     "name": "stdout",
     "output_type": "stream",
     "text": [
      "Epoch | Total loss | MSE | PI | L1 \n",
      "10000 6.5E-06 3.8E-06 2.7E-06 0.0E+00\n",
      "tensor([[0.3332],\n",
      "        [0.4166],\n",
      "        [0.9996],\n",
      "        [1.9997],\n",
      "        [0.4163]], requires_grad=True)\n",
      "Time elapsed: 15.0 minutes 59.789061307907104 seconds\n"
     ]
    },
    {
     "data": {
      "image/png": "[encoded data removed]",
      "text/plain": [
       "<Figure size 460.8x345.6 with 2 Axes>"
      ]
     },
     "metadata": {
      "needs_background": "light"
     },
     "output_type": "display_data"
    },
    {
     "data": {
      "image/png": "[encoded data removed]",
      "text/plain": [
       "<Figure size 460.8x345.6 with 2 Axes>"
      ]
     },
     "metadata": {
      "needs_background": "light"
     },
     "output_type": "display_data"
    },
    {
     "data": {
      "image/png": "[encoded data removed]",
      "text/plain": [
       "<Figure size 460.8x345.6 with 2 Axes>"
      ]
     },
     "metadata": {
      "needs_background": "light"
     },
     "output_type": "display_data"
    }
   ],
   "source": [
    "begin_timestamp = datetime.now()\n",
    "sparse_coeff_vector_list_list, scaled_coeff_vector_list_list, sparsity_mask_list_list, network = DeepMoD(time_tensor, target_tensor, network_config, library_config, optim_config, plot=True)"
   ]
  },
  {
   "cell_type": "markdown",
   "metadata": {},
   "source": [
    "### Results"
   ]
  },
  {
   "cell_type": "code",
   "execution_count": 22,
   "metadata": {},
   "outputs": [
    {
     "data": {
      "text/plain": [
       "[[tensor([[ 0.3342],\n",
       "          [ 0.3783],\n",
       "          [-0.0183],\n",
       "          [ 1.0071],\n",
       "          [ 1.9950],\n",
       "          [ 0.3349],\n",
       "          [-0.0099]], requires_grad=True)], [tensor([[0.3332],\n",
       "          [0.4166],\n",
       "          [0.9996],\n",
       "          [1.9997],\n",
       "          [0.4164]], requires_grad=True)]]"
      ]
     },
     "execution_count": 22,
     "metadata": {},
     "output_type": "execute_result"
    }
   ],
   "source": [
    "sparse_coeff_vector_list_list"
   ]
  },
  {
   "cell_type": "code",
   "execution_count": 23,
   "metadata": {},
   "outputs": [
    {
     "data": {
      "text/plain": [
       "[[tensor([[ 0.5344],\n",
       "          [ 0.6043],\n",
       "          [-0.0396],\n",
       "          [ 0.7228],\n",
       "          [ 0.7947],\n",
       "          [ 0.1043],\n",
       "          [-0.0026]], grad_fn=<MulBackward0>)], [tensor([[0.5334],\n",
       "          [0.6643],\n",
       "          [0.7180],\n",
       "          [0.7972],\n",
       "          [0.1299]], grad_fn=<MulBackward0>)]]"
      ]
     },
     "execution_count": 23,
     "metadata": {},
     "output_type": "execute_result"
    }
   ],
   "source": [
    "scaled_coeff_vector_list_list"
   ]
  },
  {
   "cell_type": "code",
   "execution_count": 24,
   "metadata": {},
   "outputs": [
    {
     "data": {
      "text/plain": [
       "[[tensor([0, 1, 2, 3, 4, 5, 6])], [tensor([0, 1, 3, 4, 5])]]"
      ]
     },
     "execution_count": 24,
     "metadata": {},
     "output_type": "execute_result"
    }
   ],
   "source": [
    "sparsity_mask_list_list"
   ]
  },
  {
   "cell_type": "markdown",
   "metadata": {},
   "source": [
    "## Results Processing"
   ]
  },
  {
   "cell_type": "markdown",
   "metadata": {},
   "source": [
    "> Run as far as here in one shot, then check that the below two code cells are correct, in particular, the string, `success_state` cannot be preset."
   ]
  },
  {
   "cell_type": "code",
   "execution_count": 29,
   "metadata": {},
   "outputs": [],
   "source": [
    "success_state = 'Fail'"
   ]
  },
  {
   "cell_type": "code",
   "execution_count": 30,
   "metadata": {},
   "outputs": [],
   "source": [
    "investigated_param = 'Trying to get 2nd order problem working again'\n",
    "param_value = 'NA'\n",
    "repeat_instance = 0"
   ]
  },
  {
   "cell_type": "markdown",
   "metadata": {},
   "source": [
    "> From here, you can run the rest of the code."
   ]
  },
  {
   "cell_type": "code",
   "execution_count": 31,
   "metadata": {},
   "outputs": [],
   "source": [
    "prediction_array = np.array(network(time_tensor).detach())"
   ]
  },
  {
   "cell_type": "markdown",
   "metadata": {},
   "source": [
    "if `prediction_coeffs_array` is not equal dimensionally to the `target_coeffs_array`, there would be an error if it weren't for the `if` statement prempting this. In the case where the dimensions don't agree, there is no sensible way to assess these quantities anyway, so this data is mostly abandoned. The coeffs before thresholding are however saved as `pre_thresh_coeffs_array`."
   ]
  },
  {
   "cell_type": "code",
   "execution_count": 32,
   "metadata": {},
   "outputs": [],
   "source": [
    "target_coeffs_array = np.array(expected_coeffs).reshape(-1,1)\n",
    "\n",
    "pre_thresh_coeffs_array = np.array(sparse_coeff_vector_list_list[0][0].detach())\n",
    "pre_thresh_scaled_coeffs_array = np.array(scaled_coeff_vector_list_list[0][0].detach())\n",
    "\n",
    "final_coeffs_array = np.array(sparse_coeff_vector_list_list[-1][0].detach())\n",
    "final_scaled_coeffs_array = np.array(scaled_coeff_vector_list_list[-1][0].detach())\n",
    "sparsity_mask_array = np.array(sparsity_mask_list_list[-1][0]).reshape(-1,1)"
   ]
  },
  {
   "cell_type": "markdown",
   "metadata": {},
   "source": [
    "if statement just bypasses errors"
   ]
  },
  {
   "cell_type": "code",
   "execution_count": 33,
   "metadata": {},
   "outputs": [],
   "source": [
    "dg_series_data = np.concatenate((time_array, strain_array, stress_array), axis=1)\n",
    "NN_series_data = np.concatenate((reduced_time_array, reduced_target_array, prediction_array), axis=1)\n",
    "pre_thresh_coeffs_data = np.concatenate((pre_thresh_coeffs_array, pre_thresh_scaled_coeffs_array), axis=1)\n",
    "final_coeffs_data = np.concatenate((final_coeffs_array, final_scaled_coeffs_array, sparsity_mask_array), axis=1)"
   ]
  },
  {
   "cell_type": "code",
   "execution_count": 34,
   "metadata": {},
   "outputs": [],
   "source": [
    "dt_string = begin_timestamp.strftime('%d/%m/%Y %H:%M:%S')"
   ]
  },
  {
   "cell_type": "code",
   "execution_count": 39,
   "metadata": {},
   "outputs": [],
   "source": [
    "input_theta = library_config.pop('input_theta')"
   ]
  },
  {
   "cell_type": "code",
   "execution_count": 40,
   "metadata": {},
   "outputs": [
    {
     "data": {
      "text/plain": [
       "['E: [0.0005, 0.0005]',\n",
       " 'eta: [0.0025]',\n",
       " 'Input: Strain',\n",
       " 'Desc: half sinc mirroring real data',\n",
       " 'omega: 0.1',\n",
       " 'Amp: 7']"
      ]
     },
     "execution_count": 40,
     "metadata": {},
     "output_type": "execute_result"
    }
   ],
   "source": [
    "dg_info_list = ['E: '+str(E), 'eta: '+str(eta), 'Input: '+input_type, 'Desc: '+func_desc, 'omega: '+str(omega), 'Amp: '+str(Amp)]\n",
    "dg_info_list"
   ]
  },
  {
   "cell_type": "code",
   "execution_count": 41,
   "metadata": {},
   "outputs": [
    {
     "data": {
      "text/plain": [
       "['noise_factor: 0', 'time_sf: 0.1', 'strain_sf: 0.1', 'stress_sf: 100']"
      ]
     },
     "execution_count": 41,
     "metadata": {},
     "output_type": "execute_result"
    }
   ],
   "source": [
    "treatment_info_list = ['noise_factor: '+str(noise_level), 'time_sf: '+str(time_sf), 'strain_sf: '+str(strain_sf), 'stress_sf: '+str(stress_sf)]\n",
    "treatment_info_list"
   ]
  },
  {
   "cell_type": "code",
   "execution_count": 42,
   "metadata": {},
   "outputs": [
    {
     "data": {
      "text/plain": [
       "[\"optim: {'lambda': 1e-05, 'lr_coeffs': 0.002, 'max_iterations': 100001, 'mse_only_iterations': 20001, 'final_run_iterations': 10001}\",\n",
       " \"network: {'input_dim': 1, 'hidden_dim': 30, 'layers': 4, 'output_dim': 1}\",\n",
       " \"library: {'type': <function strain_input_library at 0x7fe2436c06a8>, 'diff_order': 2, 'coeff_sign': 'positive', 'input_type': 'Strain', 'input_expr': <function <lambda> at 0x7fe240a78e18>}\"]"
      ]
     },
     "execution_count": 42,
     "metadata": {},
     "output_type": "execute_result"
    }
   ],
   "source": [
    "config_dict_list = ['optim: '+str(optim_config), 'network: '+str(network_config), 'library: '+str(library_config)]\n",
    "config_dict_list"
   ]
  },
  {
   "cell_type": "code",
   "execution_count": 43,
   "metadata": {},
   "outputs": [
    {
     "data": {
      "text/plain": [
       "['date_stamp: 16/03/2020 13:42:09', 'success: Fail']"
      ]
     },
     "execution_count": 43,
     "metadata": {},
     "output_type": "execute_result"
    }
   ],
   "source": [
    "misc_list = ['date_stamp: '+dt_string, 'success: '+success_state]\n",
    "misc_list"
   ]
  },
  {
   "cell_type": "markdown",
   "metadata": {},
   "source": [
    "## Saving"
   ]
  },
  {
   "cell_type": "code",
   "execution_count": 44,
   "metadata": {},
   "outputs": [],
   "source": [
    "parent_folder = '../data/Results'\n",
    "first_subfolder = investigated_param.replace('.', '-')\n",
    "second_subfolder = 'param_' + str(param_value).replace('.', '-')\n",
    "third_subfolder = 'repeat_' + str(repeat_instance)\n",
    "\n",
    "foldername = parent_folder + '/' + first_subfolder + '/' + second_subfolder + '/' + third_subfolder"
   ]
  },
  {
   "cell_type": "code",
   "execution_count": 45,
   "metadata": {},
   "outputs": [],
   "source": [
    "if not os.path.isdir(foldername):\n",
    "    os.makedirs(foldername)"
   ]
  },
  {
   "cell_type": "code",
   "execution_count": 46,
   "metadata": {},
   "outputs": [],
   "source": [
    "np.savetxt(foldername+'/DG_series_data.csv', dg_series_data, delimiter=',', header='Time, Strain, Stress')\n",
    "np.savetxt(foldername+'/NN_series_data.csv', NN_series_data, delimiter=',', header='Time, Target, Prediction')\n",
    "np.savetxt(foldername+'/expected_coeffs.csv', target_coeffs_array, delimiter=',', header='Expected_coeffs')\n",
    "np.savetxt(foldername+'/pre_thresh_coeffs_data.csv', pre_thresh_coeffs_data, delimiter=',', header='Trained_Coeffs, Scaled_Trained_Coeffs')\n",
    "np.savetxt(foldername+'/final_coeffs_data.csv', final_coeffs_data, delimiter=',', header='Trained_Coeffs, Scaled_Trained_Coeffs, Sparsity_Mask')"
   ]
  },
  {
   "cell_type": "code",
   "execution_count": 47,
   "metadata": {},
   "outputs": [],
   "source": [
    "with open(foldername+'/DG_info_list.txt', 'w') as file:\n",
    "    file.writelines(\"%s\\n\" % line for line in dg_info_list)"
   ]
  },
  {
   "cell_type": "code",
   "execution_count": 48,
   "metadata": {},
   "outputs": [],
   "source": [
    "with open(foldername+'/treatment_info_list.txt', 'w') as file:\n",
    "    file.writelines(\"%s\\n\" % line for line in treatment_info_list)"
   ]
  },
  {
   "cell_type": "code",
   "execution_count": 49,
   "metadata": {},
   "outputs": [],
   "source": [
    "with open(foldername+'/config_dict_list.txt', 'w') as file:\n",
    "    file.writelines(\"%s\\n\" % line for line in config_dict_list)"
   ]
  },
  {
   "cell_type": "code",
   "execution_count": 50,
   "metadata": {},
   "outputs": [],
   "source": [
    "with open(foldername+'/misc_list.txt', 'w') as file:\n",
    "    file.writelines(\"%s\\n\" % line for line in misc_list)"
   ]
  }
 ],
 "metadata": {
  "kernelspec": {
   "display_name": "Python 3",
   "language": "python",
   "name": "python3"
  },
  "language_info": {
   "codemirror_mode": {
    "name": "ipython",
    "version": 3
   },
   "file_extension": ".py",
   "mimetype": "text/x-python",
   "name": "python",
   "nbconvert_exporter": "python",
   "pygments_lexer": "ipython3",
   "version": "3.6.9"
  }
 },
 "nbformat": 4,
 "nbformat_minor": 4
}
