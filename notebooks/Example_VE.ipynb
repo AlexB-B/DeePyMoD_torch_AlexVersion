{
 "cells": [
  {
   "cell_type": "markdown",
   "metadata": {},
   "source": [
    "# Viscolelasticity Example"
   ]
  },
  {
   "cell_type": "markdown",
   "metadata": {},
   "source": [
    "In this notebook we provide an example of the DeepMoD algorithm by applying it to the stress response of a material as a result of a dynamic strain application. The data is synthetic and generated outside of this notebook.\n",
    "\n",
    "We start by importing the required libraries and setting the plotting style:"
   ]
  },
  {
   "cell_type": "code",
   "execution_count": 1,
   "metadata": {},
   "outputs": [
    {
     "name": "stderr",
     "output_type": "stream",
     "text": [
      "/opt/conda/lib/python3.6/site-packages/tensorboard/compat/tensorflow_stub/dtypes.py:541: FutureWarning: Passing (type, 1) or '1type' as a synonym of type is deprecated; in a future version of numpy, it will be understood as (type, (1,)) / '(1,)type'.\n",
      "  _np_qint8 = np.dtype([(\"qint8\", np.int8, 1)])\n",
      "/opt/conda/lib/python3.6/site-packages/tensorboard/compat/tensorflow_stub/dtypes.py:542: FutureWarning: Passing (type, 1) or '1type' as a synonym of type is deprecated; in a future version of numpy, it will be understood as (type, (1,)) / '(1,)type'.\n",
      "  _np_quint8 = np.dtype([(\"quint8\", np.uint8, 1)])\n",
      "/opt/conda/lib/python3.6/site-packages/tensorboard/compat/tensorflow_stub/dtypes.py:543: FutureWarning: Passing (type, 1) or '1type' as a synonym of type is deprecated; in a future version of numpy, it will be understood as (type, (1,)) / '(1,)type'.\n",
      "  _np_qint16 = np.dtype([(\"qint16\", np.int16, 1)])\n",
      "/opt/conda/lib/python3.6/site-packages/tensorboard/compat/tensorflow_stub/dtypes.py:544: FutureWarning: Passing (type, 1) or '1type' as a synonym of type is deprecated; in a future version of numpy, it will be understood as (type, (1,)) / '(1,)type'.\n",
      "  _np_quint16 = np.dtype([(\"quint16\", np.uint16, 1)])\n",
      "/opt/conda/lib/python3.6/site-packages/tensorboard/compat/tensorflow_stub/dtypes.py:545: FutureWarning: Passing (type, 1) or '1type' as a synonym of type is deprecated; in a future version of numpy, it will be understood as (type, (1,)) / '(1,)type'.\n",
      "  _np_qint32 = np.dtype([(\"qint32\", np.int32, 1)])\n",
      "/opt/conda/lib/python3.6/site-packages/tensorboard/compat/tensorflow_stub/dtypes.py:550: FutureWarning: Passing (type, 1) or '1type' as a synonym of type is deprecated; in a future version of numpy, it will be understood as (type, (1,)) / '(1,)type'.\n",
      "  np_resource = np.dtype([(\"resource\", np.ubyte, 1)])\n"
     ]
    }
   ],
   "source": [
    "import sys\n",
    "import numpy as np\n",
    "import matplotlib.pyplot as plt\n",
    "import torch\n",
    "\n",
    "sys.path.append('../src')\n",
    "from deepymod_torch.library_function import mech_library\n",
    "from deepymod_torch.DeepMod import DeepMoD, Not_DeepMoD\n",
    "from deepymod_torch.VE_params import coeffs_from_model_params, model_params_from_coeffs"
   ]
  },
  {
   "cell_type": "markdown",
   "metadata": {},
   "source": [
    "Next we configure some known facts about the input manipulation. In this example we modelled a scenario when strain was the independant variable under our control, and the analytical expression defining this manipulation was a sinc function. The input function is written as a callable lambda function and uses PyTorch functions as the function will be called PyTorch tensors."
   ]
  },
  {
   "cell_type": "code",
   "execution_count": 2,
   "metadata": {},
   "outputs": [],
   "source": [
    "Input_Type = 'Strain'\n",
    "Input_Function = lambda time_data: torch.sin(time_data)/time_data"
   ]
  },
  {
   "cell_type": "markdown",
   "metadata": {},
   "source": [
    "Next we load the data. For DeepMoD, we do not need to load the strain data but we will load it just to plot it.\n",
    "\n",
    "> Note: using this strain data directly will not allow us to calculated derivatives as PyTorch needs to track strain from teh orginal time data and know its history.\n",
    "\n",
    "> Note: I also am only pulling out teh first 3000 rows as teh dat occupies a time scale unnecessarily large (1000 rows = 10 secs)"
   ]
  },
  {
   "cell_type": "code",
   "execution_count": 3,
   "metadata": {},
   "outputs": [],
   "source": [
    "data = np.loadtxt('../data/StressStrain/Strain Sinc E[1, 10, 1] V[10, 10].csv', delimiter=',')\n",
    "time_Array, strain_array, Stress_Array = data[:3000,0:1], data[:3000,1:2], data[:3000,2:]"
   ]
  },
  {
   "cell_type": "markdown",
   "metadata": {},
   "source": [
    "Let's plot this data so taht we know what we are looking at"
   ]
  },
  {
   "cell_type": "code",
   "execution_count": 4,
   "metadata": {},
   "outputs": [
    {
     "data": {
      "image/png": "[encoded data removed]",
      "text/plain": [
       "<Figure size 432x288 with 2 Axes>"
      ]
     },
     "metadata": {
      "needs_background": "light"
     },
     "output_type": "display_data"
    }
   ],
   "source": [
    "fig, ax1 = plt.subplots()\n",
    "plt.title('Current prediction ability of network')\n",
    "ax1.set_xlabel('Time (s)')\n",
    "colour = 'blue'\n",
    "ax1.set_ylabel('Strain', color=colour)\n",
    "ax1.plot(time_Array, strain_array, color=colour, linestyle='None', marker='.', markersize=0.5)\n",
    "ax1.tick_params(axis='y', labelcolor=colour)\n",
    "ax2 = ax1.twinx()\n",
    "colour = 'red'\n",
    "ax2.set_ylabel('Stress', color=colour)\n",
    "ax2.plot(time_Array, Stress_Array, color=colour, linestyle='None', marker='.', markersize=0.5)\n",
    "ax2.tick_params(axis='y', labelcolor=colour)\n",
    "ax1.set_ylim(ax2.get_ylim())\n",
    "plt.show()"
   ]
  },
  {
   "cell_type": "markdown",
   "metadata": {},
   "source": [
    "As our data is generated synthetically, there is no noise unless we add it. Let's do so now. We compute the standard deviation of our whole stress target data as a reference noise magnitude. We then establish a variable to scale this down called `noise_level`. A random set of numbers following a normal distribution with a variance of 1 and mean of 0 is generated and multiplied by our previous two factors to get a noise adjustment randomly selected for each value that is scaled to the magnitude of the data and normally distributed around the noiseless curve."
   ]
  },
  {
   "cell_type": "code",
   "execution_count": 5,
   "metadata": {},
   "outputs": [],
   "source": [
    "noise_level = 0.05\n",
    "#noisy_stress_array = Stress_Array + noise_level * np.std(Stress_Array) * np.random.standard_normal(Stress_Array.shape)\n",
    "noisy_stress_array = Stress_Array"
   ]
  },
  {
   "cell_type": "markdown",
   "metadata": {},
   "source": [
    "To show that DeepMoD does not need a huge amount of data points, and also to reduce computational time, we will randomly pick 1000 data points from our sample data."
   ]
  },
  {
   "cell_type": "code",
   "execution_count": 6,
   "metadata": {},
   "outputs": [],
   "source": [
    "number_of_samples = 1000\n",
    "\n",
    "reordered_row_indices = np.random.permutation(time_Array.size)\n",
    "reduced_time_array = time_Array[reordered_row_indices, :][:number_of_samples]\n",
    "reduced_stress_array = noisy_stress_array[reordered_row_indices, :][:number_of_samples]"
   ]
  },
  {
   "cell_type": "markdown",
   "metadata": {},
   "source": [
    "The data is placed into PyTorch tensors. As we will want to know derivatives with respect to time, we must flag that `time_Tensor` requires gradient tracking."
   ]
  },
  {
   "cell_type": "code",
   "execution_count": 7,
   "metadata": {},
   "outputs": [],
   "source": [
    "time_Tensor = torch.tensor(reduced_time_array, dtype=torch.float32, requires_grad=True)\n",
    "Stress_Tensor = torch.tensor(reduced_stress_array, dtype=torch.float32)"
   ]
  },
  {
   "cell_type": "markdown",
   "metadata": {},
   "source": [
    "Next we configure our parameters for the running of DeepMoD.\n",
    "\n",
    "`optim_config` is rather standard."
   ]
  },
  {
   "cell_type": "code",
   "execution_count": 8,
   "metadata": {},
   "outputs": [],
   "source": [
    "optim_config = {'lambda': 10**-5, 'max_iterations': 20001}"
   ]
  },
  {
   "cell_type": "markdown",
   "metadata": {},
   "source": [
    "`network_config` indicates that we have one input data series (time) and one output data series (stress). The network is relatively large as we are trying to fit a semi-periodic function."
   ]
  },
  {
   "cell_type": "code",
   "execution_count": 9,
   "metadata": {},
   "outputs": [],
   "source": [
    "network_config = {'input_dim': 1, 'hidden_dim': 25, 'layers': 5, 'output_dim': 1}"
   ]
  },
  {
   "cell_type": "markdown",
   "metadata": {},
   "source": [
    "`lib_config` contains a large number of elements that require explanation.\n",
    "\n",
    "- `mech_library` is the name given to the library function imported at the top of the notebook. This function will allow the calculation of the derivatives of strain and stress from the zeroth order through to the maximum order specified by `diff_order`. It also performs the organisation needed to place this data in $\\Theta$.\n",
    "\n",
    "- `coeff_sign` mandates that the initial guesses at the coefficients are all positive. The variability in the set of equations we are trying to fit allows for known signs on all the coefficients. Strain coefficients will be negative always, and stress positive, but as this is taken into account by the library function, DeepMoD is effectively only asked to find the magnitude of these values.\n",
    "\n",
    "- The remaining two elements are simply the parameters we defined near the beginning."
   ]
  },
  {
   "cell_type": "code",
   "execution_count": 10,
   "metadata": {},
   "outputs": [],
   "source": [
    "lib_config = {'type': mech_library, 'diff_order': 3, 'coeff_sign': 'positive', 'input_type': Input_Type, 'input_expr': Input_Function}"
   ]
  },
  {
   "cell_type": "markdown",
   "metadata": {},
   "source": [
    "With this organisation completed, we can now use the DeepMoD neural network to solve the equation relating stress and strain.\n",
    "\n",
    "Before doing so however, it useful to know the values of the coefficients that DeepMoD should find. We can do this using a function written for this purpose:\n",
    "> Will not work without sympy"
   ]
  },
  {
   "cell_type": "code",
   "execution_count": 14,
   "metadata": {},
   "outputs": [
    {
     "data": {
      "text/plain": [
       "[0.09090909090909091,\n",
       " 0.9090909090909091,\n",
       " 0.19090909090909092,\n",
       " 1.1818181818181819,\n",
       " 0.9090909090909091]"
      ]
     },
     "execution_count": 14,
     "metadata": {},
     "output_type": "execute_result"
    }
   ],
   "source": [
    "not_floats = coeffs_from_model_params([1, 10, 1], [10, 10])\n",
    "[float(x) for x in not_floats]"
   ]
  },
  {
   "cell_type": "markdown",
   "metadata": {},
   "source": [
    "If the character of these 2 branches is too similar, the same data can be roughly replicated using a single branch with double elastic modulus and viscosity. If we take the mean of the viscosities as their 'identical' viscosity, we would expect to see coeffs:"
   ]
  },
  {
   "cell_type": "code",
   "execution_count": 15,
   "metadata": {},
   "outputs": [
    {
     "data": {
      "text/plain": [
       "[0.550000000000000, 0.600000000000000, 1]"
      ]
     },
     "execution_count": 15,
     "metadata": {},
     "output_type": "execute_result"
    }
   ],
   "source": [
    "coeffs_from_model_params([1, ((10 + 1)/2)*2], [((10 + 10)/2)*2])"
   ]
  },
  {
   "cell_type": "markdown",
   "metadata": {},
   "source": [
    "Now, let's run DeepMoD."
   ]
  },
  {
   "cell_type": "code",
   "execution_count": 16,
   "metadata": {},
   "outputs": [],
   "source": [
    "#network = Not_DeepMoD(time_Tensor, Stress_Tensor, network_config, lib_config, optim_config)"
   ]
  },
  {
   "cell_type": "code",
   "execution_count": null,
   "metadata": {},
   "outputs": [
    {
     "data": {
      "image/png": "[encoded data removed]",
      "text/plain": [
       "<Figure size 432x288 with 2 Axes>"
      ]
     },
     "metadata": {},
     "output_type": "display_data"
    },
    {
     "name": "stdout",
     "output_type": "stream",
     "text": [
      "Epoch | Total loss | MSE | PI | L1 \n",
      "6750 9.5E-02 9.5E-02 3.5E-05 2.1E-05\n",
      "tensor([[ 4.2983e-01],\n",
      "        [ 5.3557e-01],\n",
      "        [ 8.7446e-01],\n",
      "        [ 2.6094e-02],\n",
      "        [ 2.8104e-03],\n",
      "        [-1.9028e-03],\n",
      "        [ 2.3995e-04]], requires_grad=True)\n",
      "lrs are 0.001 0.001\n",
      "Time elapsed: 17.0 minutes 38.66588878631592 seconds\n"
     ]
    }
   ],
   "source": [
    "sparse_coeff_vector, sparsity_mask, network = DeepMoD(time_Tensor, Stress_Tensor, network_config, lib_config, optim_config)"
   ]
  },
  {
   "cell_type": "markdown",
   "metadata": {},
   "source": [
    "To make sense of these coefficients and relate them to the best fit model paramters, we take only `sparse_coeff_vector` and submit this to a simultaneous equations solving algorithm written:\n",
    ">Will not run without sympy"
   ]
  },
  {
   "cell_type": "code",
   "execution_count": 13,
   "metadata": {},
   "outputs": [
    {
     "data": {
      "text/plain": [
       "[tensor([[0.0859],\n",
       "         [0.1702],\n",
       "         [0.3707]], requires_grad=True)]"
      ]
     },
     "execution_count": 13,
     "metadata": {},
     "output_type": "execute_result"
    }
   ],
   "source": [
    "sparse_coeff_vector"
   ]
  },
  {
   "cell_type": "code",
   "execution_count": 14,
   "metadata": {},
   "outputs": [
    {
     "data": {
      "text/plain": [
       "[tensor([0, 3, 4])]"
      ]
     },
     "execution_count": 14,
     "metadata": {},
     "output_type": "execute_result"
    }
   ],
   "source": [
    "sparsity_mask"
   ]
  },
  {
   "cell_type": "code",
   "execution_count": 16,
   "metadata": {},
   "outputs": [
    {
     "data": {
      "text/plain": [
       "([(2.69733478233294, 0.620999077887033, 7.22719680138125)], [E_0, E_1, eta_1])"
      ]
     },
     "execution_count": 16,
     "metadata": {},
     "output_type": "execute_result"
    }
   ],
   "source": [
    "Model_Params = model_params_from_coeffs(sparse_coeff_vector[0])\n",
    "Model_Params"
   ]
  },
  {
   "cell_type": "code",
   "execution_count": null,
   "metadata": {},
   "outputs": [],
   "source": []
  }
 ],
 "metadata": {
  "kernelspec": {
   "display_name": "Python 3",
   "language": "python",
   "name": "python3"
  },
  "language_info": {
   "codemirror_mode": {
    "name": "ipython",
    "version": 3
   },
   "file_extension": ".py",
   "mimetype": "text/x-python",
   "name": "python",
   "nbconvert_exporter": "python",
   "pygments_lexer": "ipython3",
   "version": "3.6.9"
  }
 },
 "nbformat": 4,
 "nbformat_minor": 4
}
