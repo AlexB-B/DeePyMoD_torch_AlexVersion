{
 "cells": [
  {
   "cell_type": "markdown",
   "metadata": {},
   "source": [
    "# PINN Style Investigations"
   ]
  },
  {
   "cell_type": "markdown",
   "metadata": {},
   "source": [
    "## First, PINN idea with 1 order of differentiation, so 4 terms including first strain derivative"
   ]
  },
  {
   "cell_type": "code",
   "execution_count": 1,
   "metadata": {},
   "outputs": [
    {
     "name": "stderr",
     "output_type": "stream",
     "text": [
      "/opt/conda/lib/python3.6/site-packages/tensorboard/compat/tensorflow_stub/dtypes.py:541: FutureWarning: Passing (type, 1) or '1type' as a synonym of type is deprecated; in a future version of numpy, it will be understood as (type, (1,)) / '(1,)type'.\n",
      "  _np_qint8 = np.dtype([(\"qint8\", np.int8, 1)])\n",
      "/opt/conda/lib/python3.6/site-packages/tensorboard/compat/tensorflow_stub/dtypes.py:542: FutureWarning: Passing (type, 1) or '1type' as a synonym of type is deprecated; in a future version of numpy, it will be understood as (type, (1,)) / '(1,)type'.\n",
      "  _np_quint8 = np.dtype([(\"quint8\", np.uint8, 1)])\n",
      "/opt/conda/lib/python3.6/site-packages/tensorboard/compat/tensorflow_stub/dtypes.py:543: FutureWarning: Passing (type, 1) or '1type' as a synonym of type is deprecated; in a future version of numpy, it will be understood as (type, (1,)) / '(1,)type'.\n",
      "  _np_qint16 = np.dtype([(\"qint16\", np.int16, 1)])\n",
      "/opt/conda/lib/python3.6/site-packages/tensorboard/compat/tensorflow_stub/dtypes.py:544: FutureWarning: Passing (type, 1) or '1type' as a synonym of type is deprecated; in a future version of numpy, it will be understood as (type, (1,)) / '(1,)type'.\n",
      "  _np_quint16 = np.dtype([(\"quint16\", np.uint16, 1)])\n",
      "/opt/conda/lib/python3.6/site-packages/tensorboard/compat/tensorflow_stub/dtypes.py:545: FutureWarning: Passing (type, 1) or '1type' as a synonym of type is deprecated; in a future version of numpy, it will be understood as (type, (1,)) / '(1,)type'.\n",
      "  _np_qint32 = np.dtype([(\"qint32\", np.int32, 1)])\n",
      "/opt/conda/lib/python3.6/site-packages/tensorboard/compat/tensorflow_stub/dtypes.py:550: FutureWarning: Passing (type, 1) or '1type' as a synonym of type is deprecated; in a future version of numpy, it will be understood as (type, (1,)) / '(1,)type'.\n",
      "  np_resource = np.dtype([(\"resource\", np.ubyte, 1)])\n"
     ]
    }
   ],
   "source": [
    "import sys\n",
    "import numpy as np\n",
    "import matplotlib.pyplot as plt\n",
    "import torch\n",
    "\n",
    "sys.path.append('../src')\n",
    "from deepymod_torch.library_function import strain_input_library\n",
    "from deepymod_torch.DeepMod import DeepMoD_PINN\n",
    "from deepymod_torch.VE_params import coeffs_from_model_params, model_params_from_coeffs"
   ]
  },
  {
   "cell_type": "markdown",
   "metadata": {},
   "source": [
    "No thresholding is done in thsi investigation. DeepMoD_PINN simply takes the diff_order to already arrive at teh correct equation (wrong coeffs) from the offset, and then trains around that. No attempt is made to remove terms, it is just a search to model the data with a NN, and find the rigth coeffs.\n",
    "\n",
    "Hoepfully it finds the correct coeffs\n",
    "\n",
    "if not, I guess we will test to see if\n",
    "\n",
    "- starting again always reproduces teh same constants\n",
    "\n",
    "- if teh system has converged or is still converging.\n",
    "\n",
    "- whether launching the training with the already trained NN to give it more time allows us to correct for the error."
   ]
  },
  {
   "cell_type": "code",
   "execution_count": 2,
   "metadata": {},
   "outputs": [],
   "source": [
    "Input_Type = 'Strain'\n",
    "Input_Function = lambda time_data: torch.sin(time_data)/time_data"
   ]
  },
  {
   "cell_type": "code",
   "execution_count": 3,
   "metadata": {},
   "outputs": [],
   "source": [
    "data = np.loadtxt('../data/StressStrain/Strain Sinc E[1, 10] V[20].csv', delimiter=',')\n",
    "time_Array, strain_array, Stress_Array = data[:3000,0:1], data[:3000,1:2], data[:3000,2:]"
   ]
  },
  {
   "cell_type": "code",
   "execution_count": 4,
   "metadata": {},
   "outputs": [
    {
     "data": {
      "image/png": "[encoded data removed]",
      "text/plain": [
       "<Figure size 432x288 with 2 Axes>"
      ]
     },
     "metadata": {
      "needs_background": "light"
     },
     "output_type": "display_data"
    }
   ],
   "source": [
    "fig, ax1 = plt.subplots()\n",
    "plt.title('Current prediction ability of network')\n",
    "ax1.set_xlabel('Time (s)')\n",
    "colour = 'blue'\n",
    "ax1.set_ylabel('Strain', color=colour)\n",
    "ax1.plot(time_Array, strain_array, color=colour, linestyle='None', marker='.', markersize=0.5)\n",
    "ax1.tick_params(axis='y', labelcolor=colour)\n",
    "ax2 = ax1.twinx()\n",
    "colour = 'red'\n",
    "ax2.set_ylabel('Stress', color=colour)\n",
    "ax2.plot(time_Array, Stress_Array, color=colour, linestyle='None', marker='.', markersize=0.5)\n",
    "ax2.tick_params(axis='y', labelcolor=colour)\n",
    "ax1.set_ylim(ax2.get_ylim())\n",
    "plt.show()"
   ]
  },
  {
   "cell_type": "code",
   "execution_count": 6,
   "metadata": {},
   "outputs": [],
   "source": [
    "noise_level = 0.05\n",
    "#noisy_stress_array = Stress_Array + noise_level * np.std(Stress_Array) * np.random.standard_normal(Stress_Array.shape)\n",
    "noisy_stress_array = Stress_Array"
   ]
  },
  {
   "cell_type": "code",
   "execution_count": 7,
   "metadata": {},
   "outputs": [],
   "source": [
    "number_of_samples = 1000\n",
    "\n",
    "reordered_row_indices = np.random.permutation(time_Array.size)\n",
    "reduced_time_array = time_Array[reordered_row_indices, :][:number_of_samples]\n",
    "reduced_stress_array = noisy_stress_array[reordered_row_indices, :][:number_of_samples]"
   ]
  },
  {
   "cell_type": "code",
   "execution_count": 8,
   "metadata": {},
   "outputs": [],
   "source": [
    "time_Tensor = torch.tensor(reduced_time_array, dtype=torch.float32, requires_grad=True)\n",
    "Stress_Tensor = torch.tensor(reduced_stress_array, dtype=torch.float32)"
   ]
  },
  {
   "cell_type": "markdown",
   "metadata": {},
   "source": [
    "no matter that lambda is unchanged, the function changes this itself to zero. This is already part of the default flow so i kept it in."
   ]
  },
  {
   "cell_type": "code",
   "execution_count": 9,
   "metadata": {},
   "outputs": [],
   "source": [
    "optim_config = {'lambda': 10**-5, 'max_iterations': 20001}"
   ]
  },
  {
   "cell_type": "code",
   "execution_count": 10,
   "metadata": {},
   "outputs": [],
   "source": [
    "network_config = {'input_dim': 1, 'hidden_dim': 25, 'layers': 5, 'output_dim': 1}"
   ]
  },
  {
   "cell_type": "markdown",
   "metadata": {},
   "source": [
    "`diff_order` crucially is now 1, so that we have actually fully defined the equation which is correct, we are only looking for the coeffs."
   ]
  },
  {
   "cell_type": "code",
   "execution_count": 13,
   "metadata": {},
   "outputs": [],
   "source": [
    "lib_config = {'type': strain_input_library, 'diff_order': 1, 'coeff_sign': 'positive', 'input_type': Input_Type, 'input_expr': Input_Function}"
   ]
  },
  {
   "cell_type": "markdown",
   "metadata": {},
   "source": [
    "prediction of what we are aiming for"
   ]
  },
  {
   "cell_type": "code",
   "execution_count": 12,
   "metadata": {},
   "outputs": [
    {
     "data": {
      "text/plain": [
       "[0.5, 0.55, 1.0]"
      ]
     },
     "execution_count": 12,
     "metadata": {},
     "output_type": "execute_result"
    }
   ],
   "source": [
    "not_floats = coeffs_from_model_params([1, 10], [20])\n",
    "[float(x) for x in not_floats]"
   ]
  },
  {
   "cell_type": "code",
   "execution_count": 14,
   "metadata": {},
   "outputs": [
    {
     "name": "stdout",
     "output_type": "stream",
     "text": [
      "Epoch | Total loss | MSE | PI | L1 \n",
      "20000 5.5E-04 5.1E-04 4.0E-05 0.0E+00\n",
      "tensor([[0.0636],\n",
      "        [0.0466],\n",
      "        [0.0894]], requires_grad=True)\n",
      "lrs are 0.001 0.001\n",
      "Total time elapsed: 15.0 minutes 23.775718927383423 seconds\n"
     ]
    },
    {
     "data": {
      "image/png": "[encoded data removed]",
      "text/plain": [
       "<Figure size 432x288 with 2 Axes>"
      ]
     },
     "metadata": {
      "needs_background": "light"
     },
     "output_type": "display_data"
    }
   ],
   "source": [
    "sparse_coeff_vector, sparsity_mask, network = DeepMoD_PINN(time_Tensor, Stress_Tensor, network_config, lib_config, optim_config)"
   ]
  },
  {
   "cell_type": "code",
   "execution_count": 21,
   "metadata": {},
   "outputs": [
    {
     "data": {
      "text/plain": [
       "([(11.1832683075793, 1.55559812101353, 24.4543416076316)], [E_0, E_1, eta_1])"
      ]
     },
     "execution_count": 21,
     "metadata": {},
     "output_type": "execute_result"
    }
   ],
   "source": [
    "Model_Params = model_params_from_coeffs(sparse_coeff_vector[0].detach())\n",
    "Model_Params"
   ]
  },
  {
   "cell_type": "code",
   "execution_count": 18,
   "metadata": {},
   "outputs": [],
   "source": [
    "import importlib\n",
    "import deepymod_torch.DeepMod as DM"
   ]
  },
  {
   "cell_type": "code",
   "execution_count": 23,
   "metadata": {},
   "outputs": [
    {
     "data": {
      "text/plain": [
       "<module 'deepymod_torch.DeepMod' from '/home/working/src/deepymod_torch/DeepMod.py'>"
      ]
     },
     "execution_count": 23,
     "metadata": {},
     "output_type": "execute_result"
    }
   ],
   "source": [
    "importlib.reload(DM)"
   ]
  },
  {
   "cell_type": "code",
   "execution_count": 24,
   "metadata": {},
   "outputs": [
    {
     "name": "stdout",
     "output_type": "stream",
     "text": [
      "Epoch | Total loss | MSE | PI | L1 \n",
      "20000 8.2E-05 7.9E-05 3.1E-06 0.0E+00\n",
      "tensor([[0.0463],\n",
      "        [0.0455],\n",
      "        [0.0908]], requires_grad=True)\n",
      "lrs are 0.001 0.001\n",
      "Total time elapsed: 15.0 minutes 10.852928161621094 seconds\n"
     ]
    },
    {
     "data": {
      "image/png": "[encoded data removed]",
      "text/plain": [
       "<Figure size 432x288 with 2 Axes>"
      ]
     },
     "metadata": {
      "needs_background": "light"
     },
     "output_type": "display_data"
    }
   ],
   "source": [
    "sparse_coeff_vector, sparsity_mask, network = DM.DeepMoD_PINN(time_Tensor, Stress_Tensor, network_config, lib_config, optim_config, NN=network, coeffs=(sparse_coeff_vector, sparsity_mask))"
   ]
  },
  {
   "cell_type": "code",
   "execution_count": 25,
   "metadata": {},
   "outputs": [
    {
     "data": {
      "text/plain": [
       "([(11.0100337213625, 1.11961087811237, 24.2073715463170)], [E_0, E_1, eta_1])"
      ]
     },
     "execution_count": 25,
     "metadata": {},
     "output_type": "execute_result"
    }
   ],
   "source": [
    "Model_Params = model_params_from_coeffs(sparse_coeff_vector[0].detach())\n",
    "Model_Params"
   ]
  },
  {
   "cell_type": "code",
   "execution_count": 26,
   "metadata": {},
   "outputs": [],
   "source": [
    "import sympy as sym\n",
    "\n",
    "sys.path.append('../')\n",
    "import data.Generation.VE_DataGen_Functions as vedg"
   ]
  },
  {
   "cell_type": "code",
   "execution_count": 27,
   "metadata": {},
   "outputs": [],
   "source": [
    "Input_Type = 'Strain'\n",
    "E = list(Model_Params[0][0][:2])\n",
    "Eta = list(Model_Params[0][0][2:3])\n",
    "t = sym.symbols('t', real=True)\n",
    "Input_Function = sym.sinc(t)\n",
    "Input_Description = 'Sinc'\n",
    "Int_Type = 'Numerical'"
   ]
  },
  {
   "cell_type": "code",
   "execution_count": 28,
   "metadata": {},
   "outputs": [
    {
     "data": {
      "text/plain": [
       "(11.0100337213625 + 1.11961087811237*exp(-0.0462508238852024*t),\n",
       " <function data.Generation.VE_DataGen_Functions.Stress_Strain_Master_Int.<locals>.<lambda>(t)>)"
      ]
     },
     "execution_count": 28,
     "metadata": {},
     "output_type": "execute_result"
    }
   ],
   "source": [
    "Tuple_of_Expressions = vedg.Stress_Strain_Master_Int(Input_Type, E, Eta, Input_Function, Int_Type, t)\n",
    "Tuple_of_Expressions"
   ]
  },
  {
   "cell_type": "code",
   "execution_count": 29,
   "metadata": {},
   "outputs": [
    {
     "data": {
      "image/png": "[encoded data removed]",
      "text/plain": [
       "<Figure size 432x288 with 2 Axes>"
      ]
     },
     "metadata": {
      "needs_background": "light"
     },
     "output_type": "display_data"
    }
   ],
   "source": [
    "time = np.linspace(0.001, 50, 5000)\n",
    "\n",
    "title = ('Input: ' + Input_Description + ', ' + Input_Type + \n",
    "         '.\\nModel: E Mods ' + str(E) + ', Viscs ' + str(Eta))\n",
    "\n",
    "result_strain_array, result_stress_array = vedg.Eval_Graph_Strain_Stress(title, time, Input_Function, Tuple_of_Expressions, Input_Type, Int_Type, t)"
   ]
  },
  {
   "cell_type": "code",
   "execution_count": null,
   "metadata": {},
   "outputs": [],
   "source": [
    "plt.plot(time[:3000], result_stress_array[:3000], label='result')\n",
    "plt.plot(time[:3000], Stress_Array, label='input')\n",
    "plt.legend()"
   ]
  },
  {
   "cell_type": "markdown",
   "metadata": {},
   "source": [
    "Unfortunately for my understanding, admittedly these two curves look very different! So I am not sure how deepmod could have confused them....."
   ]
  },
  {
   "cell_type": "code",
   "execution_count": null,
   "metadata": {},
   "outputs": [],
   "source": [
    "plt.plot(time[:3000], result_strain_array[:3000], label='result')\n",
    "plt.plot(time[:3000], strain_array, label='input')\n",
    "plt.legend()"
   ]
  },
  {
   "cell_type": "code",
   "execution_count": null,
   "metadata": {},
   "outputs": [],
   "source": []
  }
 ],
 "metadata": {
  "kernelspec": {
   "display_name": "Python 3",
   "language": "python",
   "name": "python3"
  },
  "language_info": {
   "codemirror_mode": {
    "name": "ipython",
    "version": 3
   },
   "file_extension": ".py",
   "mimetype": "text/x-python",
   "name": "python",
   "nbconvert_exporter": "python",
   "pygments_lexer": "ipython3",
   "version": "3.6.9"
  }
 },
 "nbformat": 4,
 "nbformat_minor": 4
}
