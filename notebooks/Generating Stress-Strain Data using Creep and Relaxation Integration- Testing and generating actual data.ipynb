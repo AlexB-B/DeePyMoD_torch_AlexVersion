{
 "cells": [
  {
   "cell_type": "markdown",
   "metadata": {},
   "source": [
    "# Generating Stress/Strain data using Integration - and actually outputting the data for use in DeepMoD"
   ]
  },
  {
   "cell_type": "markdown",
   "metadata": {},
   "source": [
    "I will use the functions previously developed and stored within //data/Generation/VE_DataGen_Functions to generate data sets for a variety of inputs. I will then save this output data to //data as .csv files, ready to imported into another notebook where i will use DeepMod on the results."
   ]
  },
  {
   "cell_type": "markdown",
   "metadata": {},
   "source": [
    "The workflow for data generation will be to first attempt an analytical result, and if this has not worked after a few minutes, then I will abort and try the numerical result. I suspect the step function will not work with a numerical method because of a bug in the `sp.lambdify` function, but it should hopefully work analytically anyway. In contrast, the rest may need to be done numerically."
   ]
  },
  {
   "cell_type": "markdown",
   "metadata": {},
   "source": [
    "I can vary:\n",
    "\n",
    "- The Input Type\n",
    "\n",
    "- The Input functional form\n",
    "\n",
    "- The size of the model\n",
    "\n",
    "- The parameters of the model"
   ]
  },
  {
   "cell_type": "markdown",
   "metadata": {},
   "source": [
    "## The Heaviside step input - Stress Input"
   ]
  },
  {
   "cell_type": "markdown",
   "metadata": {},
   "source": [
    "I will, start off very simply, a Strain input, a step input, a basic model with only 1 viscosity, and all parameters = to 1."
   ]
  },
  {
   "cell_type": "code",
   "execution_count": 1,
   "metadata": {},
   "outputs": [],
   "source": [
    "import os\n",
    "import numpy as np\n",
    "import sympy as sp\n",
    "import sys\n",
    "\n",
    "sys.path.append('../')\n",
    "import data.Generation.VE_DataGen_Functions as vedg"
   ]
  },
  {
   "cell_type": "code",
   "execution_count": 2,
   "metadata": {},
   "outputs": [
    {
     "name": "stdout",
     "output_type": "stream",
     "text": [
      "1.0 + 1.0*exp(-t)\n"
     ]
    }
   ],
   "source": [
    "Input_Type = 'Strain'\n",
    "E = [1, 1]\n",
    "Eta = [1]\n",
    "t = sp.symbols('t', real=True)\n",
    "#Input_Function = sp.Heaviside(t, 0) # the second arguement specifies that H(0) = 0, not 1, not 0.5, and not undefined.\n",
    "Input_Function = sp.S(1)\n",
    "Input_Description = 'Step'\n",
    "Int_Type = 'Analytical'\n",
    "\n",
    "Tuple_of_Expressions = vedg.Stress_Strain_Master_Int(Input_Type, E, Eta, Input_Function, Int_Type, t)\n",
    "print(Tuple_of_Expressions)"
   ]
  },
  {
   "cell_type": "code",
   "execution_count": 3,
   "metadata": {
    "scrolled": false
   },
   "outputs": [
    {
     "data": {
      "image/png": "[encoded data removed]",
      "text/plain": [
       "<Figure size 432x288 with 2 Axes>"
      ]
     },
     "metadata": {
      "needs_background": "light"
     },
     "output_type": "display_data"
    }
   ],
   "source": [
    "time = np.linspace(0, 30, 5000)\n",
    "\n",
    "title = ('Input: ' + Input_Description + ', ' + Input_Type + \n",
    "         '.\\nModel: E Mods ' + str(E) + ', Viscs ' + str(Eta))\n",
    "\n",
    "Strain_Array, Stress_Array = vedg.Eval_Graph_Strain_Stress(title, time, Input_Function, Tuple_of_Expressions, Input_Type, Int_Type, t)"
   ]
  },
  {
   "cell_type": "markdown",
   "metadata": {},
   "source": [
    "Now we have some new code for saving the data in a proper format. First it must be reshaped into columns. this is partly a choice, I could export it as two different files, but it makes sense to store the data together, and it makes it easier to name. I establish the convention that the 1st column is always strain. It could also have been rows but column is more normal."
   ]
  },
  {
   "cell_type": "code",
   "execution_count": 4,
   "metadata": {},
   "outputs": [
    {
     "name": "stdout",
     "output_type": "stream",
     "text": [
      "(5000, 3)\n"
     ]
    }
   ],
   "source": [
    "time = time.reshape(-1, 1)\n",
    "Strain_Array = Strain_Array.reshape(-1, 1)\n",
    "Stress_Array = Stress_Array.reshape(-1, 1)\n",
    "Data_Export = np.concatenate((time, Strain_Array, Stress_Array), axis=1)\n",
    "print(Data_Export.shape)"
   ]
  },
  {
   "cell_type": "code",
   "execution_count": 6,
   "metadata": {},
   "outputs": [],
   "source": [
    "if not os.path.isdir('../data/StressStrain'):\n",
    "    os.makedirs('../data/StressStrain')"
   ]
  },
  {
   "cell_type": "code",
   "execution_count": 10,
   "metadata": {},
   "outputs": [],
   "source": [
    "Filename = Input_Type + ' ' + Input_Description + ' E' + str(E) + ' V' + str(Eta)\n",
    "np.savetxt('../data/StressStrain/'+Filename+'.csv', Data_Export, delimiter=',')"
   ]
  },
  {
   "cell_type": "markdown",
   "metadata": {},
   "source": [
    "Collecting te ideas above into a function, teh below is written. This is now present in the src code file as a callable function also."
   ]
  },
  {
   "cell_type": "code",
   "execution_count": 4,
   "metadata": {},
   "outputs": [],
   "source": [
    "def save_stress_strain(time, Strain_Array, Stress_Array, Folder_Path, Input_Type, Input_Description, E_Mods, Viscs):\n",
    "    \n",
    "    time = time.reshape(-1, 1)\n",
    "    Strain_Array = Strain_Array.reshape(-1, 1)\n",
    "    Stress_Array = Stress_Array.reshape(-1, 1)\n",
    "    \n",
    "    Data_Export = np.concatenate((time, Strain_Array, Stress_Array), axis=1)\n",
    "    \n",
    "    if not os.path.isdir(Folder_Path):\n",
    "        os.makedirs(Folder_Path)\n",
    "    \n",
    "    Filename = Input_Type + ' ' + Input_Description + ' E' + str(E_Mods) + ' V' + str(Viscs)\n",
    "    np.savetxt(Folder_Path+'/'+Filename+'.csv', Data_Export, delimiter=',')"
   ]
  },
  {
   "cell_type": "code",
   "execution_count": 5,
   "metadata": {},
   "outputs": [],
   "source": [
    "save_stress_strain(time, Strain_Array, Stress_Array, '../data/StressStrain', Input_Type, Input_Description, E, Eta)"
   ]
  },
  {
   "cell_type": "code",
   "execution_count": null,
   "metadata": {},
   "outputs": [],
   "source": []
  }
 ],
 "metadata": {
  "kernelspec": {
   "display_name": "Python 3",
   "language": "python",
   "name": "python3"
  },
  "language_info": {
   "codemirror_mode": {
    "name": "ipython",
    "version": 3
   },
   "file_extension": ".py",
   "mimetype": "text/x-python",
   "name": "python",
   "nbconvert_exporter": "python",
   "pygments_lexer": "ipython3",
   "version": "3.7.4"
  }
 },
 "nbformat": 4,
 "nbformat_minor": 4
}
