{
 "cells": [
  {
   "cell_type": "markdown",
   "metadata": {},
   "source": [
    "# PINN Style Investigations"
   ]
  },
  {
   "cell_type": "markdown",
   "metadata": {},
   "source": [
    "## Equation fully fixed. Only optimising the network. Loss includes PI"
   ]
  },
  {
   "cell_type": "code",
   "execution_count": 1,
   "metadata": {},
   "outputs": [
    {
     "name": "stderr",
     "output_type": "stream",
     "text": [
      "/opt/conda/lib/python3.6/site-packages/tensorboard/compat/tensorflow_stub/dtypes.py:541: FutureWarning: Passing (type, 1) or '1type' as a synonym of type is deprecated; in a future version of numpy, it will be understood as (type, (1,)) / '(1,)type'.\n",
      "  _np_qint8 = np.dtype([(\"qint8\", np.int8, 1)])\n",
      "/opt/conda/lib/python3.6/site-packages/tensorboard/compat/tensorflow_stub/dtypes.py:542: FutureWarning: Passing (type, 1) or '1type' as a synonym of type is deprecated; in a future version of numpy, it will be understood as (type, (1,)) / '(1,)type'.\n",
      "  _np_quint8 = np.dtype([(\"quint8\", np.uint8, 1)])\n",
      "/opt/conda/lib/python3.6/site-packages/tensorboard/compat/tensorflow_stub/dtypes.py:543: FutureWarning: Passing (type, 1) or '1type' as a synonym of type is deprecated; in a future version of numpy, it will be understood as (type, (1,)) / '(1,)type'.\n",
      "  _np_qint16 = np.dtype([(\"qint16\", np.int16, 1)])\n",
      "/opt/conda/lib/python3.6/site-packages/tensorboard/compat/tensorflow_stub/dtypes.py:544: FutureWarning: Passing (type, 1) or '1type' as a synonym of type is deprecated; in a future version of numpy, it will be understood as (type, (1,)) / '(1,)type'.\n",
      "  _np_quint16 = np.dtype([(\"quint16\", np.uint16, 1)])\n",
      "/opt/conda/lib/python3.6/site-packages/tensorboard/compat/tensorflow_stub/dtypes.py:545: FutureWarning: Passing (type, 1) or '1type' as a synonym of type is deprecated; in a future version of numpy, it will be understood as (type, (1,)) / '(1,)type'.\n",
      "  _np_qint32 = np.dtype([(\"qint32\", np.int32, 1)])\n",
      "/opt/conda/lib/python3.6/site-packages/tensorboard/compat/tensorflow_stub/dtypes.py:550: FutureWarning: Passing (type, 1) or '1type' as a synonym of type is deprecated; in a future version of numpy, it will be understood as (type, (1,)) / '(1,)type'.\n",
      "  np_resource = np.dtype([(\"resource\", np.ubyte, 1)])\n"
     ]
    }
   ],
   "source": [
    "import sys\n",
    "import numpy as np\n",
    "import matplotlib.pyplot as plt\n",
    "import torch\n",
    "\n",
    "sys.path.append('../src')\n",
    "from deepymod_torch.library_function import strain_input_library\n",
    "from deepymod_torch.DeepMod import DeepMoD_known_eq\n",
    "from deepymod_torch.VE_params import coeffs_from_model_params, model_params_from_coeffs"
   ]
  },
  {
   "cell_type": "markdown",
   "metadata": {},
   "source": [
    "No thresholding is done in thsi investigation. DeepMoD_PINN simply takes the diff_order to already arrive at teh correct equation (wrong coeffs) from the offset, and then trains around that. No attempt is made to remove terms, it is just a search to model the data with a NN, and find the rigth coeffs.\n",
    "\n",
    "Hoepfully it finds the correct coeffs\n",
    "\n",
    "if not, I guess we will test to see if\n",
    "\n",
    "- starting again always reproduces teh same constants\n",
    "\n",
    "- if teh system has converged or is still converging.\n",
    "\n",
    "- whether launching the training with the already trained NN to give it more time allows us to correct for the error."
   ]
  },
  {
   "cell_type": "code",
   "execution_count": 2,
   "metadata": {},
   "outputs": [],
   "source": [
    "Input_Type = 'Strain'\n",
    "Input_Function = lambda time_data: torch.sin(time_data)/time_data"
   ]
  },
  {
   "cell_type": "code",
   "execution_count": 3,
   "metadata": {},
   "outputs": [],
   "source": [
    "data = np.loadtxt('../data/StressStrain/Strain Sinc E[1, 10, 1] V[20, 20].csv', delimiter=',')\n",
    "time_Array, strain_array, Stress_Array = data[:3000,0:1], data[:3000,1:2], data[:3000,2:]"
   ]
  },
  {
   "cell_type": "code",
   "execution_count": 4,
   "metadata": {},
   "outputs": [
    {
     "data": {
      "image/png": "[encoded data removed]",
      "text/plain": [
       "<Figure size 432x288 with 2 Axes>"
      ]
     },
     "metadata": {
      "needs_background": "light"
     },
     "output_type": "display_data"
    }
   ],
   "source": [
    "fig, ax1 = plt.subplots()\n",
    "plt.title('Current prediction ability of network')\n",
    "ax1.set_xlabel('Time (s)')\n",
    "colour = 'blue'\n",
    "ax1.set_ylabel('Strain', color=colour)\n",
    "ax1.plot(time_Array, strain_array, color=colour, linestyle='None', marker='.', markersize=0.5)\n",
    "ax1.tick_params(axis='y', labelcolor=colour)\n",
    "ax2 = ax1.twinx()\n",
    "colour = 'red'\n",
    "ax2.set_ylabel('Stress', color=colour)\n",
    "ax2.plot(time_Array, Stress_Array, color=colour, linestyle='None', marker='.', markersize=0.5)\n",
    "ax2.tick_params(axis='y', labelcolor=colour)\n",
    "ax1.set_ylim(ax2.get_ylim())\n",
    "plt.show()"
   ]
  },
  {
   "cell_type": "code",
   "execution_count": 5,
   "metadata": {},
   "outputs": [],
   "source": [
    "noise_level = 0.05\n",
    "#noisy_stress_array = Stress_Array + noise_level * np.std(Stress_Array) * np.random.standard_normal(Stress_Array.shape)\n",
    "noisy_stress_array = Stress_Array"
   ]
  },
  {
   "cell_type": "code",
   "execution_count": 6,
   "metadata": {},
   "outputs": [],
   "source": [
    "number_of_samples = 1000\n",
    "\n",
    "reordered_row_indices = np.random.permutation(time_Array.size)\n",
    "reduced_time_array = time_Array[reordered_row_indices, :][:number_of_samples]\n",
    "reduced_stress_array = noisy_stress_array[reordered_row_indices, :][:number_of_samples]"
   ]
  },
  {
   "cell_type": "code",
   "execution_count": 7,
   "metadata": {},
   "outputs": [],
   "source": [
    "time_Tensor = torch.tensor(reduced_time_array, dtype=torch.float32, requires_grad=True)\n",
    "Stress_Tensor = torch.tensor(reduced_stress_array, dtype=torch.float32)"
   ]
  },
  {
   "cell_type": "markdown",
   "metadata": {},
   "source": [
    "no matter that lambda is unchanged, the function changes this itself to zero. This is already part of the default flow so i kept it in."
   ]
  },
  {
   "cell_type": "code",
   "execution_count": 8,
   "metadata": {},
   "outputs": [],
   "source": [
    "optim_config = {'lambda': 10**-5, 'max_iterations': 30001}"
   ]
  },
  {
   "cell_type": "code",
   "execution_count": 9,
   "metadata": {},
   "outputs": [],
   "source": [
    "network_config = {'input_dim': 1, 'hidden_dim': 50, 'layers': 4, 'output_dim': 1}"
   ]
  },
  {
   "cell_type": "code",
   "execution_count": 10,
   "metadata": {},
   "outputs": [],
   "source": [
    "lib_config = {'type': strain_input_library, 'diff_order': 3, 'coeff_sign': 'positive', 'input_type': Input_Type, 'input_expr': Input_Function}"
   ]
  },
  {
   "cell_type": "markdown",
   "metadata": {},
   "source": [
    "prediction of what we are aiming for"
   ]
  },
  {
   "cell_type": "code",
   "execution_count": 11,
   "metadata": {},
   "outputs": [
    {
     "data": {
      "text/plain": [
       "[0.045454545454545456,\n",
       " 1.8181818181818181,\n",
       " 0.09545454545454546,\n",
       " 1.1818181818181819,\n",
       " 1.8181818181818181]"
      ]
     },
     "execution_count": 11,
     "metadata": {},
     "output_type": "execute_result"
    }
   ],
   "source": [
    "not_floats = coeffs_from_model_params([1, 10, 1], [20, 20])\n",
    "float_coeffs = [float(x) for x in not_floats]\n",
    "float_coeffs"
   ]
  },
  {
   "cell_type": "markdown",
   "metadata": {},
   "source": [
    "This code block is important: It is here that I am fixing the coeffs. As I specified a `diff_order` of 3 above, I defined the equation, and then here I am defining the coeffs. Note of ofcourse I have put a coeff of 0 for the 3rd order derivatives. I want them to be calculated but they shouldn't appear in the equation."
   ]
  },
  {
   "cell_type": "code",
   "execution_count": 12,
   "metadata": {},
   "outputs": [
    {
     "data": {
      "text/plain": [
       "([tensor([[0.0455],\n",
       "          [1.8182],\n",
       "          [0.0000],\n",
       "          [0.0955],\n",
       "          [1.1818],\n",
       "          [1.8182],\n",
       "          [0.0000]])], [tensor([0, 1, 2, 3, 4, 5, 6])])"
      ]
     },
     "execution_count": 12,
     "metadata": {},
     "output_type": "execute_result"
    }
   ],
   "source": [
    "coeffs = float_coeffs[:2] + [0] + float_coeffs[2:] + [0]\n",
    "tuple_0 = [torch.tensor(coeffs).view(-1,1)]\n",
    "tuple_1 = [torch.arange(len(coeffs))]\n",
    "argcoeffs = (tuple_0, tuple_1)\n",
    "argcoeffs"
   ]
  },
  {
   "cell_type": "code",
   "execution_count": null,
   "metadata": {},
   "outputs": [
    {
     "data": {
      "image/png": "[encoded data removed]",
      "text/plain": [
       "<Figure size 432x288 with 2 Axes>"
      ]
     },
     "metadata": {},
     "output_type": "display_data"
    },
    {
     "name": "stdout",
     "output_type": "stream",
     "text": [
      "Epoch | Total loss | MSE | PI \n",
      "1200 7.6E-01 5.7E-01 1.9E-01\n",
      "tensor([[0.0455],\n",
      "        [1.8182],\n",
      "        [0.0000],\n",
      "        [0.0955],\n",
      "        [1.1818],\n",
      "        [1.8182],\n",
      "        [0.0000]])\n",
      "lrs are 0.001\n",
      "Time elapsed: 19.0 minutes 40.78724789619446 seconds\n"
     ]
    }
   ],
   "source": [
    "sparse_coeff_vector, sparsity_mask, network = DeepMoD_known_eq(time_Tensor, Stress_Tensor, network_config, lib_config, optim_config, argcoeffs)"
   ]
  },
  {
   "cell_type": "code",
   "execution_count": null,
   "metadata": {},
   "outputs": [],
   "source": [
    "prediction = network(time_Tensor)\n",
    "time_deriv_list, theta = library_function(time_Tensor, prediction, library_config)"
   ]
  },
  {
   "cell_type": "code",
   "execution_count": null,
   "metadata": {},
   "outputs": [],
   "source": [
    "plt.plot(time_Array, theta[:, 4], label='zeroth', color='red', linestyle='None', marker='.', markersize=1)\n",
    "plt.plot(time_Array, theta[:, 5], label='first', color='blue', linestyle='None', marker='.', markersize=1)\n",
    "plt.plot(time_Array, theta[:, 6], label='second', color='green', linestyle='None', marker='.', markersize=1)\n",
    "plt.plot(time_Array, theta[:, 7], label='third', color='black', linestyle='None', marker='.', markersize=1)\n",
    "plt.legend()"
   ]
  }
 ],
 "metadata": {
  "kernelspec": {
   "display_name": "Python 3",
   "language": "python",
   "name": "python3"
  },
  "language_info": {
   "codemirror_mode": {
    "name": "ipython",
    "version": 3
   },
   "file_extension": ".py",
   "mimetype": "text/x-python",
   "name": "python",
   "nbconvert_exporter": "python",
   "pygments_lexer": "ipython3",
   "version": "3.6.9"
  }
 },
 "nbformat": 4,
 "nbformat_minor": 4
}
