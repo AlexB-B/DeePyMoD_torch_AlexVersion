{
 "cells": [
  {
   "cell_type": "markdown",
   "metadata": {},
   "source": [
    "# PINN Style Investigations"
   ]
  },
  {
   "cell_type": "markdown",
   "metadata": {},
   "source": [
    "## Optmises the equation coeffs only using target and reference data. No NN. "
   ]
  },
  {
   "cell_type": "code",
   "execution_count": 1,
   "metadata": {},
   "outputs": [
    {
     "name": "stderr",
     "output_type": "stream",
     "text": [
      "/opt/conda/lib/python3.6/site-packages/tensorboard/compat/tensorflow_stub/dtypes.py:541: FutureWarning: Passing (type, 1) or '1type' as a synonym of type is deprecated; in a future version of numpy, it will be understood as (type, (1,)) / '(1,)type'.\n",
      "  _np_qint8 = np.dtype([(\"qint8\", np.int8, 1)])\n",
      "/opt/conda/lib/python3.6/site-packages/tensorboard/compat/tensorflow_stub/dtypes.py:542: FutureWarning: Passing (type, 1) or '1type' as a synonym of type is deprecated; in a future version of numpy, it will be understood as (type, (1,)) / '(1,)type'.\n",
      "  _np_quint8 = np.dtype([(\"quint8\", np.uint8, 1)])\n",
      "/opt/conda/lib/python3.6/site-packages/tensorboard/compat/tensorflow_stub/dtypes.py:543: FutureWarning: Passing (type, 1) or '1type' as a synonym of type is deprecated; in a future version of numpy, it will be understood as (type, (1,)) / '(1,)type'.\n",
      "  _np_qint16 = np.dtype([(\"qint16\", np.int16, 1)])\n",
      "/opt/conda/lib/python3.6/site-packages/tensorboard/compat/tensorflow_stub/dtypes.py:544: FutureWarning: Passing (type, 1) or '1type' as a synonym of type is deprecated; in a future version of numpy, it will be understood as (type, (1,)) / '(1,)type'.\n",
      "  _np_quint16 = np.dtype([(\"quint16\", np.uint16, 1)])\n",
      "/opt/conda/lib/python3.6/site-packages/tensorboard/compat/tensorflow_stub/dtypes.py:545: FutureWarning: Passing (type, 1) or '1type' as a synonym of type is deprecated; in a future version of numpy, it will be understood as (type, (1,)) / '(1,)type'.\n",
      "  _np_qint32 = np.dtype([(\"qint32\", np.int32, 1)])\n",
      "/opt/conda/lib/python3.6/site-packages/tensorboard/compat/tensorflow_stub/dtypes.py:550: FutureWarning: Passing (type, 1) or '1type' as a synonym of type is deprecated; in a future version of numpy, it will be understood as (type, (1,)) / '(1,)type'.\n",
      "  np_resource = np.dtype([(\"resource\", np.ubyte, 1)])\n"
     ]
    }
   ],
   "source": [
    "import sys\n",
    "import numpy as np\n",
    "import matplotlib.pyplot as plt\n",
    "import torch\n",
    "\n",
    "sys.path.append('../src')\n",
    "from deepymod_torch.library_function import mech_library_least_squares\n",
    "from deepymod_torch.DeepMod import DeepMoD_least_squares\n",
    "from deepymod_torch.VE_params import coeffs_from_model_params, model_params_from_coeffs"
   ]
  },
  {
   "cell_type": "code",
   "execution_count": 2,
   "metadata": {},
   "outputs": [],
   "source": [
    "Input_Type = 'Strain'\n",
    "Input_Function = lambda time_data: torch.sin(time_data)/time_data"
   ]
  },
  {
   "cell_type": "code",
   "execution_count": 3,
   "metadata": {},
   "outputs": [],
   "source": [
    "data = np.loadtxt('../data/StressStrain/Strain Sinc E[1, 10, 1] V[20, 20].csv', delimiter=',')\n",
    "time_Array, strain_array, Stress_Array = data[:,0:1], data[:,1:2], data[:,2:]"
   ]
  },
  {
   "cell_type": "code",
   "execution_count": 4,
   "metadata": {},
   "outputs": [
    {
     "data": {
      "image/png": "[encoded data removed]",
      "text/plain": [
       "<Figure size 432x288 with 2 Axes>"
      ]
     },
     "metadata": {
      "needs_background": "light"
     },
     "output_type": "display_data"
    }
   ],
   "source": [
    "fig, ax1 = plt.subplots()\n",
    "plt.title('Current prediction ability of network')\n",
    "ax1.set_xlabel('Time (s)')\n",
    "colour = 'blue'\n",
    "ax1.set_ylabel('Strain', color=colour)\n",
    "ax1.plot(time_Array, strain_array, color=colour, linestyle='None', marker='.', markersize=0.5)\n",
    "ax1.tick_params(axis='y', labelcolor=colour)\n",
    "ax2 = ax1.twinx()\n",
    "colour = 'red'\n",
    "ax2.set_ylabel('Stress', color=colour)\n",
    "ax2.plot(time_Array, Stress_Array, color=colour, linestyle='None', marker='.', markersize=0.5)\n",
    "ax2.tick_params(axis='y', labelcolor=colour)\n",
    "ax1.set_ylim(ax2.get_ylim())\n",
    "plt.show()"
   ]
  },
  {
   "cell_type": "code",
   "execution_count": 5,
   "metadata": {},
   "outputs": [],
   "source": [
    "noise_level = 0.05\n",
    "#noisy_stress_array = Stress_Array + noise_level * np.std(Stress_Array) * np.random.standard_normal(Stress_Array.shape)\n",
    "noisy_stress_array = Stress_Array"
   ]
  },
  {
   "cell_type": "code",
   "execution_count": 6,
   "metadata": {},
   "outputs": [],
   "source": [
    "number_of_samples = 1000\n",
    "\n",
    "reordered_row_indices = np.random.permutation(time_Array.size)\n",
    "#reduced_time_array = time_Array[reordered_row_indices, :][:number_of_samples]\n",
    "#reduced_stress_array = noisy_stress_array[reordered_row_indices, :][:number_of_samples]\n",
    "reduced_time_array = time_Array\n",
    "reduced_stress_array = noisy_stress_array"
   ]
  },
  {
   "cell_type": "code",
   "execution_count": 7,
   "metadata": {},
   "outputs": [],
   "source": [
    "time_Tensor = torch.tensor(reduced_time_array, dtype=torch.float32, requires_grad=True)\n",
    "Stress_Tensor = torch.tensor(reduced_stress_array, dtype=torch.float32)"
   ]
  },
  {
   "cell_type": "markdown",
   "metadata": {},
   "source": [
    "no matter that lambda is unchanged, the function changes this itself to zero. This is already part of the default flow so i kept it in."
   ]
  },
  {
   "cell_type": "code",
   "execution_count": 8,
   "metadata": {},
   "outputs": [],
   "source": [
    "optim_config = {'lambda': 10**-5, 'max_iterations': 50001}"
   ]
  },
  {
   "cell_type": "code",
   "execution_count": 9,
   "metadata": {},
   "outputs": [],
   "source": [
    "lib_config = {'type': mech_library_least_squares, 'diff_order': 2, 'coeff_sign': 'positive', 'input_type': Input_Type, 'input_expr': Input_Function}"
   ]
  },
  {
   "cell_type": "markdown",
   "metadata": {},
   "source": [
    "prediction of what we are aiming for"
   ]
  },
  {
   "cell_type": "code",
   "execution_count": 10,
   "metadata": {},
   "outputs": [
    {
     "data": {
      "text/plain": [
       "[0.045454545454545456,\n",
       " 1.8181818181818181,\n",
       " 0.09545454545454546,\n",
       " 1.1818181818181819,\n",
       " 1.8181818181818181]"
      ]
     },
     "execution_count": 10,
     "metadata": {},
     "output_type": "execute_result"
    }
   ],
   "source": [
    "not_floats = coeffs_from_model_params([1, 10, 1], [20, 20])\n",
    "float_coeffs = [float(x) for x in not_floats]\n",
    "float_coeffs"
   ]
  },
  {
   "cell_type": "code",
   "execution_count": 11,
   "metadata": {},
   "outputs": [
    {
     "name": "stdout",
     "output_type": "stream",
     "text": [
      "Epoch | PI loss \n",
      "0 7.4E-01\n",
      "tensor([[1.5245],\n",
      "        [0.3158],\n",
      "        [0.4494],\n",
      "        [0.8504],\n",
      "        [0.3599]], requires_grad=True)\n",
      "Time elapsed: 0.0 minutes 0.026807546615600586 seconds\n",
      "Epoch | PI loss \n",
      "5000 3.4E-04\n",
      "tensor([[0.5520],\n",
      "        [2.1121],\n",
      "        [0.0630],\n",
      "        [0.1236],\n",
      "        [0.1804]], requires_grad=True)\n",
      "Time elapsed: 0.0 minutes 8.900922060012817 seconds\n",
      "Epoch | PI loss \n",
      "10000 1.6E-05\n",
      "tensor([[0.0491],\n",
      "        [1.8632],\n",
      "        [0.0352],\n",
      "        [0.1499],\n",
      "        [0.1563]], requires_grad=True)\n",
      "Time elapsed: 0.0 minutes 17.118973970413208 seconds\n",
      "Epoch | PI loss \n",
      "15000 2.5E-06\n",
      "tensor([[0.0555],\n",
      "        [0.6222],\n",
      "        [0.0384],\n",
      "        [0.1061],\n",
      "        [0.0520]], requires_grad=True)\n",
      "Time elapsed: 0.0 minutes 25.67532730102539 seconds\n",
      "Epoch | PI loss \n",
      "20000 8.6E-07\n",
      "tensor([[0.0585],\n",
      "        [0.0319],\n",
      "        [0.0400],\n",
      "        [0.0853],\n",
      "        [0.0024]], requires_grad=True)\n",
      "Time elapsed: 0.0 minutes 34.20154929161072 seconds\n",
      "Epoch | PI loss \n",
      "25000 8.4E-07\n",
      "tensor([[0.0586],\n",
      "        [0.0088],\n",
      "        [0.0401],\n",
      "        [0.0845],\n",
      "        [0.0005]], requires_grad=True)\n",
      "Time elapsed: 0.0 minutes 43.32856273651123 seconds\n",
      "Epoch | PI loss \n",
      "30000 8.4E-07\n",
      "tensor([[0.0587],\n",
      "        [0.0079],\n",
      "        [0.0401],\n",
      "        [0.0845],\n",
      "        [0.0004]], requires_grad=True)\n",
      "Time elapsed: 0.0 minutes 51.767143964767456 seconds\n",
      "Epoch | PI loss \n",
      "35000 8.4E-07\n",
      "tensor([[0.0587],\n",
      "        [0.0079],\n",
      "        [0.0401],\n",
      "        [0.0845],\n",
      "        [0.0004]], requires_grad=True)\n",
      "Time elapsed: 1.0 minutes 0.6828756332397461 seconds\n",
      "Epoch | PI loss \n",
      "40000 8.4E-07\n",
      "tensor([[0.0587],\n",
      "        [0.0079],\n",
      "        [0.0401],\n",
      "        [0.0845],\n",
      "        [0.0004]], requires_grad=True)\n",
      "Time elapsed: 1.0 minutes 8.461183071136475 seconds\n",
      "Epoch | PI loss \n",
      "45000 8.4E-07\n",
      "tensor([[0.0587],\n",
      "        [0.0079],\n",
      "        [0.0401],\n",
      "        [0.0845],\n",
      "        [0.0004]], requires_grad=True)\n",
      "Time elapsed: 1.0 minutes 16.08566951751709 seconds\n",
      "Epoch | PI loss \n",
      "50000 8.4E-07\n",
      "tensor([[0.0587],\n",
      "        [0.0079],\n",
      "        [0.0401],\n",
      "        [0.0845],\n",
      "        [0.0004]], requires_grad=True)\n",
      "Time elapsed: 1.0 minutes 24.084245443344116 seconds\n"
     ]
    }
   ],
   "source": [
    "sparse_coeff_vector, sparsity_mask = DeepMoD_least_squares(time_Tensor, Stress_Tensor, lib_config, optim_config)"
   ]
  },
  {
   "cell_type": "code",
   "execution_count": 12,
   "metadata": {},
   "outputs": [
    {
     "data": {
      "text/plain": [
       "tensor(0.0587, grad_fn=<SelectBackward>)"
      ]
     },
     "execution_count": 12,
     "metadata": {},
     "output_type": "execute_result"
    }
   ],
   "source": [
    "sparse_coeff_vector[0][0, 0]"
   ]
  },
  {
   "cell_type": "code",
   "execution_count": 13,
   "metadata": {},
   "outputs": [
    {
     "data": {
      "text/plain": [
       "([(18.9832933999502,\n",
       "   31.7187234695643,\n",
       "   1.66897748323285,\n",
       "   0.249768614380987,\n",
       "   28.4431244025140)],\n",
       " [E_0, E_1, E_2, eta_1, eta_2])"
      ]
     },
     "execution_count": 13,
     "metadata": {},
     "output_type": "execute_result"
    }
   ],
   "source": [
    "Model_Params = model_params_from_coeffs(sparse_coeff_vector[0].detach())\n",
    "Model_Params"
   ]
  },
  {
   "cell_type": "code",
   "execution_count": 14,
   "metadata": {},
   "outputs": [],
   "source": [
    "import sympy as sym\n",
    "\n",
    "sys.path.append('../')\n",
    "import data.Generation.VE_DataGen_Functions as vedg"
   ]
  },
  {
   "cell_type": "code",
   "execution_count": 15,
   "metadata": {},
   "outputs": [],
   "source": [
    "Input_Type = 'Strain'\n",
    "E = list(Model_Params[0][0][:3])\n",
    "eta = list(Model_Params[0][0][3:])\n",
    "t = sym.symbols('t', real=True)\n",
    "Input_Function = sym.sinc(t)\n",
    "Input_Description = 'Sinc'\n",
    "Int_Type = 'Numerical'"
   ]
  },
  {
   "cell_type": "code",
   "execution_count": 16,
   "metadata": {},
   "outputs": [
    {
     "data": {
      "text/plain": [
       "(18.9832933999502 + 31.7187234695643*exp(-126.99243076707*t) + 1.66897748323285*exp(-0.0586777127440095*t),\n",
       " <function data.Generation.VE_DataGen_Functions.Stress_Strain_Master_Int.<locals>.<lambda>(t)>)"
      ]
     },
     "execution_count": 16,
     "metadata": {},
     "output_type": "execute_result"
    }
   ],
   "source": [
    "Tuple_of_Expressions = vedg.Stress_Strain_Master_Int(Input_Type, E, eta, Input_Function, Int_Type, t)\n",
    "Tuple_of_Expressions"
   ]
  },
  {
   "cell_type": "code",
   "execution_count": 17,
   "metadata": {},
   "outputs": [
    {
     "data": {
      "image/png": "[encoded data removed]",
      "text/plain": [
       "<Figure size 432x288 with 2 Axes>"
      ]
     },
     "metadata": {
      "needs_background": "light"
     },
     "output_type": "display_data"
    }
   ],
   "source": [
    "time = np.linspace(0.001, 50, 5000)\n",
    "\n",
    "title = ('Input: ' + Input_Description + ', ' + Input_Type + \n",
    "         '.\\nModel: E Mods ' + str(E) + ', Viscs ' + str(eta))\n",
    "\n",
    "result_strain_array, result_stress_array = vedg.Eval_Graph_Strain_Stress(title, time, Input_Function, Tuple_of_Expressions, Input_Type, Int_Type, t)"
   ]
  },
  {
   "cell_type": "code",
   "execution_count": 19,
   "metadata": {},
   "outputs": [
    {
     "data": {
      "text/plain": [
       "<matplotlib.legend.Legend at 0x7f98f893c358>"
      ]
     },
     "execution_count": 19,
     "metadata": {},
     "output_type": "execute_result"
    },
    {
     "data": {
      "image/png": "[encoded data removed]",
      "text/plain": [
       "<Figure size 432x288 with 1 Axes>"
      ]
     },
     "metadata": {
      "needs_background": "light"
     },
     "output_type": "display_data"
    }
   ],
   "source": [
    "plt.plot(time, result_stress_array, label='result')\n",
    "plt.plot(time, Stress_Array, label='input')\n",
    "plt.legend()"
   ]
  },
  {
   "cell_type": "code",
   "execution_count": 20,
   "metadata": {},
   "outputs": [],
   "source": [
    "time_deriv_list, theta = mech_library_least_squares(time_Tensor, Stress_Tensor, lib_config)"
   ]
  },
  {
   "cell_type": "code",
   "execution_count": 21,
   "metadata": {},
   "outputs": [
    {
     "data": {
      "text/plain": [
       "array([[-0.00036621],\n",
       "       [-0.00366974],\n",
       "       [-0.00699997],\n",
       "       ...,\n",
       "       [ 0.01931092],\n",
       "       [ 0.01935857],\n",
       "       [ 0.01940427]], dtype=float32)"
      ]
     },
     "execution_count": 21,
     "metadata": {},
     "output_type": "execute_result"
    }
   ],
   "source": [
    "b = time_deriv_list[0].detach().numpy()\n",
    "b"
   ]
  },
  {
   "cell_type": "code",
   "execution_count": 22,
   "metadata": {},
   "outputs": [
    {
     "data": {
      "text/plain": [
       "array([[-9.9999988e-01,  1.2500000e-01,  1.1994949e+01, -5.0589991e+00,\n",
       "        -7.4668795e-01],\n",
       "       [-9.9997985e-01,  3.3398438e-01,  1.1944350e+01, -5.0664673e+00,\n",
       "        -1.1178284e+00],\n",
       "       [-9.9992651e-01,  3.3349609e-01,  1.1893602e+01, -5.0813599e+00,\n",
       "        -1.4889984e+00],\n",
       "       ...,\n",
       "       [ 5.6347451e-03, -4.8619998e-03,  1.5683578e-02,  2.1596420e-01,\n",
       "        -3.1041145e-02],\n",
       "       [ 5.4413541e-03, -4.6668560e-03,  1.7842129e-02,  2.1564299e-01,\n",
       "        -2.4350166e-02],\n",
       "       [ 5.2474970e-03, -4.4713253e-03,  1.9997360e-02,  2.1547709e-01,\n",
       "        -1.6585920e-02]], dtype=float32)"
      ]
     },
     "execution_count": 22,
     "metadata": {},
     "output_type": "execute_result"
    }
   ],
   "source": [
    "a = theta.detach().numpy()\n",
    "a"
   ]
  },
  {
   "cell_type": "code",
   "execution_count": 23,
   "metadata": {},
   "outputs": [
    {
     "data": {
      "text/plain": [
       "array([[0.05865061],\n",
       "       [0.00787085],\n",
       "       [0.04008032],\n",
       "       [0.08446718],\n",
       "       [0.00041462]], dtype=float32)"
      ]
     },
     "execution_count": 23,
     "metadata": {},
     "output_type": "execute_result"
    }
   ],
   "source": [
    "x = sparse_coeff_vector[0].detach().numpy()\n",
    "x"
   ]
  },
  {
   "cell_type": "code",
   "execution_count": 24,
   "metadata": {},
   "outputs": [
    {
     "data": {
      "text/plain": [
       "[<matplotlib.lines.Line2D at 0x7f98f898e668>]"
      ]
     },
     "execution_count": 24,
     "metadata": {},
     "output_type": "execute_result"
    },
    {
     "data": {
      "image/png": "[encoded data removed]",
      "text/plain": [
       "<Figure size 432x288 with 1 Axes>"
      ]
     },
     "metadata": {
      "needs_background": "light"
     },
     "output_type": "display_data"
    }
   ],
   "source": [
    "plt.plot(b)\n",
    "plt.plot(a @ x, '--')"
   ]
  },
  {
   "cell_type": "code",
   "execution_count": 26,
   "metadata": {},
   "outputs": [],
   "source": [
    "np.savetxt('../data/StressStrain'+'/'+'DM_Style_50'+'.csv', b, delimiter=',')"
   ]
  },
  {
   "cell_type": "code",
   "execution_count": null,
   "metadata": {},
   "outputs": [],
   "source": []
  }
 ],
 "metadata": {
  "kernelspec": {
   "display_name": "Python 3",
   "language": "python",
   "name": "python3"
  },
  "language_info": {
   "codemirror_mode": {
    "name": "ipython",
    "version": 3
   },
   "file_extension": ".py",
   "mimetype": "text/x-python",
   "name": "python",
   "nbconvert_exporter": "python",
   "pygments_lexer": "ipython3",
   "version": "3.6.9"
  }
 },
 "nbformat": 4,
 "nbformat_minor": 4
}
