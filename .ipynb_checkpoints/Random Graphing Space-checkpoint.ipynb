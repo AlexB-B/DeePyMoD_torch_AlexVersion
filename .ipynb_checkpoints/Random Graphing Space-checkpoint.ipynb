{
 "cells": [
  {
   "cell_type": "code",
   "execution_count": null,
   "metadata": {},
   "outputs": [],
   "source": [
    "import matplotlib.pyplot as plt\n",
    "import sympy as sym\n",
    "import math\n",
    "import numpy as np\n",
    "from IPython import display\n",
    "import time"
   ]
  },
  {
   "cell_type": "code",
   "execution_count": null,
   "metadata": {},
   "outputs": [],
   "source": [
    "# This is a function I have stolen from Pietro Battiston's answer at\n",
    "# https://stackoverflow.com/questions/10481990/matplotlib-axis-with-two-scales-shared-origin\n",
    "def align_yaxis(ax1, ax2):\n",
    "    \"\"\"Align zeros of the two axes, zooming them out by same ratio\"\"\"\n",
    "    axes = (ax1, ax2)\n",
    "    extrema = [ax.get_ylim() for ax in axes]\n",
    "    tops = [extr[1] / (extr[1] - extr[0]) for extr in extrema]\n",
    "    # Ensure that plots (intervals) are ordered bottom to top:\n",
    "    if tops[0] > tops[1]:\n",
    "        axes, extrema, tops = [list(reversed(l)) for l in (axes, extrema, tops)]\n",
    "\n",
    "    # How much would the plot overflow if we kept current zoom levels?\n",
    "    tot_span = tops[1] + 1 - tops[0]\n",
    "\n",
    "    b_new_t = extrema[0][0] + tot_span * (extrema[0][1] - extrema[0][0])\n",
    "    t_new_b = extrema[1][1] - tot_span * (extrema[1][1] - extrema[1][0])\n",
    "    axes[0].set_ylim(extrema[0][0], b_new_t)\n",
    "    axes[1].set_ylim(t_new_b, extrema[1][1])"
   ]
  },
  {
   "cell_type": "code",
   "execution_count": null,
   "metadata": {},
   "outputs": [],
   "source": [
    "x = np.linspace(0, 50, 5000)\n",
    "sin_creator = lambda k: lambda x: np.sin(k*x)\n",
    "y_1 = sin_creator(3)\n",
    "y_2 = sin_creator(1)\n",
    "y_3 = sin_creator(0.1)\n",
    "y = lambda x: 2*y_1(x)\n",
    "z = lambda x: y_2(x)\n",
    "a = lambda x: y_3(x)"
   ]
  },
  {
   "cell_type": "code",
   "execution_count": null,
   "metadata": {},
   "outputs": [],
   "source": [
    "fig, ax1 = plt.subplots()\n",
    "\n",
    "plt.title('title')\n",
    "ax1.set_xlabel('x')\n",
    "\n",
    "#Set up Strain on first axis\n",
    "colour = 'tab:blue'\n",
    "ax1.set_ylabel('y_1', color=colour)\n",
    "ax1.plot(x, y(x), color=colour)\n",
    "ax1.tick_params(axis='y', labelcolor=colour)\n",
    "\n",
    "#Create Second axis. twinx means that the new axes share the same x axis. twiny also exists.\n",
    "ax2 = ax1.twinx()\n",
    "\n",
    "#Set up Stress on second axis\n",
    "colour = 'tab:red'\n",
    "ax2.set_ylabel('y_2', color=colour)  # we already handled the x-label with ax1\n",
    "ax2.plot(x, z(x), color=colour)\n",
    "ax2.tick_params(axis='y', labelcolor=colour)\n",
    "ax2.set_ylim(ax1.get_ylim())\n",
    "\n",
    "#align_yaxis(ax1, ax2) # Function not of my design.\n",
    "\n",
    "fig.tight_layout()  # otherwise the right y-label is slightly clipped"
   ]
  },
  {
   "cell_type": "markdown",
   "metadata": {},
   "source": [
    "if statically displaying a plot (sometimes not necessary.....?)"
   ]
  },
  {
   "cell_type": "code",
   "execution_count": null,
   "metadata": {},
   "outputs": [],
   "source": [
    "plt.show()"
   ]
  },
  {
   "cell_type": "markdown",
   "metadata": {},
   "source": [
    "if dynamically updating"
   ]
  },
  {
   "cell_type": "code",
   "execution_count": null,
   "metadata": {},
   "outputs": [],
   "source": [
    "display.display(plt.gcf())"
   ]
  },
  {
   "cell_type": "markdown",
   "metadata": {},
   "source": [
    "then, to update (would have to be in same code block)"
   ]
  },
  {
   "cell_type": "code",
   "execution_count": null,
   "metadata": {},
   "outputs": [],
   "source": [
    "display.clear_output(wait=True)\n",
    "ax2.clear()\n",
    "\n",
    "colour = 'tab:red'\n",
    "ax2.set_ylabel('y_2', color='tab:red')  # we already handled the x-label with ax1\n",
    "ax2.plot(x, a(x), color='tab:red')\n",
    "# next line seems to have issues but should work.....\n",
    "#align_yaxis(ax1, ax2) # Function not of my design.\n",
    "\n",
    "display.display(plt.gcf())"
   ]
  }
 ],
 "metadata": {
  "kernelspec": {
   "display_name": "Python 3",
   "language": "python",
   "name": "python3"
  },
  "language_info": {
   "codemirror_mode": {
    "name": "ipython",
    "version": 3
   },
   "file_extension": ".py",
   "mimetype": "text/x-python",
   "name": "python",
   "nbconvert_exporter": "python",
   "pygments_lexer": "ipython3",
   "version": "3.6.9"
  }
 },
 "nbformat": 4,
 "nbformat_minor": 4
}
