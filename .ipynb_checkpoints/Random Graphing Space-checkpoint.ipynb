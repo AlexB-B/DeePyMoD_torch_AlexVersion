{
 "cells": [
  {
   "cell_type": "code",
   "execution_count": 1,
   "metadata": {},
   "outputs": [],
   "source": [
    "import matplotlib.pyplot as plt\n",
    "plt.style.use('ggplot')\n",
    "import sympy as sym\n",
    "import math\n",
    "import numpy as np\n",
    "from IPython import display\n",
    "import time\n",
    "from scipy import integrate as integ\n",
    "import sys\n",
    "import time\n",
    "\n",
    "sys.path.append('src')\n",
    "import deepymod_torch.VE_datagen as VE_datagen"
   ]
  },
  {
   "cell_type": "code",
   "execution_count": 2,
   "metadata": {},
   "outputs": [],
   "source": [
    "# This is a function I have stolen from Pietro Battiston's answer at\n",
    "# https://stackoverflow.com/questions/10481990/matplotlib-axis-with-two-scales-shared-origin\n",
    "def align_yaxis(ax1, ax2):\n",
    "    \"\"\"Align zeros of the two axes, zooming them out by same ratio\"\"\"\n",
    "    axes = (ax1, ax2)\n",
    "    extrema = [ax.get_ylim() for ax in axes]\n",
    "    tops = [extr[1] / (extr[1] - extr[0]) for extr in extrema]\n",
    "    # Ensure that plots (intervals) are ordered bottom to top:\n",
    "    if tops[0] > tops[1]:\n",
    "        axes, extrema, tops = [list(reversed(l)) for l in (axes, extrema, tops)]\n",
    "\n",
    "    # How much would the plot overflow if we kept current zoom levels?\n",
    "    tot_span = tops[1] + 1 - tops[0]\n",
    "\n",
    "    b_new_t = extrema[0][0] + tot_span * (extrema[0][1] - extrema[0][0])\n",
    "    t_new_b = extrema[1][1] - tot_span * (extrema[1][1] - extrema[1][0])\n",
    "    axes[0].set_ylim(extrema[0][0], b_new_t)\n",
    "    axes[1].set_ylim(t_new_b, extrema[1][1])"
   ]
  },
  {
   "cell_type": "code",
   "execution_count": 6,
   "metadata": {},
   "outputs": [],
   "source": [
    "x_1 = np.linspace(-10, 10, 5000)\n",
    "sin_creator = lambda k: lambda x: np.sin(k*x)\n",
    "\n",
    "sinc_creator = lambda k: lambda x: np.sin(k*x)/(k*x)\n",
    "d_sinc_creator = lambda k: lambda x: (1/x)*(np.cos(k*x) - np.sin(k*x)/(k*x))\n",
    "d_d_sinc_creator = lambda k: lambda x: (-1/x)*(2*np.cos(k*x) + np.sin(k*x)*(k - 2/(k*x)))\n",
    "\n",
    "pseudo_sinc_creator = lambda k: lambda x: np.sin(k*x)/x\n",
    "d_pseudo_sinc_creator = lambda k: lambda x: (1/x)*(k*np.cos(k*x) - np.sin(k*x)/x)\n",
    "d_d_pseudo_sinc_creator = lambda k: lambda x: (-1/x)*(2*k*np.cos(k*x)/x + np.sin(k*x)*(k**2 - 2/(x**2)))\n",
    "\n",
    "y_1 = d_d_sinc_creator(1)\n",
    "y_2 = d_d_sinc_creator(5)\n",
    "y_3 = d_d_sinc_creator(10)\n",
    "y = lambda x: result_lambda(x)\n",
    "z = lambda x: integral_lambda(x)\n",
    "a = lambda x: input_expr(x)"
   ]
  },
  {
   "cell_type": "code",
   "execution_count": 17,
   "metadata": {},
   "outputs": [
    {
     "ename": "NameError",
     "evalue": "name 'result_lambda' is not defined",
     "output_type": "error",
     "traceback": [
      "\u001b[0;31m---------------------------------------------------------------------------\u001b[0m",
      "\u001b[0;31mNameError\u001b[0m                                 Traceback (most recent call last)",
      "\u001b[0;32m<ipython-input-17-e8f33e189de6>\u001b[0m in \u001b[0;36m<module>\u001b[0;34m\u001b[0m\n\u001b[1;32m      7\u001b[0m \u001b[0mcolour\u001b[0m \u001b[0;34m=\u001b[0m \u001b[0;34m'tab:blue'\u001b[0m\u001b[0;34m\u001b[0m\u001b[0;34m\u001b[0m\u001b[0m\n\u001b[1;32m      8\u001b[0m \u001b[0max1\u001b[0m\u001b[0;34m.\u001b[0m\u001b[0mset_ylabel\u001b[0m\u001b[0;34m(\u001b[0m\u001b[0;34m'y_1'\u001b[0m\u001b[0;34m,\u001b[0m \u001b[0mcolor\u001b[0m\u001b[0;34m=\u001b[0m\u001b[0mcolour\u001b[0m\u001b[0;34m)\u001b[0m\u001b[0;34m\u001b[0m\u001b[0;34m\u001b[0m\u001b[0m\n\u001b[0;32m----> 9\u001b[0;31m \u001b[0max1\u001b[0m\u001b[0;34m.\u001b[0m\u001b[0mplot\u001b[0m\u001b[0;34m(\u001b[0m\u001b[0mx\u001b[0m\u001b[0;34m,\u001b[0m \u001b[0my\u001b[0m\u001b[0;34m(\u001b[0m\u001b[0mx\u001b[0m\u001b[0;34m)\u001b[0m\u001b[0;34m,\u001b[0m \u001b[0mcolor\u001b[0m\u001b[0;34m=\u001b[0m\u001b[0mcolour\u001b[0m\u001b[0;34m)\u001b[0m\u001b[0;34m\u001b[0m\u001b[0;34m\u001b[0m\u001b[0m\n\u001b[0m\u001b[1;32m     10\u001b[0m \u001b[0max1\u001b[0m\u001b[0;34m.\u001b[0m\u001b[0mtick_params\u001b[0m\u001b[0;34m(\u001b[0m\u001b[0maxis\u001b[0m\u001b[0;34m=\u001b[0m\u001b[0;34m'y'\u001b[0m\u001b[0;34m,\u001b[0m \u001b[0mlabelcolor\u001b[0m\u001b[0;34m=\u001b[0m\u001b[0mcolour\u001b[0m\u001b[0;34m)\u001b[0m\u001b[0;34m\u001b[0m\u001b[0;34m\u001b[0m\u001b[0m\n\u001b[1;32m     11\u001b[0m \u001b[0;34m\u001b[0m\u001b[0m\n",
      "\u001b[0;32m<ipython-input-13-84ad193d6e32>\u001b[0m in \u001b[0;36m<lambda>\u001b[0;34m(x)\u001b[0m\n\u001b[1;32m     33\u001b[0m \u001b[0my_2\u001b[0m \u001b[0;34m=\u001b[0m \u001b[0md_d_sinc_creator\u001b[0m\u001b[0;34m(\u001b[0m\u001b[0;36m5\u001b[0m\u001b[0;34m)\u001b[0m\u001b[0;34m\u001b[0m\u001b[0;34m\u001b[0m\u001b[0m\n\u001b[1;32m     34\u001b[0m \u001b[0my_3\u001b[0m \u001b[0;34m=\u001b[0m \u001b[0md_d_sinc_creator\u001b[0m\u001b[0;34m(\u001b[0m\u001b[0;36m10\u001b[0m\u001b[0;34m)\u001b[0m\u001b[0;34m\u001b[0m\u001b[0;34m\u001b[0m\u001b[0m\n\u001b[0;32m---> 35\u001b[0;31m \u001b[0my\u001b[0m \u001b[0;34m=\u001b[0m \u001b[0;32mlambda\u001b[0m \u001b[0mx\u001b[0m\u001b[0;34m:\u001b[0m \u001b[0mresult_lambda\u001b[0m\u001b[0;34m(\u001b[0m\u001b[0mx\u001b[0m\u001b[0;34m)\u001b[0m\u001b[0;34m\u001b[0m\u001b[0;34m\u001b[0m\u001b[0m\n\u001b[0m\u001b[1;32m     36\u001b[0m \u001b[0mz\u001b[0m \u001b[0;34m=\u001b[0m \u001b[0;32mlambda\u001b[0m \u001b[0mx\u001b[0m\u001b[0;34m:\u001b[0m \u001b[0mintegral_lambda\u001b[0m\u001b[0;34m(\u001b[0m\u001b[0mx\u001b[0m\u001b[0;34m)\u001b[0m\u001b[0;34m\u001b[0m\u001b[0;34m\u001b[0m\u001b[0m\n\u001b[1;32m     37\u001b[0m \u001b[0ma\u001b[0m \u001b[0;34m=\u001b[0m \u001b[0;32mlambda\u001b[0m \u001b[0mx\u001b[0m\u001b[0;34m:\u001b[0m \u001b[0minput_expr\u001b[0m\u001b[0;34m(\u001b[0m\u001b[0mx\u001b[0m\u001b[0;34m)\u001b[0m\u001b[0;34m\u001b[0m\u001b[0;34m\u001b[0m\u001b[0m\n",
      "\u001b[0;31mNameError\u001b[0m: name 'result_lambda' is not defined"
     ]
    },
    {
     "data": {
      "image/png": "[encoded data removed]",
      "text/plain": [
       "<Figure size 432x288 with 1 Axes>"
      ]
     },
     "metadata": {
      "needs_background": "light"
     },
     "output_type": "display_data"
    }
   ],
   "source": [
    "fig, ax1 = plt.subplots()\n",
    "\n",
    "plt.title('title')\n",
    "ax1.set_xlabel('x')\n",
    "\n",
    "#Set up Strain on first axis\n",
    "colour = 'tab:blue'\n",
    "ax1.set_ylabel('y_1', color=colour)\n",
    "ax1.plot(x, y(x), color=colour)\n",
    "ax1.tick_params(axis='y', labelcolor=colour)\n",
    "\n",
    "#Create Second axis. twinx means that the new axes share the same x axis. twiny also exists.\n",
    "ax2 = ax1.twinx()\n",
    "\n",
    "#Set up Stress on second axis\n",
    "colour = 'tab:red'\n",
    "ax2.set_ylabel('y_2', color=colour)  # we already handled the x-label with ax1\n",
    "ax2.plot(x, z(x), color=colour)\n",
    "ax2.tick_params(axis='y', labelcolor=colour)\n",
    "ax2.set_ylim(ax1.get_ylim())\n",
    "\n",
    "#align_yaxis(ax1, ax2) # Function not of my design.\n",
    "\n",
    "fig.tight_layout()  # otherwise the right y-label is slightly clipped"
   ]
  },
  {
   "cell_type": "markdown",
   "metadata": {},
   "source": [
    "if statically displaying a plot (sometimes not necessary.....?)"
   ]
  },
  {
   "cell_type": "code",
   "execution_count": null,
   "metadata": {},
   "outputs": [],
   "source": [
    "plt.show()"
   ]
  },
  {
   "cell_type": "markdown",
   "metadata": {},
   "source": [
    "if dynamically updating"
   ]
  },
  {
   "cell_type": "code",
   "execution_count": null,
   "metadata": {},
   "outputs": [],
   "source": [
    "display.display(plt.gcf())"
   ]
  },
  {
   "cell_type": "markdown",
   "metadata": {},
   "source": [
    "then, to update (would have to be in same code block)"
   ]
  },
  {
   "cell_type": "code",
   "execution_count": null,
   "metadata": {},
   "outputs": [],
   "source": [
    "display.clear_output(wait=True)\n",
    "ax2.clear()\n",
    "\n",
    "colour = 'tab:red'\n",
    "ax2.set_ylabel('y_2', color='tab:red')  # we already handled the x-label with ax1\n",
    "ax2.plot(x, a(x), color='tab:red')\n",
    "# next line seems to have issues but should work.....\n",
    "#align_yaxis(ax1, ax2) # Function not of my design.\n",
    "\n",
    "display.display(plt.gcf())"
   ]
  }
 ],
 "metadata": {
  "kernelspec": {
   "display_name": "Python 3",
   "language": "python",
   "name": "python3"
  },
  "language_info": {
   "codemirror_mode": {
    "name": "ipython",
    "version": 3
   },
   "file_extension": ".py",
   "mimetype": "text/x-python",
   "name": "python",
   "nbconvert_exporter": "python",
   "pygments_lexer": "ipython3",
   "version": "3.6.9"
  }
 },
 "nbformat": 4,
 "nbformat_minor": 4
}
